{
 "cells": [
  {
   "cell_type": "markdown",
   "metadata": {},
   "source": [
    "# Unsupervised Learning Capstone Project - Twitter Text Clustering"
   ]
  },
  {
   "cell_type": "markdown",
   "metadata": {},
   "source": [
    "Twitter captures what's happening in the world and what people are talking about. Around 500 million tweets are sent each day, meaning 6000 a second. In this project, I focus on the conversations being had about George Floyd, the 46-year-old black man who died in Minneapolis, Minnesota, after police officer Derek Chauvin knelt on his neck for almost nine minutes. I attempt to cluster these conversations to get a better understand of what people around the country and the globe are saying about this event."
   ]
  },
  {
   "cell_type": "markdown",
   "metadata": {},
   "source": [
    "## Imports"
   ]
  },
  {
   "cell_type": "code",
   "execution_count": 83,
   "metadata": {},
   "outputs": [
    {
     "data": {
      "text/html": [
       "\n",
       "    <div class=\"bk-root\">\n",
       "        <a href=\"https://bokeh.pydata.org\" target=\"_blank\" class=\"bk-logo bk-logo-small bk-logo-notebook\"></a>\n",
       "        <span id=\"1005\">Loading BokehJS ...</span>\n",
       "    </div>"
      ]
     },
     "metadata": {},
     "output_type": "display_data"
    },
    {
     "data": {
      "application/javascript": [
       "\n",
       "(function(root) {\n",
       "  function now() {\n",
       "    return new Date();\n",
       "  }\n",
       "\n",
       "  var force = true;\n",
       "\n",
       "  if (typeof root._bokeh_onload_callbacks === \"undefined\" || force === true) {\n",
       "    root._bokeh_onload_callbacks = [];\n",
       "    root._bokeh_is_loading = undefined;\n",
       "  }\n",
       "\n",
       "  var JS_MIME_TYPE = 'application/javascript';\n",
       "  var HTML_MIME_TYPE = 'text/html';\n",
       "  var EXEC_MIME_TYPE = 'application/vnd.bokehjs_exec.v0+json';\n",
       "  var CLASS_NAME = 'output_bokeh rendered_html';\n",
       "\n",
       "  /**\n",
       "   * Render data to the DOM node\n",
       "   */\n",
       "  function render(props, node) {\n",
       "    var script = document.createElement(\"script\");\n",
       "    node.appendChild(script);\n",
       "  }\n",
       "\n",
       "  /**\n",
       "   * Handle when an output is cleared or removed\n",
       "   */\n",
       "  function handleClearOutput(event, handle) {\n",
       "    var cell = handle.cell;\n",
       "\n",
       "    var id = cell.output_area._bokeh_element_id;\n",
       "    var server_id = cell.output_area._bokeh_server_id;\n",
       "    // Clean up Bokeh references\n",
       "    if (id != null && id in Bokeh.index) {\n",
       "      Bokeh.index[id].model.document.clear();\n",
       "      delete Bokeh.index[id];\n",
       "    }\n",
       "\n",
       "    if (server_id !== undefined) {\n",
       "      // Clean up Bokeh references\n",
       "      var cmd = \"from bokeh.io.state import curstate; print(curstate().uuid_to_server['\" + server_id + \"'].get_sessions()[0].document.roots[0]._id)\";\n",
       "      cell.notebook.kernel.execute(cmd, {\n",
       "        iopub: {\n",
       "          output: function(msg) {\n",
       "            var id = msg.content.text.trim();\n",
       "            if (id in Bokeh.index) {\n",
       "              Bokeh.index[id].model.document.clear();\n",
       "              delete Bokeh.index[id];\n",
       "            }\n",
       "          }\n",
       "        }\n",
       "      });\n",
       "      // Destroy server and session\n",
       "      var cmd = \"import bokeh.io.notebook as ion; ion.destroy_server('\" + server_id + \"')\";\n",
       "      cell.notebook.kernel.execute(cmd);\n",
       "    }\n",
       "  }\n",
       "\n",
       "  /**\n",
       "   * Handle when a new output is added\n",
       "   */\n",
       "  function handleAddOutput(event, handle) {\n",
       "    var output_area = handle.output_area;\n",
       "    var output = handle.output;\n",
       "\n",
       "    // limit handleAddOutput to display_data with EXEC_MIME_TYPE content only\n",
       "    if ((output.output_type != \"display_data\") || (!output.data.hasOwnProperty(EXEC_MIME_TYPE))) {\n",
       "      return\n",
       "    }\n",
       "\n",
       "    var toinsert = output_area.element.find(\".\" + CLASS_NAME.split(' ')[0]);\n",
       "\n",
       "    if (output.metadata[EXEC_MIME_TYPE][\"id\"] !== undefined) {\n",
       "      toinsert[toinsert.length - 1].firstChild.textContent = output.data[JS_MIME_TYPE];\n",
       "      // store reference to embed id on output_area\n",
       "      output_area._bokeh_element_id = output.metadata[EXEC_MIME_TYPE][\"id\"];\n",
       "    }\n",
       "    if (output.metadata[EXEC_MIME_TYPE][\"server_id\"] !== undefined) {\n",
       "      var bk_div = document.createElement(\"div\");\n",
       "      bk_div.innerHTML = output.data[HTML_MIME_TYPE];\n",
       "      var script_attrs = bk_div.children[0].attributes;\n",
       "      for (var i = 0; i < script_attrs.length; i++) {\n",
       "        toinsert[toinsert.length - 1].firstChild.setAttribute(script_attrs[i].name, script_attrs[i].value);\n",
       "      }\n",
       "      // store reference to server id on output_area\n",
       "      output_area._bokeh_server_id = output.metadata[EXEC_MIME_TYPE][\"server_id\"];\n",
       "    }\n",
       "  }\n",
       "\n",
       "  function register_renderer(events, OutputArea) {\n",
       "\n",
       "    function append_mime(data, metadata, element) {\n",
       "      // create a DOM node to render to\n",
       "      var toinsert = this.create_output_subarea(\n",
       "        metadata,\n",
       "        CLASS_NAME,\n",
       "        EXEC_MIME_TYPE\n",
       "      );\n",
       "      this.keyboard_manager.register_events(toinsert);\n",
       "      // Render to node\n",
       "      var props = {data: data, metadata: metadata[EXEC_MIME_TYPE]};\n",
       "      render(props, toinsert[toinsert.length - 1]);\n",
       "      element.append(toinsert);\n",
       "      return toinsert\n",
       "    }\n",
       "\n",
       "    /* Handle when an output is cleared or removed */\n",
       "    events.on('clear_output.CodeCell', handleClearOutput);\n",
       "    events.on('delete.Cell', handleClearOutput);\n",
       "\n",
       "    /* Handle when a new output is added */\n",
       "    events.on('output_added.OutputArea', handleAddOutput);\n",
       "\n",
       "    /**\n",
       "     * Register the mime type and append_mime function with output_area\n",
       "     */\n",
       "    OutputArea.prototype.register_mime_type(EXEC_MIME_TYPE, append_mime, {\n",
       "      /* Is output safe? */\n",
       "      safe: true,\n",
       "      /* Index of renderer in `output_area.display_order` */\n",
       "      index: 0\n",
       "    });\n",
       "  }\n",
       "\n",
       "  // register the mime type if in Jupyter Notebook environment and previously unregistered\n",
       "  if (root.Jupyter !== undefined) {\n",
       "    var events = require('base/js/events');\n",
       "    var OutputArea = require('notebook/js/outputarea').OutputArea;\n",
       "\n",
       "    if (OutputArea.prototype.mime_types().indexOf(EXEC_MIME_TYPE) == -1) {\n",
       "      register_renderer(events, OutputArea);\n",
       "    }\n",
       "  }\n",
       "\n",
       "  \n",
       "  if (typeof (root._bokeh_timeout) === \"undefined\" || force === true) {\n",
       "    root._bokeh_timeout = Date.now() + 5000;\n",
       "    root._bokeh_failed_load = false;\n",
       "  }\n",
       "\n",
       "  var NB_LOAD_WARNING = {'data': {'text/html':\n",
       "     \"<div style='background-color: #fdd'>\\n\"+\n",
       "     \"<p>\\n\"+\n",
       "     \"BokehJS does not appear to have successfully loaded. If loading BokehJS from CDN, this \\n\"+\n",
       "     \"may be due to a slow or bad network connection. Possible fixes:\\n\"+\n",
       "     \"</p>\\n\"+\n",
       "     \"<ul>\\n\"+\n",
       "     \"<li>re-rerun `output_notebook()` to attempt to load from CDN again, or</li>\\n\"+\n",
       "     \"<li>use INLINE resources instead, as so:</li>\\n\"+\n",
       "     \"</ul>\\n\"+\n",
       "     \"<code>\\n\"+\n",
       "     \"from bokeh.resources import INLINE\\n\"+\n",
       "     \"output_notebook(resources=INLINE)\\n\"+\n",
       "     \"</code>\\n\"+\n",
       "     \"</div>\"}};\n",
       "\n",
       "  function display_loaded() {\n",
       "    var el = document.getElementById(\"1005\");\n",
       "    if (el != null) {\n",
       "      el.textContent = \"BokehJS is loading...\";\n",
       "    }\n",
       "    if (root.Bokeh !== undefined) {\n",
       "      if (el != null) {\n",
       "        el.textContent = \"BokehJS \" + root.Bokeh.version + \" successfully loaded.\";\n",
       "      }\n",
       "    } else if (Date.now() < root._bokeh_timeout) {\n",
       "      setTimeout(display_loaded, 100)\n",
       "    }\n",
       "  }\n",
       "\n",
       "\n",
       "  function run_callbacks() {\n",
       "    try {\n",
       "      root._bokeh_onload_callbacks.forEach(function(callback) {\n",
       "        if (callback != null)\n",
       "          callback();\n",
       "      });\n",
       "    } finally {\n",
       "      delete root._bokeh_onload_callbacks\n",
       "    }\n",
       "    console.debug(\"Bokeh: all callbacks have finished\");\n",
       "  }\n",
       "\n",
       "  function load_libs(css_urls, js_urls, callback) {\n",
       "    if (css_urls == null) css_urls = [];\n",
       "    if (js_urls == null) js_urls = [];\n",
       "\n",
       "    root._bokeh_onload_callbacks.push(callback);\n",
       "    if (root._bokeh_is_loading > 0) {\n",
       "      console.debug(\"Bokeh: BokehJS is being loaded, scheduling callback at\", now());\n",
       "      return null;\n",
       "    }\n",
       "    if (js_urls == null || js_urls.length === 0) {\n",
       "      run_callbacks();\n",
       "      return null;\n",
       "    }\n",
       "    console.debug(\"Bokeh: BokehJS not loaded, scheduling load and callback at\", now());\n",
       "    root._bokeh_is_loading = css_urls.length + js_urls.length;\n",
       "\n",
       "    function on_load() {\n",
       "      root._bokeh_is_loading--;\n",
       "      if (root._bokeh_is_loading === 0) {\n",
       "        console.debug(\"Bokeh: all BokehJS libraries/stylesheets loaded\");\n",
       "        run_callbacks()\n",
       "      }\n",
       "    }\n",
       "\n",
       "    function on_error() {\n",
       "      console.error(\"failed to load \" + url);\n",
       "    }\n",
       "\n",
       "    for (var i = 0; i < css_urls.length; i++) {\n",
       "      var url = css_urls[i];\n",
       "      const element = document.createElement(\"link\");\n",
       "      element.onload = on_load;\n",
       "      element.onerror = on_error;\n",
       "      element.rel = \"stylesheet\";\n",
       "      element.type = \"text/css\";\n",
       "      element.href = url;\n",
       "      console.debug(\"Bokeh: injecting link tag for BokehJS stylesheet: \", url);\n",
       "      document.body.appendChild(element);\n",
       "    }\n",
       "\n",
       "    for (var i = 0; i < js_urls.length; i++) {\n",
       "      var url = js_urls[i];\n",
       "      var element = document.createElement('script');\n",
       "      element.onload = on_load;\n",
       "      element.onerror = on_error;\n",
       "      element.async = false;\n",
       "      element.src = url;\n",
       "      console.debug(\"Bokeh: injecting script tag for BokehJS library: \", url);\n",
       "      document.head.appendChild(element);\n",
       "    }\n",
       "  };var element = document.getElementById(\"1005\");\n",
       "  if (element == null) {\n",
       "    console.error(\"Bokeh: ERROR: autoload.js configured with elementid '1005' but no matching script tag was found. \")\n",
       "    return false;\n",
       "  }\n",
       "\n",
       "  function inject_raw_css(css) {\n",
       "    const element = document.createElement(\"style\");\n",
       "    element.appendChild(document.createTextNode(css));\n",
       "    document.body.appendChild(element);\n",
       "  }\n",
       "\n",
       "  var js_urls = [\"https://cdn.pydata.org/bokeh/release/bokeh-1.2.0.min.js\", \"https://cdn.pydata.org/bokeh/release/bokeh-widgets-1.2.0.min.js\", \"https://cdn.pydata.org/bokeh/release/bokeh-tables-1.2.0.min.js\", \"https://cdn.pydata.org/bokeh/release/bokeh-gl-1.2.0.min.js\"];\n",
       "  var css_urls = [\"https://cdn.pydata.org/bokeh/release/bokeh-1.2.0.min.css\", \"https://cdn.pydata.org/bokeh/release/bokeh-widgets-1.2.0.min.css\", \"https://cdn.pydata.org/bokeh/release/bokeh-tables-1.2.0.min.css\"];\n",
       "\n",
       "  var inline_js = [\n",
       "    function(Bokeh) {\n",
       "      Bokeh.set_log_level(\"info\");\n",
       "    },\n",
       "    \n",
       "    function(Bokeh) {\n",
       "      \n",
       "    },\n",
       "    function(Bokeh) {} // ensure no trailing comma for IE\n",
       "  ];\n",
       "\n",
       "  function run_inline_js() {\n",
       "    \n",
       "    if ((root.Bokeh !== undefined) || (force === true)) {\n",
       "      for (var i = 0; i < inline_js.length; i++) {\n",
       "        inline_js[i].call(root, root.Bokeh);\n",
       "      }if (force === true) {\n",
       "        display_loaded();\n",
       "      }} else if (Date.now() < root._bokeh_timeout) {\n",
       "      setTimeout(run_inline_js, 100);\n",
       "    } else if (!root._bokeh_failed_load) {\n",
       "      console.log(\"Bokeh: BokehJS failed to load within specified timeout.\");\n",
       "      root._bokeh_failed_load = true;\n",
       "    } else if (force !== true) {\n",
       "      var cell = $(document.getElementById(\"1005\")).parents('.cell').data().cell;\n",
       "      cell.output_area.append_execute_result(NB_LOAD_WARNING)\n",
       "    }\n",
       "\n",
       "  }\n",
       "\n",
       "  if (root._bokeh_is_loading === 0) {\n",
       "    console.debug(\"Bokeh: BokehJS loaded, going straight to plotting\");\n",
       "    run_inline_js();\n",
       "  } else {\n",
       "    load_libs(css_urls, js_urls, function() {\n",
       "      console.debug(\"Bokeh: BokehJS plotting callback run at\", now());\n",
       "      run_inline_js();\n",
       "    });\n",
       "  }\n",
       "}(window));"
      ],
      "application/vnd.bokehjs_load.v0+json": "\n(function(root) {\n  function now() {\n    return new Date();\n  }\n\n  var force = true;\n\n  if (typeof root._bokeh_onload_callbacks === \"undefined\" || force === true) {\n    root._bokeh_onload_callbacks = [];\n    root._bokeh_is_loading = undefined;\n  }\n\n  \n\n  \n  if (typeof (root._bokeh_timeout) === \"undefined\" || force === true) {\n    root._bokeh_timeout = Date.now() + 5000;\n    root._bokeh_failed_load = false;\n  }\n\n  var NB_LOAD_WARNING = {'data': {'text/html':\n     \"<div style='background-color: #fdd'>\\n\"+\n     \"<p>\\n\"+\n     \"BokehJS does not appear to have successfully loaded. If loading BokehJS from CDN, this \\n\"+\n     \"may be due to a slow or bad network connection. Possible fixes:\\n\"+\n     \"</p>\\n\"+\n     \"<ul>\\n\"+\n     \"<li>re-rerun `output_notebook()` to attempt to load from CDN again, or</li>\\n\"+\n     \"<li>use INLINE resources instead, as so:</li>\\n\"+\n     \"</ul>\\n\"+\n     \"<code>\\n\"+\n     \"from bokeh.resources import INLINE\\n\"+\n     \"output_notebook(resources=INLINE)\\n\"+\n     \"</code>\\n\"+\n     \"</div>\"}};\n\n  function display_loaded() {\n    var el = document.getElementById(\"1005\");\n    if (el != null) {\n      el.textContent = \"BokehJS is loading...\";\n    }\n    if (root.Bokeh !== undefined) {\n      if (el != null) {\n        el.textContent = \"BokehJS \" + root.Bokeh.version + \" successfully loaded.\";\n      }\n    } else if (Date.now() < root._bokeh_timeout) {\n      setTimeout(display_loaded, 100)\n    }\n  }\n\n\n  function run_callbacks() {\n    try {\n      root._bokeh_onload_callbacks.forEach(function(callback) {\n        if (callback != null)\n          callback();\n      });\n    } finally {\n      delete root._bokeh_onload_callbacks\n    }\n    console.debug(\"Bokeh: all callbacks have finished\");\n  }\n\n  function load_libs(css_urls, js_urls, callback) {\n    if (css_urls == null) css_urls = [];\n    if (js_urls == null) js_urls = [];\n\n    root._bokeh_onload_callbacks.push(callback);\n    if (root._bokeh_is_loading > 0) {\n      console.debug(\"Bokeh: BokehJS is being loaded, scheduling callback at\", now());\n      return null;\n    }\n    if (js_urls == null || js_urls.length === 0) {\n      run_callbacks();\n      return null;\n    }\n    console.debug(\"Bokeh: BokehJS not loaded, scheduling load and callback at\", now());\n    root._bokeh_is_loading = css_urls.length + js_urls.length;\n\n    function on_load() {\n      root._bokeh_is_loading--;\n      if (root._bokeh_is_loading === 0) {\n        console.debug(\"Bokeh: all BokehJS libraries/stylesheets loaded\");\n        run_callbacks()\n      }\n    }\n\n    function on_error() {\n      console.error(\"failed to load \" + url);\n    }\n\n    for (var i = 0; i < css_urls.length; i++) {\n      var url = css_urls[i];\n      const element = document.createElement(\"link\");\n      element.onload = on_load;\n      element.onerror = on_error;\n      element.rel = \"stylesheet\";\n      element.type = \"text/css\";\n      element.href = url;\n      console.debug(\"Bokeh: injecting link tag for BokehJS stylesheet: \", url);\n      document.body.appendChild(element);\n    }\n\n    for (var i = 0; i < js_urls.length; i++) {\n      var url = js_urls[i];\n      var element = document.createElement('script');\n      element.onload = on_load;\n      element.onerror = on_error;\n      element.async = false;\n      element.src = url;\n      console.debug(\"Bokeh: injecting script tag for BokehJS library: \", url);\n      document.head.appendChild(element);\n    }\n  };var element = document.getElementById(\"1005\");\n  if (element == null) {\n    console.error(\"Bokeh: ERROR: autoload.js configured with elementid '1005' but no matching script tag was found. \")\n    return false;\n  }\n\n  function inject_raw_css(css) {\n    const element = document.createElement(\"style\");\n    element.appendChild(document.createTextNode(css));\n    document.body.appendChild(element);\n  }\n\n  var js_urls = [\"https://cdn.pydata.org/bokeh/release/bokeh-1.2.0.min.js\", \"https://cdn.pydata.org/bokeh/release/bokeh-widgets-1.2.0.min.js\", \"https://cdn.pydata.org/bokeh/release/bokeh-tables-1.2.0.min.js\", \"https://cdn.pydata.org/bokeh/release/bokeh-gl-1.2.0.min.js\"];\n  var css_urls = [\"https://cdn.pydata.org/bokeh/release/bokeh-1.2.0.min.css\", \"https://cdn.pydata.org/bokeh/release/bokeh-widgets-1.2.0.min.css\", \"https://cdn.pydata.org/bokeh/release/bokeh-tables-1.2.0.min.css\"];\n\n  var inline_js = [\n    function(Bokeh) {\n      Bokeh.set_log_level(\"info\");\n    },\n    \n    function(Bokeh) {\n      \n    },\n    function(Bokeh) {} // ensure no trailing comma for IE\n  ];\n\n  function run_inline_js() {\n    \n    if ((root.Bokeh !== undefined) || (force === true)) {\n      for (var i = 0; i < inline_js.length; i++) {\n        inline_js[i].call(root, root.Bokeh);\n      }if (force === true) {\n        display_loaded();\n      }} else if (Date.now() < root._bokeh_timeout) {\n      setTimeout(run_inline_js, 100);\n    } else if (!root._bokeh_failed_load) {\n      console.log(\"Bokeh: BokehJS failed to load within specified timeout.\");\n      root._bokeh_failed_load = true;\n    } else if (force !== true) {\n      var cell = $(document.getElementById(\"1005\")).parents('.cell').data().cell;\n      cell.output_area.append_execute_result(NB_LOAD_WARNING)\n    }\n\n  }\n\n  if (root._bokeh_is_loading === 0) {\n    console.debug(\"Bokeh: BokehJS loaded, going straight to plotting\");\n    run_inline_js();\n  } else {\n    load_libs(css_urls, js_urls, function() {\n      console.debug(\"Bokeh: BokehJS plotting callback run at\", now());\n      run_inline_js();\n    });\n  }\n}(window));"
     },
     "metadata": {},
     "output_type": "display_data"
    }
   ],
   "source": [
    "from collections import Counter\n",
    "import itertools as it\n",
    "import json\n",
    "import logging\n",
    "import os\n",
    "import re\n",
    "import string\n",
    "import sys\n",
    "\n",
    "import tweepy\n",
    "import jsonpickle\n",
    "from bokeh.plotting import figure, ColumnDataSource, show, output_notebook; output_notebook()\n",
    "from bokeh.models import HoverTool\n",
    "from bokeh.palettes import brewer, Viridis256\n",
    "import matplotlib.pyplot as plt\n",
    "from nltk.util import everygrams\n",
    "from nltk.tokenize.casual import TweetTokenizer\n",
    "import numpy as np\n",
    "import pandas as pd\n",
    "import seaborn as sns\n",
    "from sklearn.externals import joblib\n",
    "from sklearn.cluster import KMeans\n",
    "from sklearn.feature_extraction.text import TfidfVectorizer\n",
    "from sklearn.metrics import silhouette_score, adjusted_rand_score\n",
    "from sklearn.decomposition import TruncatedSVD\n",
    "from stop_words import get_stop_words\n",
    "from tweet_parser.tweet import Tweet\n",
    "from searchtweets import load_credentials, gen_rule_payload, collect_results\n",
    "from sklearn.cluster import AgglomerativeClustering\n",
    "from nltk.tokenize import word_tokenize\n",
    "from nltk.corpus import stopwords\n",
    "from sklearn.decomposition import PCA\n",
    "from sklearn.cluster import DBSCAN\n",
    "from sklearn.mixture import GaussianMixture\n",
    "from scipy.cluster.hierarchy import dendrogram, linkage\n",
    "from sklearn.manifold import TSNE\n",
    "import umap\n",
    "import nltk\n",
    "import yaml\n",
    "\n",
    "seed = 42\n",
    "\n",
    "# better viewing of tweet text\n",
    "pd.options.display.max_colwidth = 350"
   ]
  },
  {
   "cell_type": "code",
   "execution_count": 1,
   "metadata": {},
   "outputs": [
    {
     "data": {
      "text/html": [
       "\n",
       "    <div class=\"bk-root\">\n",
       "        <a href=\"https://bokeh.pydata.org\" target=\"_blank\" class=\"bk-logo bk-logo-small bk-logo-notebook\"></a>\n",
       "        <span id=\"1001\">Loading BokehJS ...</span>\n",
       "    </div>"
      ]
     },
     "metadata": {},
     "output_type": "display_data"
    },
    {
     "data": {
      "application/javascript": [
       "\n",
       "(function(root) {\n",
       "  function now() {\n",
       "    return new Date();\n",
       "  }\n",
       "\n",
       "  var force = true;\n",
       "\n",
       "  if (typeof root._bokeh_onload_callbacks === \"undefined\" || force === true) {\n",
       "    root._bokeh_onload_callbacks = [];\n",
       "    root._bokeh_is_loading = undefined;\n",
       "  }\n",
       "\n",
       "  var JS_MIME_TYPE = 'application/javascript';\n",
       "  var HTML_MIME_TYPE = 'text/html';\n",
       "  var EXEC_MIME_TYPE = 'application/vnd.bokehjs_exec.v0+json';\n",
       "  var CLASS_NAME = 'output_bokeh rendered_html';\n",
       "\n",
       "  /**\n",
       "   * Render data to the DOM node\n",
       "   */\n",
       "  function render(props, node) {\n",
       "    var script = document.createElement(\"script\");\n",
       "    node.appendChild(script);\n",
       "  }\n",
       "\n",
       "  /**\n",
       "   * Handle when an output is cleared or removed\n",
       "   */\n",
       "  function handleClearOutput(event, handle) {\n",
       "    var cell = handle.cell;\n",
       "\n",
       "    var id = cell.output_area._bokeh_element_id;\n",
       "    var server_id = cell.output_area._bokeh_server_id;\n",
       "    // Clean up Bokeh references\n",
       "    if (id != null && id in Bokeh.index) {\n",
       "      Bokeh.index[id].model.document.clear();\n",
       "      delete Bokeh.index[id];\n",
       "    }\n",
       "\n",
       "    if (server_id !== undefined) {\n",
       "      // Clean up Bokeh references\n",
       "      var cmd = \"from bokeh.io.state import curstate; print(curstate().uuid_to_server['\" + server_id + \"'].get_sessions()[0].document.roots[0]._id)\";\n",
       "      cell.notebook.kernel.execute(cmd, {\n",
       "        iopub: {\n",
       "          output: function(msg) {\n",
       "            var id = msg.content.text.trim();\n",
       "            if (id in Bokeh.index) {\n",
       "              Bokeh.index[id].model.document.clear();\n",
       "              delete Bokeh.index[id];\n",
       "            }\n",
       "          }\n",
       "        }\n",
       "      });\n",
       "      // Destroy server and session\n",
       "      var cmd = \"import bokeh.io.notebook as ion; ion.destroy_server('\" + server_id + \"')\";\n",
       "      cell.notebook.kernel.execute(cmd);\n",
       "    }\n",
       "  }\n",
       "\n",
       "  /**\n",
       "   * Handle when a new output is added\n",
       "   */\n",
       "  function handleAddOutput(event, handle) {\n",
       "    var output_area = handle.output_area;\n",
       "    var output = handle.output;\n",
       "\n",
       "    // limit handleAddOutput to display_data with EXEC_MIME_TYPE content only\n",
       "    if ((output.output_type != \"display_data\") || (!output.data.hasOwnProperty(EXEC_MIME_TYPE))) {\n",
       "      return\n",
       "    }\n",
       "\n",
       "    var toinsert = output_area.element.find(\".\" + CLASS_NAME.split(' ')[0]);\n",
       "\n",
       "    if (output.metadata[EXEC_MIME_TYPE][\"id\"] !== undefined) {\n",
       "      toinsert[toinsert.length - 1].firstChild.textContent = output.data[JS_MIME_TYPE];\n",
       "      // store reference to embed id on output_area\n",
       "      output_area._bokeh_element_id = output.metadata[EXEC_MIME_TYPE][\"id\"];\n",
       "    }\n",
       "    if (output.metadata[EXEC_MIME_TYPE][\"server_id\"] !== undefined) {\n",
       "      var bk_div = document.createElement(\"div\");\n",
       "      bk_div.innerHTML = output.data[HTML_MIME_TYPE];\n",
       "      var script_attrs = bk_div.children[0].attributes;\n",
       "      for (var i = 0; i < script_attrs.length; i++) {\n",
       "        toinsert[toinsert.length - 1].firstChild.setAttribute(script_attrs[i].name, script_attrs[i].value);\n",
       "      }\n",
       "      // store reference to server id on output_area\n",
       "      output_area._bokeh_server_id = output.metadata[EXEC_MIME_TYPE][\"server_id\"];\n",
       "    }\n",
       "  }\n",
       "\n",
       "  function register_renderer(events, OutputArea) {\n",
       "\n",
       "    function append_mime(data, metadata, element) {\n",
       "      // create a DOM node to render to\n",
       "      var toinsert = this.create_output_subarea(\n",
       "        metadata,\n",
       "        CLASS_NAME,\n",
       "        EXEC_MIME_TYPE\n",
       "      );\n",
       "      this.keyboard_manager.register_events(toinsert);\n",
       "      // Render to node\n",
       "      var props = {data: data, metadata: metadata[EXEC_MIME_TYPE]};\n",
       "      render(props, toinsert[toinsert.length - 1]);\n",
       "      element.append(toinsert);\n",
       "      return toinsert\n",
       "    }\n",
       "\n",
       "    /* Handle when an output is cleared or removed */\n",
       "    events.on('clear_output.CodeCell', handleClearOutput);\n",
       "    events.on('delete.Cell', handleClearOutput);\n",
       "\n",
       "    /* Handle when a new output is added */\n",
       "    events.on('output_added.OutputArea', handleAddOutput);\n",
       "\n",
       "    /**\n",
       "     * Register the mime type and append_mime function with output_area\n",
       "     */\n",
       "    OutputArea.prototype.register_mime_type(EXEC_MIME_TYPE, append_mime, {\n",
       "      /* Is output safe? */\n",
       "      safe: true,\n",
       "      /* Index of renderer in `output_area.display_order` */\n",
       "      index: 0\n",
       "    });\n",
       "  }\n",
       "\n",
       "  // register the mime type if in Jupyter Notebook environment and previously unregistered\n",
       "  if (root.Jupyter !== undefined) {\n",
       "    var events = require('base/js/events');\n",
       "    var OutputArea = require('notebook/js/outputarea').OutputArea;\n",
       "\n",
       "    if (OutputArea.prototype.mime_types().indexOf(EXEC_MIME_TYPE) == -1) {\n",
       "      register_renderer(events, OutputArea);\n",
       "    }\n",
       "  }\n",
       "\n",
       "  \n",
       "  if (typeof (root._bokeh_timeout) === \"undefined\" || force === true) {\n",
       "    root._bokeh_timeout = Date.now() + 5000;\n",
       "    root._bokeh_failed_load = false;\n",
       "  }\n",
       "\n",
       "  var NB_LOAD_WARNING = {'data': {'text/html':\n",
       "     \"<div style='background-color: #fdd'>\\n\"+\n",
       "     \"<p>\\n\"+\n",
       "     \"BokehJS does not appear to have successfully loaded. If loading BokehJS from CDN, this \\n\"+\n",
       "     \"may be due to a slow or bad network connection. Possible fixes:\\n\"+\n",
       "     \"</p>\\n\"+\n",
       "     \"<ul>\\n\"+\n",
       "     \"<li>re-rerun `output_notebook()` to attempt to load from CDN again, or</li>\\n\"+\n",
       "     \"<li>use INLINE resources instead, as so:</li>\\n\"+\n",
       "     \"</ul>\\n\"+\n",
       "     \"<code>\\n\"+\n",
       "     \"from bokeh.resources import INLINE\\n\"+\n",
       "     \"output_notebook(resources=INLINE)\\n\"+\n",
       "     \"</code>\\n\"+\n",
       "     \"</div>\"}};\n",
       "\n",
       "  function display_loaded() {\n",
       "    var el = document.getElementById(\"1001\");\n",
       "    if (el != null) {\n",
       "      el.textContent = \"BokehJS is loading...\";\n",
       "    }\n",
       "    if (root.Bokeh !== undefined) {\n",
       "      if (el != null) {\n",
       "        el.textContent = \"BokehJS \" + root.Bokeh.version + \" successfully loaded.\";\n",
       "      }\n",
       "    } else if (Date.now() < root._bokeh_timeout) {\n",
       "      setTimeout(display_loaded, 100)\n",
       "    }\n",
       "  }\n",
       "\n",
       "\n",
       "  function run_callbacks() {\n",
       "    try {\n",
       "      root._bokeh_onload_callbacks.forEach(function(callback) {\n",
       "        if (callback != null)\n",
       "          callback();\n",
       "      });\n",
       "    } finally {\n",
       "      delete root._bokeh_onload_callbacks\n",
       "    }\n",
       "    console.debug(\"Bokeh: all callbacks have finished\");\n",
       "  }\n",
       "\n",
       "  function load_libs(css_urls, js_urls, callback) {\n",
       "    if (css_urls == null) css_urls = [];\n",
       "    if (js_urls == null) js_urls = [];\n",
       "\n",
       "    root._bokeh_onload_callbacks.push(callback);\n",
       "    if (root._bokeh_is_loading > 0) {\n",
       "      console.debug(\"Bokeh: BokehJS is being loaded, scheduling callback at\", now());\n",
       "      return null;\n",
       "    }\n",
       "    if (js_urls == null || js_urls.length === 0) {\n",
       "      run_callbacks();\n",
       "      return null;\n",
       "    }\n",
       "    console.debug(\"Bokeh: BokehJS not loaded, scheduling load and callback at\", now());\n",
       "    root._bokeh_is_loading = css_urls.length + js_urls.length;\n",
       "\n",
       "    function on_load() {\n",
       "      root._bokeh_is_loading--;\n",
       "      if (root._bokeh_is_loading === 0) {\n",
       "        console.debug(\"Bokeh: all BokehJS libraries/stylesheets loaded\");\n",
       "        run_callbacks()\n",
       "      }\n",
       "    }\n",
       "\n",
       "    function on_error() {\n",
       "      console.error(\"failed to load \" + url);\n",
       "    }\n",
       "\n",
       "    for (var i = 0; i < css_urls.length; i++) {\n",
       "      var url = css_urls[i];\n",
       "      const element = document.createElement(\"link\");\n",
       "      element.onload = on_load;\n",
       "      element.onerror = on_error;\n",
       "      element.rel = \"stylesheet\";\n",
       "      element.type = \"text/css\";\n",
       "      element.href = url;\n",
       "      console.debug(\"Bokeh: injecting link tag for BokehJS stylesheet: \", url);\n",
       "      document.body.appendChild(element);\n",
       "    }\n",
       "\n",
       "    for (var i = 0; i < js_urls.length; i++) {\n",
       "      var url = js_urls[i];\n",
       "      var element = document.createElement('script');\n",
       "      element.onload = on_load;\n",
       "      element.onerror = on_error;\n",
       "      element.async = false;\n",
       "      element.src = url;\n",
       "      console.debug(\"Bokeh: injecting script tag for BokehJS library: \", url);\n",
       "      document.head.appendChild(element);\n",
       "    }\n",
       "  };var element = document.getElementById(\"1001\");\n",
       "  if (element == null) {\n",
       "    console.error(\"Bokeh: ERROR: autoload.js configured with elementid '1001' but no matching script tag was found. \")\n",
       "    return false;\n",
       "  }\n",
       "\n",
       "  function inject_raw_css(css) {\n",
       "    const element = document.createElement(\"style\");\n",
       "    element.appendChild(document.createTextNode(css));\n",
       "    document.body.appendChild(element);\n",
       "  }\n",
       "\n",
       "  var js_urls = [\"https://cdn.pydata.org/bokeh/release/bokeh-1.2.0.min.js\", \"https://cdn.pydata.org/bokeh/release/bokeh-widgets-1.2.0.min.js\", \"https://cdn.pydata.org/bokeh/release/bokeh-tables-1.2.0.min.js\", \"https://cdn.pydata.org/bokeh/release/bokeh-gl-1.2.0.min.js\"];\n",
       "  var css_urls = [\"https://cdn.pydata.org/bokeh/release/bokeh-1.2.0.min.css\", \"https://cdn.pydata.org/bokeh/release/bokeh-widgets-1.2.0.min.css\", \"https://cdn.pydata.org/bokeh/release/bokeh-tables-1.2.0.min.css\"];\n",
       "\n",
       "  var inline_js = [\n",
       "    function(Bokeh) {\n",
       "      Bokeh.set_log_level(\"info\");\n",
       "    },\n",
       "    \n",
       "    function(Bokeh) {\n",
       "      \n",
       "    },\n",
       "    function(Bokeh) {} // ensure no trailing comma for IE\n",
       "  ];\n",
       "\n",
       "  function run_inline_js() {\n",
       "    \n",
       "    if ((root.Bokeh !== undefined) || (force === true)) {\n",
       "      for (var i = 0; i < inline_js.length; i++) {\n",
       "        inline_js[i].call(root, root.Bokeh);\n",
       "      }if (force === true) {\n",
       "        display_loaded();\n",
       "      }} else if (Date.now() < root._bokeh_timeout) {\n",
       "      setTimeout(run_inline_js, 100);\n",
       "    } else if (!root._bokeh_failed_load) {\n",
       "      console.log(\"Bokeh: BokehJS failed to load within specified timeout.\");\n",
       "      root._bokeh_failed_load = true;\n",
       "    } else if (force !== true) {\n",
       "      var cell = $(document.getElementById(\"1001\")).parents('.cell').data().cell;\n",
       "      cell.output_area.append_execute_result(NB_LOAD_WARNING)\n",
       "    }\n",
       "\n",
       "  }\n",
       "\n",
       "  if (root._bokeh_is_loading === 0) {\n",
       "    console.debug(\"Bokeh: BokehJS loaded, going straight to plotting\");\n",
       "    run_inline_js();\n",
       "  } else {\n",
       "    load_libs(css_urls, js_urls, function() {\n",
       "      console.debug(\"Bokeh: BokehJS plotting callback run at\", now());\n",
       "      run_inline_js();\n",
       "    });\n",
       "  }\n",
       "}(window));"
      ],
      "application/vnd.bokehjs_load.v0+json": "\n(function(root) {\n  function now() {\n    return new Date();\n  }\n\n  var force = true;\n\n  if (typeof root._bokeh_onload_callbacks === \"undefined\" || force === true) {\n    root._bokeh_onload_callbacks = [];\n    root._bokeh_is_loading = undefined;\n  }\n\n  \n\n  \n  if (typeof (root._bokeh_timeout) === \"undefined\" || force === true) {\n    root._bokeh_timeout = Date.now() + 5000;\n    root._bokeh_failed_load = false;\n  }\n\n  var NB_LOAD_WARNING = {'data': {'text/html':\n     \"<div style='background-color: #fdd'>\\n\"+\n     \"<p>\\n\"+\n     \"BokehJS does not appear to have successfully loaded. If loading BokehJS from CDN, this \\n\"+\n     \"may be due to a slow or bad network connection. Possible fixes:\\n\"+\n     \"</p>\\n\"+\n     \"<ul>\\n\"+\n     \"<li>re-rerun `output_notebook()` to attempt to load from CDN again, or</li>\\n\"+\n     \"<li>use INLINE resources instead, as so:</li>\\n\"+\n     \"</ul>\\n\"+\n     \"<code>\\n\"+\n     \"from bokeh.resources import INLINE\\n\"+\n     \"output_notebook(resources=INLINE)\\n\"+\n     \"</code>\\n\"+\n     \"</div>\"}};\n\n  function display_loaded() {\n    var el = document.getElementById(\"1001\");\n    if (el != null) {\n      el.textContent = \"BokehJS is loading...\";\n    }\n    if (root.Bokeh !== undefined) {\n      if (el != null) {\n        el.textContent = \"BokehJS \" + root.Bokeh.version + \" successfully loaded.\";\n      }\n    } else if (Date.now() < root._bokeh_timeout) {\n      setTimeout(display_loaded, 100)\n    }\n  }\n\n\n  function run_callbacks() {\n    try {\n      root._bokeh_onload_callbacks.forEach(function(callback) {\n        if (callback != null)\n          callback();\n      });\n    } finally {\n      delete root._bokeh_onload_callbacks\n    }\n    console.debug(\"Bokeh: all callbacks have finished\");\n  }\n\n  function load_libs(css_urls, js_urls, callback) {\n    if (css_urls == null) css_urls = [];\n    if (js_urls == null) js_urls = [];\n\n    root._bokeh_onload_callbacks.push(callback);\n    if (root._bokeh_is_loading > 0) {\n      console.debug(\"Bokeh: BokehJS is being loaded, scheduling callback at\", now());\n      return null;\n    }\n    if (js_urls == null || js_urls.length === 0) {\n      run_callbacks();\n      return null;\n    }\n    console.debug(\"Bokeh: BokehJS not loaded, scheduling load and callback at\", now());\n    root._bokeh_is_loading = css_urls.length + js_urls.length;\n\n    function on_load() {\n      root._bokeh_is_loading--;\n      if (root._bokeh_is_loading === 0) {\n        console.debug(\"Bokeh: all BokehJS libraries/stylesheets loaded\");\n        run_callbacks()\n      }\n    }\n\n    function on_error() {\n      console.error(\"failed to load \" + url);\n    }\n\n    for (var i = 0; i < css_urls.length; i++) {\n      var url = css_urls[i];\n      const element = document.createElement(\"link\");\n      element.onload = on_load;\n      element.onerror = on_error;\n      element.rel = \"stylesheet\";\n      element.type = \"text/css\";\n      element.href = url;\n      console.debug(\"Bokeh: injecting link tag for BokehJS stylesheet: \", url);\n      document.body.appendChild(element);\n    }\n\n    for (var i = 0; i < js_urls.length; i++) {\n      var url = js_urls[i];\n      var element = document.createElement('script');\n      element.onload = on_load;\n      element.onerror = on_error;\n      element.async = false;\n      element.src = url;\n      console.debug(\"Bokeh: injecting script tag for BokehJS library: \", url);\n      document.head.appendChild(element);\n    }\n  };var element = document.getElementById(\"1001\");\n  if (element == null) {\n    console.error(\"Bokeh: ERROR: autoload.js configured with elementid '1001' but no matching script tag was found. \")\n    return false;\n  }\n\n  function inject_raw_css(css) {\n    const element = document.createElement(\"style\");\n    element.appendChild(document.createTextNode(css));\n    document.body.appendChild(element);\n  }\n\n  var js_urls = [\"https://cdn.pydata.org/bokeh/release/bokeh-1.2.0.min.js\", \"https://cdn.pydata.org/bokeh/release/bokeh-widgets-1.2.0.min.js\", \"https://cdn.pydata.org/bokeh/release/bokeh-tables-1.2.0.min.js\", \"https://cdn.pydata.org/bokeh/release/bokeh-gl-1.2.0.min.js\"];\n  var css_urls = [\"https://cdn.pydata.org/bokeh/release/bokeh-1.2.0.min.css\", \"https://cdn.pydata.org/bokeh/release/bokeh-widgets-1.2.0.min.css\", \"https://cdn.pydata.org/bokeh/release/bokeh-tables-1.2.0.min.css\"];\n\n  var inline_js = [\n    function(Bokeh) {\n      Bokeh.set_log_level(\"info\");\n    },\n    \n    function(Bokeh) {\n      \n    },\n    function(Bokeh) {} // ensure no trailing comma for IE\n  ];\n\n  function run_inline_js() {\n    \n    if ((root.Bokeh !== undefined) || (force === true)) {\n      for (var i = 0; i < inline_js.length; i++) {\n        inline_js[i].call(root, root.Bokeh);\n      }if (force === true) {\n        display_loaded();\n      }} else if (Date.now() < root._bokeh_timeout) {\n      setTimeout(run_inline_js, 100);\n    } else if (!root._bokeh_failed_load) {\n      console.log(\"Bokeh: BokehJS failed to load within specified timeout.\");\n      root._bokeh_failed_load = true;\n    } else if (force !== true) {\n      var cell = $(document.getElementById(\"1001\")).parents('.cell').data().cell;\n      cell.output_area.append_execute_result(NB_LOAD_WARNING)\n    }\n\n  }\n\n  if (root._bokeh_is_loading === 0) {\n    console.debug(\"Bokeh: BokehJS loaded, going straight to plotting\");\n    run_inline_js();\n  } else {\n    load_libs(css_urls, js_urls, function() {\n      console.debug(\"Bokeh: BokehJS plotting callback run at\", now());\n      run_inline_js();\n    });\n  }\n}(window));"
     },
     "metadata": {},
     "output_type": "display_data"
    },
    {
     "name": "stderr",
     "output_type": "stream",
     "text": [
      "C:\\Users\\sebar\\Anaconda3\\lib\\site-packages\\statsmodels\\tools\\_testing.py:19: FutureWarning: pandas.util.testing is deprecated. Use the functions in the public API at pandas.testing instead.\n",
      "  import pandas.util.testing as tm\n",
      "C:\\Users\\sebar\\Anaconda3\\lib\\site-packages\\sklearn\\externals\\joblib\\__init__.py:15: FutureWarning: sklearn.externals.joblib is deprecated in 0.21 and will be removed in 0.23. Please import this functionality directly from joblib, which can be installed with: pip install joblib. If this warning is raised when loading pickled models, you may need to re-serialize those models with scikit-learn 0.21+.\n",
      "  warnings.warn(msg, category=FutureWarning)\n",
      "[nltk_data] Downloading package stopwords to\n",
      "[nltk_data]     C:\\Users\\sebar\\AppData\\Roaming\\nltk_data...\n",
      "[nltk_data]   Package stopwords is already up-to-date!\n"
     ]
    }
   ],
   "source": [
    "nltk.download('stopwords')\n",
    "set(stopwords.words('english'))"
   ]
  },
  {
   "cell_type": "markdown",
   "metadata": {},
   "source": [
    "# API Credential Authentication"
   ]
  },
  {
   "cell_type": "code",
   "execution_count": 2,
   "metadata": {},
   "outputs": [],
   "source": [
    "# Replace the API_KEY and API_SECRET with your application's key and secret.\n",
    "auth = tweepy.AppAuthHandler('lJH7kNKa4dqYmYkokpaZHy8NB', 'G0BI6qiWFoMzwWCaCa30y5MmWfNFIhh2xI7hua10iAycSZ8aa1')\n",
    "\n",
    "api = tweepy.API(auth, wait_on_rate_limit=True, wait_on_rate_limit_notify=True)\n",
    "\n",
    "if (not api):\n",
    "    print (\"Can't Authenticate\")\n",
    "    sys.exit(-1)\n",
    "\n",
    "# Continue with rest of code"
   ]
  },
  {
   "cell_type": "markdown",
   "metadata": {},
   "source": [
    "## Twitter Scrape"
   ]
  },
  {
   "cell_type": "markdown",
   "metadata": {},
   "source": [
    "Initially, we were getting a very large amount of duplicate tweets, such that a 30,000 row dataframe actually contained only 573 unique values. Thus, I filtered out retweets and added some code in the loop below to scrape tweets only once. However, because the API has a cap on how many tweets you can scrape per time interval, my dataframe size was now constrained by the amount of time it took to scrape it. Thus, I made the decision to reduce the target size of my dataframe to 10,000 tweets, which took a bit over three hours to compile."
   ]
  },
  {
   "cell_type": "code",
   "execution_count": 329,
   "metadata": {},
   "outputs": [
    {
     "name": "stdout",
     "output_type": "stream",
     "text": [
      "Downloading max 10000 tweets\n",
      "Downloaded 600 tweets\n",
      "Downloaded 800 tweets\n"
     ]
    },
    {
     "name": "stderr",
     "output_type": "stream",
     "text": [
      "Rate limit reached. Sleeping for: 544\n"
     ]
    },
    {
     "name": "stdout",
     "output_type": "stream",
     "text": [
      "Downloaded 1000 tweets\n",
      "Downloaded 1000 tweets\n",
      "Downloaded 1200 tweets\n",
      "Downloaded 1200 tweets\n",
      "Downloaded 1400 tweets\n"
     ]
    },
    {
     "name": "stderr",
     "output_type": "stream",
     "text": [
      "Rate limit reached. Sleeping for: 588\n"
     ]
    },
    {
     "name": "stdout",
     "output_type": "stream",
     "text": [
      "Downloaded 2200 tweets\n"
     ]
    },
    {
     "name": "stderr",
     "output_type": "stream",
     "text": [
      "Rate limit reached. Sleeping for: 532\n"
     ]
    },
    {
     "name": "stdout",
     "output_type": "stream",
     "text": [
      "Downloaded 2800 tweets\n",
      "Downloaded 3000 tweets\n",
      "Downloaded 3000 tweets\n"
     ]
    },
    {
     "name": "stderr",
     "output_type": "stream",
     "text": [
      "Rate limit reached. Sleeping for: 500\n"
     ]
    },
    {
     "name": "stdout",
     "output_type": "stream",
     "text": [
      "Downloaded 3800 tweets\n",
      "Downloaded 4200 tweets\n"
     ]
    },
    {
     "name": "stderr",
     "output_type": "stream",
     "text": [
      "Rate limit reached. Sleeping for: 483\n"
     ]
    },
    {
     "name": "stdout",
     "output_type": "stream",
     "text": [
      "Downloaded 4800 tweets\n",
      "Downloaded 5400 tweets\n"
     ]
    },
    {
     "name": "stderr",
     "output_type": "stream",
     "text": [
      "Rate limit reached. Sleeping for: 459\n"
     ]
    },
    {
     "name": "stdout",
     "output_type": "stream",
     "text": [
      "Downloaded 5800 tweets\n",
      "Downloaded 5800 tweets\n",
      "Downloaded 5800 tweets\n",
      "Downloaded 5800 tweets\n",
      "Downloaded 5800 tweets\n",
      "Downloaded 5800 tweets\n",
      "Downloaded 5800 tweets\n",
      "Downloaded 5800 tweets\n",
      "Downloaded 5800 tweets\n",
      "Downloaded 6400 tweets\n"
     ]
    },
    {
     "name": "stderr",
     "output_type": "stream",
     "text": [
      "Rate limit reached. Sleeping for: 423\n"
     ]
    },
    {
     "name": "stdout",
     "output_type": "stream",
     "text": [
      "Downloaded 6800 tweets\n",
      "Downloaded 6800 tweets\n",
      "Downloaded 7400 tweets\n",
      "Downloaded 7600 tweets\n"
     ]
    },
    {
     "name": "stderr",
     "output_type": "stream",
     "text": [
      "Rate limit reached. Sleeping for: 346\n"
     ]
    },
    {
     "name": "stdout",
     "output_type": "stream",
     "text": [
      "Downloaded 8400 tweets\n",
      "Downloaded 8600 tweets\n"
     ]
    },
    {
     "name": "stderr",
     "output_type": "stream",
     "text": [
      "Rate limit reached. Sleeping for: 369\n"
     ]
    },
    {
     "name": "stdout",
     "output_type": "stream",
     "text": [
      "Downloaded 9400 tweets\n",
      "Downloaded 9800 tweets\n",
      "Downloaded 9800 tweets\n"
     ]
    }
   ],
   "source": [
    "searchQuery = 'George Floyd -filter:retweets'  # this is what we're searching for\n",
    "max_tweets = 10000 # Total observation count desired for our dataframe\n",
    "count = 100 # this is the maximum the API permits\n",
    "log_every_n = 200 # For printing purposes in the loop\n",
    "id_list = [] # We will use this list to validate tweet uniqueness\n",
    "tweet_list = [] # Approved tweets will be appended here\n",
    "\n",
    "tweet_count = len(tweet_list)\n",
    "print(\"Downloading max {0} tweets\".format(max_tweets))\n",
    "while tweet_count < max_tweets:\n",
    "    try:\n",
    "    # Pulling individual tweets from query\n",
    "        for i in api.search(q=searchQuery, count=count, lang='en', tweet_mode='extended', since='2020-06-01'):\n",
    "            id_list.append(i.id)\n",
    "            # Confirmed the tweet (denoted by user id) has not already by appended\n",
    "            if id_list.count(i.id) < 2:\n",
    "                # Adding to list that contains all tweets\n",
    "                tweet_list.append((i.created_at, i.full_text, i.id, i.user.screen_name, i.user.description, i.user.location))\n",
    "        tweet_count = len(tweet_list)\n",
    "        if (tweet_count % log_every_n == 0):\n",
    "            print(\"Downloaded {0} tweets\".format(tweet_count))\n",
    "    except BaseException as e:\n",
    "        print('failed on_status,',str(e))\n",
    "        time.sleep(3)"
   ]
  },
  {
   "cell_type": "code",
   "execution_count": 349,
   "metadata": {},
   "outputs": [],
   "source": [
    "# Function to convert tweet list to a DataFrame\n",
    "\n",
    "def tweets_to_df(tweet_list):\n",
    "    tweet_df = pd.DataFrame({'timestamp': [t[0] for t in tweet_list],\n",
    "                             'tweet': [t[1] for t in tweet_list],\n",
    "                             'user_id': [t[2] for t in tweet_list],\n",
    "                             'handle': [t[3] for t in tweet_list],\n",
    "                             'bio': [t[4] for t in tweet_list],\n",
    "                             'location': [t[5] for t in tweet_list],\n",
    "                            }\n",
    "                           )\n",
    "    # creating a datetimeindex will allow us to do more timeseries manipulations\n",
    "    tweet_df['timestamp'] = pd.to_datetime(tweet_df['timestamp'])\n",
    "    return tweet_df"
   ]
  },
  {
   "cell_type": "code",
   "execution_count": null,
   "metadata": {},
   "outputs": [],
   "source": [
    "# Calling function\n",
    "tweet_df = tweets_to_df(tweet_list)\n",
    "\n",
    "# Saving dataframe to csv\n",
    "tweet_df.to_csv('tweet_df.csv')"
   ]
  },
  {
   "cell_type": "code",
   "execution_count": 3,
   "metadata": {},
   "outputs": [],
   "source": [
    "# Loading DataFrame\n",
    "tweet_df = pd.read_csv(\"tweet_df.csv\")"
   ]
  },
  {
   "cell_type": "markdown",
   "metadata": {},
   "source": [
    "## EDA"
   ]
  },
  {
   "cell_type": "code",
   "execution_count": 4,
   "metadata": {},
   "outputs": [
    {
     "name": "stdout",
     "output_type": "stream",
     "text": [
      "<class 'pandas.core.frame.DataFrame'>\n",
      "RangeIndex: 10002 entries, 0 to 10001\n",
      "Data columns (total 7 columns):\n",
      " #   Column      Non-Null Count  Dtype \n",
      "---  ------      --------------  ----- \n",
      " 0   Unnamed: 0  10002 non-null  int64 \n",
      " 1   timestamp   10002 non-null  object\n",
      " 2   tweet       10002 non-null  object\n",
      " 3   user_id     10002 non-null  int64 \n",
      " 4   handle      10002 non-null  object\n",
      " 5   bio         8462 non-null   object\n",
      " 6   location    6774 non-null   object\n",
      "dtypes: int64(2), object(5)\n",
      "memory usage: 547.1+ KB\n"
     ]
    }
   ],
   "source": [
    "tweet_df.info()"
   ]
  },
  {
   "cell_type": "code",
   "execution_count": 5,
   "metadata": {},
   "outputs": [
    {
     "data": {
      "text/html": [
       "<div>\n",
       "<style scoped>\n",
       "    .dataframe tbody tr th:only-of-type {\n",
       "        vertical-align: middle;\n",
       "    }\n",
       "\n",
       "    .dataframe tbody tr th {\n",
       "        vertical-align: top;\n",
       "    }\n",
       "\n",
       "    .dataframe thead th {\n",
       "        text-align: right;\n",
       "    }\n",
       "</style>\n",
       "<table border=\"1\" class=\"dataframe\">\n",
       "  <thead>\n",
       "    <tr style=\"text-align: right;\">\n",
       "      <th></th>\n",
       "      <th>Unnamed: 0</th>\n",
       "      <th>timestamp</th>\n",
       "      <th>tweet</th>\n",
       "      <th>user_id</th>\n",
       "      <th>handle</th>\n",
       "      <th>bio</th>\n",
       "      <th>location</th>\n",
       "    </tr>\n",
       "  </thead>\n",
       "  <tbody>\n",
       "    <tr>\n",
       "      <th>0</th>\n",
       "      <td>0</td>\n",
       "      <td>2020-06-06 16:20:08</td>\n",
       "      <td>@IrishTimes Absolutely tragic and appalling with the loss our fellow brother George Floyd (RIP) an innocent man who done wrong was taken from this world and all because he had a different skin colour.</td>\n",
       "      <td>1269303065829613572</td>\n",
       "      <td>Martin85575817</td>\n",
       "      <td>Trade Unionist and long time defender of workers rights for many years.A firm believer in solidarity, equality, equity and democracy.</td>\n",
       "      <td>Cork, Ireland</td>\n",
       "    </tr>\n",
       "    <tr>\n",
       "      <th>1</th>\n",
       "      <td>1</td>\n",
       "      <td>2020-06-06 16:20:05</td>\n",
       "      <td>@MSNBC This was George Floyd day, yesterday.. https://t.co/OxS0Zo0GdS</td>\n",
       "      <td>1269303054278393856</td>\n",
       "      <td>RonKeating5</td>\n",
       "      <td>NaN</td>\n",
       "      <td>NaN</td>\n",
       "    </tr>\n",
       "    <tr>\n",
       "      <th>2</th>\n",
       "      <td>2</td>\n",
       "      <td>2020-06-06 16:20:05</td>\n",
       "      <td>‘As the Floyd family &amp;amp; the world send George home, may we stay strong in the long struggle for justice so that we can all finally, fully breathe.’.......says the fabulous musician Mariah Carey https://t.co/XVa6TR3yUO</td>\n",
       "      <td>1269303053724848128</td>\n",
       "      <td>cherylroberts00</td>\n",
       "      <td>journeying life thru my woman's lens: interrogating and challenging sport and gender; writing the words, raising the voices, raging for social justice</td>\n",
       "      <td>Cape Town, South Africa</td>\n",
       "    </tr>\n",
       "    <tr>\n",
       "      <th>3</th>\n",
       "      <td>3</td>\n",
       "      <td>2020-06-06 16:20:03</td>\n",
       "      <td>I’m pretty sure COVID-19 doesn’t discriminate who it infects, so why the contradiction by medical professionals? American people are being played. Blasts Health Care Professionals Signing Letter Exempting George Floyd Protests From COVID-19 Restrictions https://t.co/c0VIZUiWgl</td>\n",
       "      <td>1269303048305868801</td>\n",
       "      <td>gb_richardson</td>\n",
       "      <td>Conservative #KAG2020 Husband-50yrs-Father Gfather, USAF CrewChief Vietnam RF-4C Phantom II 🇺🇸)</td>\n",
       "      <td>Ferndale, MI USA</td>\n",
       "    </tr>\n",
       "    <tr>\n",
       "      <th>4</th>\n",
       "      <td>4</td>\n",
       "      <td>2020-06-06 16:20:03</td>\n",
       "      <td>#Repost rvamag\\n• • • • • •\\nThe Fan\\n\\nRenamed in Richmond, Va • This photo was taken in The Fan this past Wednesday on the corner of George and Floyd by Richmond photogrpaher rileycgoodman… https://t.co/4CS6vkKbIt</td>\n",
       "      <td>1269303047928320000</td>\n",
       "      <td>paragon24</td>\n",
       "      <td>Love my Creator, Kids, Family, and my Lady..... In Pursuit Of The Truth....</td>\n",
       "      <td>Beyond This Universe!</td>\n",
       "    </tr>\n",
       "  </tbody>\n",
       "</table>\n",
       "</div>"
      ],
      "text/plain": [
       "   Unnamed: 0            timestamp  \\\n",
       "0           0  2020-06-06 16:20:08   \n",
       "1           1  2020-06-06 16:20:05   \n",
       "2           2  2020-06-06 16:20:05   \n",
       "3           3  2020-06-06 16:20:03   \n",
       "4           4  2020-06-06 16:20:03   \n",
       "\n",
       "                                                                                                                                                                                                                                                                                   tweet  \\\n",
       "0                                                                               @IrishTimes Absolutely tragic and appalling with the loss our fellow brother George Floyd (RIP) an innocent man who done wrong was taken from this world and all because he had a different skin colour.   \n",
       "1                                                                                                                                                                                                                  @MSNBC This was George Floyd day, yesterday.. https://t.co/OxS0Zo0GdS   \n",
       "2                                                           ‘As the Floyd family &amp; the world send George home, may we stay strong in the long struggle for justice so that we can all finally, fully breathe.’.......says the fabulous musician Mariah Carey https://t.co/XVa6TR3yUO   \n",
       "3  I’m pretty sure COVID-19 doesn’t discriminate who it infects, so why the contradiction by medical professionals? American people are being played. Blasts Health Care Professionals Signing Letter Exempting George Floyd Protests From COVID-19 Restrictions https://t.co/c0VIZUiWgl   \n",
       "4                                                                #Repost rvamag\\n• • • • • •\\nThe Fan\\n\\nRenamed in Richmond, Va • This photo was taken in The Fan this past Wednesday on the corner of George and Floyd by Richmond photogrpaher rileycgoodman… https://t.co/4CS6vkKbIt   \n",
       "\n",
       "               user_id           handle  \\\n",
       "0  1269303065829613572   Martin85575817   \n",
       "1  1269303054278393856      RonKeating5   \n",
       "2  1269303053724848128  cherylroberts00   \n",
       "3  1269303048305868801    gb_richardson   \n",
       "4  1269303047928320000        paragon24   \n",
       "\n",
       "                                                                                                                                                      bio  \\\n",
       "0                   Trade Unionist and long time defender of workers rights for many years.A firm believer in solidarity, equality, equity and democracy.   \n",
       "1                                                                                                                                                     NaN   \n",
       "2  journeying life thru my woman's lens: interrogating and challenging sport and gender; writing the words, raising the voices, raging for social justice   \n",
       "3                                                         Conservative #KAG2020 Husband-50yrs-Father Gfather, USAF CrewChief Vietnam RF-4C Phantom II 🇺🇸)   \n",
       "4                                                                             Love my Creator, Kids, Family, and my Lady..... In Pursuit Of The Truth....   \n",
       "\n",
       "                  location  \n",
       "0            Cork, Ireland  \n",
       "1                      NaN  \n",
       "2  Cape Town, South Africa  \n",
       "3         Ferndale, MI USA  \n",
       "4    Beyond This Universe!  "
      ]
     },
     "execution_count": 5,
     "metadata": {},
     "output_type": "execute_result"
    }
   ],
   "source": [
    "tweet_df.head()"
   ]
  },
  {
   "cell_type": "code",
   "execution_count": 6,
   "metadata": {},
   "outputs": [
    {
     "name": "stdout",
     "output_type": "stream",
     "text": [
      "4199\n",
      "@KDVR George Floyd was a career criminal and drug addiction who robbed and assaulted others. He was not rehabilitated and certainly not a martyr.                                                                                                                                                    3\n",
      "@williaint 2/18- its forms is a sin, and that George Floyd’s death is an evil tragedy, regardless of his criminal background. I’m sad justice wasn’t sought out sooner against the officer(s) responsible for his murder, but I am happy justice is now underway. With that being said, hopefully    3\n",
      "The recent death of George Floyd has sparked outrage &amp; directly placed the spotlight once again not only on racial injustice but also on the flagrant abuse of power which still exists in this country as well as around the globe.                                                             3\n",
      "@djkaywise @djkaywise #JoorPartyXYoutubeMusic \\n\\n#justiceforvictims We fight against Rape And killing \\n\\nPlease @djkaywise before partying \\nOne minute for George Floyd is important                                                                                                              2\n",
      "Flash bangs and fury: Behind the fortress walls in a defining week\\n\\nhttps://t.co/d9yiTTfHtM                                                                                                                                                                                                        2\n",
      "                                                                                                                                                                                                                                                                                                    ..\n",
      "[time] In Solidarity and as a Symbol of Global Injustices, a Syrian Artist Painted a Mural to George Floyd on a Bombed  #Idlib Building https://t.co/cVYbQdtfTU                                                                                                                                      1\n",
      "@theo_crypto99 They saying that the killing of George Floyd is staged. The world is going crazy.                                                                                                                                                                                                     1\n",
      "Protests about police brutality are met with wave of police brutality across US https://t.co/bC2OlKHXu0                                                                                                                                                                                              1\n",
      "I'm raising money for Oficial George Floyd Family on @GoFundMeCharity:  https://t.co/YtmOOYEqqp                                                                                                                                                                                                      1\n",
      "@abc13houston GEORGE FLOYD is someone, was someone an will be someone to remember. \\nBE like this SOMEONE, #GentleGiant.                                                                                                                                                                             1\n",
      "Name: tweet, Length: 9977, dtype: int64\n"
     ]
    }
   ],
   "source": [
    "print(tweet_df['timestamp'].nunique())\n",
    "print(tweet_df['tweet'].value_counts())"
   ]
  },
  {
   "cell_type": "code",
   "execution_count": 7,
   "metadata": {},
   "outputs": [],
   "source": [
    "# Removing extraneous column\n",
    "tweet_df.drop(columns=['Unnamed: 0'], axis=1, inplace=True)\n",
    "\n",
    "# Converting timestamp to datetime format\n",
    "tweet_df['timestamp'] = pd.to_datetime(tweet_df['timestamp'])"
   ]
  },
  {
   "cell_type": "code",
   "execution_count": 8,
   "metadata": {},
   "outputs": [
    {
     "data": {
      "text/html": [
       "<div>\n",
       "<style scoped>\n",
       "    .dataframe tbody tr th:only-of-type {\n",
       "        vertical-align: middle;\n",
       "    }\n",
       "\n",
       "    .dataframe tbody tr th {\n",
       "        vertical-align: top;\n",
       "    }\n",
       "\n",
       "    .dataframe thead th {\n",
       "        text-align: right;\n",
       "    }\n",
       "</style>\n",
       "<table border=\"1\" class=\"dataframe\">\n",
       "  <thead>\n",
       "    <tr style=\"text-align: right;\">\n",
       "      <th></th>\n",
       "      <th>timestamp</th>\n",
       "      <th>tweet</th>\n",
       "      <th>user_id</th>\n",
       "      <th>handle</th>\n",
       "      <th>bio</th>\n",
       "      <th>location</th>\n",
       "    </tr>\n",
       "  </thead>\n",
       "  <tbody>\n",
       "    <tr>\n",
       "      <th>0</th>\n",
       "      <td>2020-06-06 16:20:08</td>\n",
       "      <td>@IrishTimes Absolutely tragic and appalling with the loss our fellow brother George Floyd (RIP) an innocent man who done wrong was taken from this world and all because he had a different skin colour.</td>\n",
       "      <td>1269303065829613572</td>\n",
       "      <td>Martin85575817</td>\n",
       "      <td>Trade Unionist and long time defender of workers rights for many years.A firm believer in solidarity, equality, equity and democracy.</td>\n",
       "      <td>Cork, Ireland</td>\n",
       "    </tr>\n",
       "    <tr>\n",
       "      <th>1</th>\n",
       "      <td>2020-06-06 16:20:05</td>\n",
       "      <td>@MSNBC This was George Floyd day, yesterday.. https://t.co/OxS0Zo0GdS</td>\n",
       "      <td>1269303054278393856</td>\n",
       "      <td>RonKeating5</td>\n",
       "      <td>NaN</td>\n",
       "      <td>NaN</td>\n",
       "    </tr>\n",
       "    <tr>\n",
       "      <th>2</th>\n",
       "      <td>2020-06-06 16:20:05</td>\n",
       "      <td>‘As the Floyd family &amp;amp; the world send George home, may we stay strong in the long struggle for justice so that we can all finally, fully breathe.’.......says the fabulous musician Mariah Carey https://t.co/XVa6TR3yUO</td>\n",
       "      <td>1269303053724848128</td>\n",
       "      <td>cherylroberts00</td>\n",
       "      <td>journeying life thru my woman's lens: interrogating and challenging sport and gender; writing the words, raising the voices, raging for social justice</td>\n",
       "      <td>Cape Town, South Africa</td>\n",
       "    </tr>\n",
       "    <tr>\n",
       "      <th>3</th>\n",
       "      <td>2020-06-06 16:20:03</td>\n",
       "      <td>I’m pretty sure COVID-19 doesn’t discriminate who it infects, so why the contradiction by medical professionals? American people are being played. Blasts Health Care Professionals Signing Letter Exempting George Floyd Protests From COVID-19 Restrictions https://t.co/c0VIZUiWgl</td>\n",
       "      <td>1269303048305868801</td>\n",
       "      <td>gb_richardson</td>\n",
       "      <td>Conservative #KAG2020 Husband-50yrs-Father Gfather, USAF CrewChief Vietnam RF-4C Phantom II 🇺🇸)</td>\n",
       "      <td>Ferndale, MI USA</td>\n",
       "    </tr>\n",
       "    <tr>\n",
       "      <th>4</th>\n",
       "      <td>2020-06-06 16:20:03</td>\n",
       "      <td>#Repost rvamag\\n• • • • • •\\nThe Fan\\n\\nRenamed in Richmond, Va • This photo was taken in The Fan this past Wednesday on the corner of George and Floyd by Richmond photogrpaher rileycgoodman… https://t.co/4CS6vkKbIt</td>\n",
       "      <td>1269303047928320000</td>\n",
       "      <td>paragon24</td>\n",
       "      <td>Love my Creator, Kids, Family, and my Lady..... In Pursuit Of The Truth....</td>\n",
       "      <td>Beyond This Universe!</td>\n",
       "    </tr>\n",
       "    <tr>\n",
       "      <th>...</th>\n",
       "      <td>...</td>\n",
       "      <td>...</td>\n",
       "      <td>...</td>\n",
       "      <td>...</td>\n",
       "      <td>...</td>\n",
       "      <td>...</td>\n",
       "    </tr>\n",
       "    <tr>\n",
       "      <th>9997</th>\n",
       "      <td>2020-06-06 18:44:37</td>\n",
       "      <td>@PhilipRucker @agearan @jdawsey1 George Floyd left Houston after creating quite a record of criminal behavior. 10 years in prison for felony robbery of a pregnant woman stuck a gun to her stomach brought five other men in her house to rob her. How many encounters with police until he ran into himself a criminal</td>\n",
       "      <td>1269339428264177664</td>\n",
       "      <td>mitsy47002140</td>\n",
       "      <td>Amazing Parenting Design &amp; Architecture Space News Cute History Science News Gov Officials &amp; Agencies Weird General News Travel Tech News Trending Weather Haha</td>\n",
       "      <td>Maricopa, AZ</td>\n",
       "    </tr>\n",
       "    <tr>\n",
       "      <th>9998</th>\n",
       "      <td>2020-06-06 18:44:36</td>\n",
       "      <td>Tucker Carlson: Cultural Revolution has come to America – brainwashing underway\\n\\nhttps://t.co/egE9DkdyCY</td>\n",
       "      <td>1269339425764331520</td>\n",
       "      <td>GeraldineKestn2</td>\n",
       "      <td>From #MAGA to #KAG President Trump 100%.\\nWidow of a retired U.S. Army EOD Veteran.\\nAll liberals blocked! 🚫</td>\n",
       "      <td>Washington State from Kentucky</td>\n",
       "    </tr>\n",
       "    <tr>\n",
       "      <th>9999</th>\n",
       "      <td>2020-06-06 18:44:36</td>\n",
       "      <td>What are the #WhiteLiberalsAntifa terrorists are doing for Saint George Floyd. His holiness, George Floyd  has gotten three funerals so far. Anyone wonders why?</td>\n",
       "      <td>1269339425357660162</td>\n",
       "      <td>MrMikeLad</td>\n",
       "      <td>IT professional, Civil Servant, father, grandfather, Deplorable, super predator and free thinker</td>\n",
       "      <td>Florida, USA</td>\n",
       "    </tr>\n",
       "    <tr>\n",
       "      <th>10000</th>\n",
       "      <td>2020-06-06 18:44:36</td>\n",
       "      <td>It marks the 9th day of protests in western Washington over the death of George Floyd, a black man killed while in Minneapolis police custody. https://t.co/cSg9sc229Y</td>\n",
       "      <td>1269339424745115649</td>\n",
       "      <td>dlwdillon</td>\n",
       "      <td>PROUD grandma of Anthony !retired surgical tech-married 46 years to Denny hometown Denver livin in PacNW #progressive ,classic R&amp;R fan. avid concert goer!!</td>\n",
       "      <td>ÜT: 47.1505821,-122.3012411</td>\n",
       "    </tr>\n",
       "    <tr>\n",
       "      <th>10001</th>\n",
       "      <td>2020-06-06 18:44:36</td>\n",
       "      <td>Call for voter registration at George Floyd event in Montgomery. https://t.co/fENzqT173Z</td>\n",
       "      <td>1269339424497819651</td>\n",
       "      <td>MikeCasonAL</td>\n",
       "      <td>Reporter for Alabama Media Group, which includes  @aldotcom, http://t.co/8EcaqIKksL and The Birmingham News, The Huntsville Times and the Press-Register</td>\n",
       "      <td>Alabama</td>\n",
       "    </tr>\n",
       "  </tbody>\n",
       "</table>\n",
       "<p>10002 rows × 6 columns</p>\n",
       "</div>"
      ],
      "text/plain": [
       "                timestamp  \\\n",
       "0     2020-06-06 16:20:08   \n",
       "1     2020-06-06 16:20:05   \n",
       "2     2020-06-06 16:20:05   \n",
       "3     2020-06-06 16:20:03   \n",
       "4     2020-06-06 16:20:03   \n",
       "...                   ...   \n",
       "9997  2020-06-06 18:44:37   \n",
       "9998  2020-06-06 18:44:36   \n",
       "9999  2020-06-06 18:44:36   \n",
       "10000 2020-06-06 18:44:36   \n",
       "10001 2020-06-06 18:44:36   \n",
       "\n",
       "                                                                                                                                                                                                                                                                                                                          tweet  \\\n",
       "0                                                                                                                      @IrishTimes Absolutely tragic and appalling with the loss our fellow brother George Floyd (RIP) an innocent man who done wrong was taken from this world and all because he had a different skin colour.   \n",
       "1                                                                                                                                                                                                                                                         @MSNBC This was George Floyd day, yesterday.. https://t.co/OxS0Zo0GdS   \n",
       "2                                                                                                  ‘As the Floyd family &amp; the world send George home, may we stay strong in the long struggle for justice so that we can all finally, fully breathe.’.......says the fabulous musician Mariah Carey https://t.co/XVa6TR3yUO   \n",
       "3                                         I’m pretty sure COVID-19 doesn’t discriminate who it infects, so why the contradiction by medical professionals? American people are being played. Blasts Health Care Professionals Signing Letter Exempting George Floyd Protests From COVID-19 Restrictions https://t.co/c0VIZUiWgl   \n",
       "4                                                                                                       #Repost rvamag\\n• • • • • •\\nThe Fan\\n\\nRenamed in Richmond, Va • This photo was taken in The Fan this past Wednesday on the corner of George and Floyd by Richmond photogrpaher rileycgoodman… https://t.co/4CS6vkKbIt   \n",
       "...                                                                                                                                                                                                                                                                                                                         ...   \n",
       "9997   @PhilipRucker @agearan @jdawsey1 George Floyd left Houston after creating quite a record of criminal behavior. 10 years in prison for felony robbery of a pregnant woman stuck a gun to her stomach brought five other men in her house to rob her. How many encounters with police until he ran into himself a criminal   \n",
       "9998                                                                                                                                                                                                                 Tucker Carlson: Cultural Revolution has come to America – brainwashing underway\\n\\nhttps://t.co/egE9DkdyCY   \n",
       "9999                                                                                                                                                           What are the #WhiteLiberalsAntifa terrorists are doing for Saint George Floyd. His holiness, George Floyd  has gotten three funerals so far. Anyone wonders why?   \n",
       "10000                                                                                                                                                    It marks the 9th day of protests in western Washington over the death of George Floyd, a black man killed while in Minneapolis police custody. https://t.co/cSg9sc229Y   \n",
       "10001                                                                                                                                                                                                                                  Call for voter registration at George Floyd event in Montgomery. https://t.co/fENzqT173Z   \n",
       "\n",
       "                   user_id           handle  \\\n",
       "0      1269303065829613572   Martin85575817   \n",
       "1      1269303054278393856      RonKeating5   \n",
       "2      1269303053724848128  cherylroberts00   \n",
       "3      1269303048305868801    gb_richardson   \n",
       "4      1269303047928320000        paragon24   \n",
       "...                    ...              ...   \n",
       "9997   1269339428264177664    mitsy47002140   \n",
       "9998   1269339425764331520  GeraldineKestn2   \n",
       "9999   1269339425357660162        MrMikeLad   \n",
       "10000  1269339424745115649        dlwdillon   \n",
       "10001  1269339424497819651      MikeCasonAL   \n",
       "\n",
       "                                                                                                                                                                   bio  \\\n",
       "0                                Trade Unionist and long time defender of workers rights for many years.A firm believer in solidarity, equality, equity and democracy.   \n",
       "1                                                                                                                                                                  NaN   \n",
       "2               journeying life thru my woman's lens: interrogating and challenging sport and gender; writing the words, raising the voices, raging for social justice   \n",
       "3                                                                      Conservative #KAG2020 Husband-50yrs-Father Gfather, USAF CrewChief Vietnam RF-4C Phantom II 🇺🇸)   \n",
       "4                                                                                          Love my Creator, Kids, Family, and my Lady..... In Pursuit Of The Truth....   \n",
       "...                                                                                                                                                                ...   \n",
       "9997   Amazing Parenting Design & Architecture Space News Cute History Science News Gov Officials & Agencies Weird General News Travel Tech News Trending Weather Haha   \n",
       "9998                                                      From #MAGA to #KAG President Trump 100%.\\nWidow of a retired U.S. Army EOD Veteran.\\nAll liberals blocked! 🚫   \n",
       "9999                                                                  IT professional, Civil Servant, father, grandfather, Deplorable, super predator and free thinker   \n",
       "10000      PROUD grandma of Anthony !retired surgical tech-married 46 years to Denny hometown Denver livin in PacNW #progressive ,classic R&R fan. avid concert goer!!   \n",
       "10001         Reporter for Alabama Media Group, which includes  @aldotcom, http://t.co/8EcaqIKksL and The Birmingham News, The Huntsville Times and the Press-Register   \n",
       "\n",
       "                             location  \n",
       "0                       Cork, Ireland  \n",
       "1                                 NaN  \n",
       "2             Cape Town, South Africa  \n",
       "3                    Ferndale, MI USA  \n",
       "4               Beyond This Universe!  \n",
       "...                               ...  \n",
       "9997                     Maricopa, AZ  \n",
       "9998   Washington State from Kentucky  \n",
       "9999                     Florida, USA  \n",
       "10000     ÜT: 47.1505821,-122.3012411  \n",
       "10001                         Alabama  \n",
       "\n",
       "[10002 rows x 6 columns]"
      ]
     },
     "execution_count": 8,
     "metadata": {},
     "output_type": "execute_result"
    }
   ],
   "source": [
    "tweet_df"
   ]
  },
  {
   "cell_type": "code",
   "execution_count": 9,
   "metadata": {},
   "outputs": [
    {
     "data": {
      "image/png": "[encoded data removed]",
      "text/plain": [
       "<Figure size 432x288 with 1 Axes>"
      ]
     },
     "metadata": {
      "needs_background": "light"
     },
     "output_type": "display_data"
    }
   ],
   "source": [
    "# plot a time series\n",
    "(tweet_df[['timestamp','tweet']]\n",
    " .set_index('timestamp')\n",
    " # 'T' = minute\n",
    " .resample('S')\n",
    " .count()\n",
    " .rename(columns=dict(text='1-minute counts'))\n",
    " .plot()\n",
    ");"
   ]
  },
  {
   "cell_type": "markdown",
   "metadata": {},
   "source": [
    "We have a short time span at the moment. Our data spans three hours of a single day. It seems like our scraping algorithm's parameters resulted in data collection that occurred in bursts, with no scraping in between.\n",
    "\n",
    "We'll do some rough text processing to look at the text in these Tweets. A good first step is to inspect the tweets looking at the most common n-grams. From twitterdev: 'an “n-gram” is a contiguous collection of some n items - in languages where appropriate, this is often white-space separated words. For example, two-grams in the sentence “The dog ate my homework” would be “the dog”, “dog ate”, “ate my”, “my homework”.'\n",
    "\n",
    "We'll use the entire text attribute of our dataframe regardless of whether it was a Retweet, original Tweet, or Quote Tweet. After that, we'll concatenate all the Tweet text together, divide it into words using an open-source tokenizer from NLTK, remove punctuation and count the most common set of n-grams."
   ]
  },
  {
   "cell_type": "code",
   "execution_count": 10,
   "metadata": {},
   "outputs": [],
   "source": [
    "tweet_corpus = tweet_df['tweet'].values.tolist()"
   ]
  },
  {
   "cell_type": "code",
   "execution_count": 11,
   "metadata": {},
   "outputs": [],
   "source": [
    "# Helper function to generate a list of text tokens from concatenating\n",
    "# all of the text contained in Tweets in `tweet_list`\n",
    "\n",
    "def get_all_tokens(tweet_corpus):\n",
    "    # concat entire corpus\n",
    "    text = ' '.join(tweet_corpus)\n",
    "    # tokenize\n",
    "    tokens = (TweetTokenizer(preserve_case=False,\n",
    "                            reduce_len=True,\n",
    "                            strip_handles=False)\n",
    "              .tokenize(text))\n",
    "    # remove symbol-only tokens for now\n",
    "    tokens = [tok for tok in tokens if not tok in string.punctuation]\n",
    "    return tokens"
   ]
  },
  {
   "cell_type": "code",
   "execution_count": 12,
   "metadata": {
    "scrolled": false
   },
   "outputs": [
    {
     "name": "stdout",
     "output_type": "stream",
     "text": [
      "total number of tokens: 272072\n"
     ]
    }
   ],
   "source": [
    "tokens = get_all_tokens(tweet_corpus)\n",
    "\n",
    "print('total number of tokens: {}'.format(len(tokens)))"
   ]
  },
  {
   "cell_type": "code",
   "execution_count": 13,
   "metadata": {},
   "outputs": [
    {
     "data": {
      "text/plain": [
       "[(('george', 'floyd'), 7363),\n",
       " (('’', 's'), 1755),\n",
       " (('of', 'george'), 1248),\n",
       " (('of', 'george', 'floyd'), 1072),\n",
       " (('’', 't'), 868),\n",
       " (('george', \"floyd's\"), 838),\n",
       " (('for', 'george'), 829),\n",
       " (('for', 'george', 'floyd'), 794),\n",
       " (('in', 'the'), 762),\n",
       " (('of', 'the'), 663),\n",
       " (('floyd', '’'), 639),\n",
       " (('floyd', '’', 's'), 629),\n",
       " (('george', 'floyd', '’'), 615),\n",
       " (('george', 'floyd', '’', 's'), 605),\n",
       " (('floyd', 'was'), 526),\n",
       " (('george', 'floyd', 'was'), 506),\n",
       " (('this', 'is'), 488),\n",
       " (('death', 'of'), 428),\n",
       " (('police', 'brutality'), 424),\n",
       " (('floyd', 'protests'), 423),\n",
       " (('george', 'floyd', 'protests'), 414),\n",
       " ((\"floyd's\", 'death'), 403),\n",
       " (('justice', 'for'), 395),\n",
       " (('george', \"floyd's\", 'death'), 391),\n",
       " (('about', 'george'), 388)]"
      ]
     },
     "execution_count": 13,
     "metadata": {},
     "output_type": "execute_result"
    }
   ],
   "source": [
    "# calculate a range of ngrams using some handy functions\n",
    "top_grams = Counter(everygrams(tokens, min_len=2, max_len=4))\n",
    "\n",
    "top_grams.most_common(25)"
   ]
  },
  {
   "cell_type": "markdown",
   "metadata": {},
   "source": [
    "From these n-grams, we can see that George Floyd's name, along with the terms 'police brutality', were both frequently present in these tweets. Let's explore 'police' in context."
   ]
  },
  {
   "cell_type": "code",
   "execution_count": 14,
   "metadata": {},
   "outputs": [
    {
     "data": {
      "text/html": [
       "<div>\n",
       "<style scoped>\n",
       "    .dataframe tbody tr th:only-of-type {\n",
       "        vertical-align: middle;\n",
       "    }\n",
       "\n",
       "    .dataframe tbody tr th {\n",
       "        vertical-align: top;\n",
       "    }\n",
       "\n",
       "    .dataframe thead th {\n",
       "        text-align: right;\n",
       "    }\n",
       "</style>\n",
       "<table border=\"1\" class=\"dataframe\">\n",
       "  <thead>\n",
       "    <tr style=\"text-align: right;\">\n",
       "      <th></th>\n",
       "      <th>tweet</th>\n",
       "    </tr>\n",
       "  </thead>\n",
       "  <tbody>\n",
       "    <tr>\n",
       "      <th>6</th>\n",
       "      <td>George Floyd death: Police officers appearing to shove elderly man during protests charged with assault\\nhttps://t.co/KhkcrNrJ2a https://t.co/JhlPCe6DU2</td>\n",
       "    </tr>\n",
       "    <tr>\n",
       "      <th>8</th>\n",
       "      <td>@a_soupa @AlexBon87556703 @RobertWayneWil3 @rsearsavon @acnewsitics @glennbeck @RealCandaceO \"You justify violence and riots\"\\n\\n(facepalm)\\n\\nyou're just trolling right? no one is this obtuse by mistake\\n\\n1. george floyd was murdered\\n2. people PROTEST police brutality\\n\\nwelcome to reality. try living it someday. and lose your lame weak obtu...</td>\n",
       "    </tr>\n",
       "    <tr>\n",
       "      <th>9</th>\n",
       "      <td>Dallas Mayor Eric Johnson joins ministers today in reaction to the death of George Floyd in Minneapolis police custody. The ministers begin with 8 minutes, 46 seconds of prayer each. Watch live here: \\nhttps://t.co/kcxIsAKaxB</td>\n",
       "    </tr>\n",
       "    <tr>\n",
       "      <th>11</th>\n",
       "      <td>Two Buffalo police officers accused of shoving a 75-year-old man to the ground during a protest over the death of George Floyd were charged with second-degree assault Saturday.\\n\\nhttps://t.co/EVkd1pmOlJ</td>\n",
       "    </tr>\n",
       "    <tr>\n",
       "      <th>29</th>\n",
       "      <td>@mirandashaeKY @justanactor They had the entire country wrapping their arms around George Floyd white hispanic police in every state then riots started that’s when people got disgusted black owners lost entire life savings! Did you get upset at ppl called Nazi for a vote?</td>\n",
       "    </tr>\n",
       "    <tr>\n",
       "      <th>32</th>\n",
       "      <td>AOC supports Defund the Police demands in wake of George Floyd's death - NewsVerses @ https://t.co/XFPw9qoo0u https://t.co/SsFh9ZSA7q</td>\n",
       "    </tr>\n",
       "    <tr>\n",
       "      <th>35</th>\n",
       "      <td>@IlhanMN @MplsWard3 Put facts on the table to prove they “are beyond reform”. Yes, George Floyd was killed by a police officer.  Do you throw everybody out for that? You’re a shitty Rep, so we throw ALL Reps out?  You have tortured &amp;amp; stupid logic. You hold out one case. BTW, the Mayor is YOUR Party.</td>\n",
       "    </tr>\n",
       "    <tr>\n",
       "      <th>50</th>\n",
       "      <td>'The most painful experience': Man who trains San Jose police about bias severely injured by riot gun during George Floyd protest - ABC7 San Francisco https://t.co/EnKPpG4lbi</td>\n",
       "    </tr>\n",
       "    <tr>\n",
       "      <th>54</th>\n",
       "      <td>George Floyd's death a painful reminder of Chicago's history of police brutality\\n\\nhttps://t.co/HRhr0JKGBz</td>\n",
       "    </tr>\n",
       "    <tr>\n",
       "      <th>61</th>\n",
       "      <td>Alice says, “It was like being stabbed in the heart” to see George Floyd be killed by the Minneapolis Police Officer on Memorial Day. @abc3340 @spann https://t.co/k0klAU8xQC</td>\n",
       "    </tr>\n",
       "    <tr>\n",
       "      <th>67</th>\n",
       "      <td>New Legislature to Stop Police Brutality: The George Floyd Act of 2020 - Sign the Petition! https://t.co/RVWj2tvy6v via @Change</td>\n",
       "    </tr>\n",
       "    <tr>\n",
       "      <th>69</th>\n",
       "      <td>Protests about police brutality are met with wave of police brutality across US https://t.co/m8dba5Z9Mh</td>\n",
       "    </tr>\n",
       "    <tr>\n",
       "      <th>70</th>\n",
       "      <td>If the police engage someone in the act of a violent crime that is one thing, the problem being discussed are people being killed when there is no violent crime. \\n\\nGeorge Floyd was not wielding a gun or committing a violent act. https://t.co/EWhRUn2h4c</td>\n",
       "    </tr>\n",
       "    <tr>\n",
       "      <th>94</th>\n",
       "      <td>@LeslieKrupp @VJ76046664 @Bart4u2 I don't feel ashamed of anything except the one policeman that murdered George Floyd. #blacklivesmatter</td>\n",
       "    </tr>\n",
       "    <tr>\n",
       "      <th>101</th>\n",
       "      <td>Episode 91: George Floyd Protests and Riots\\n\\n#georgefloyd #protest #blacklivesmatter #racism #policebrutality #newworldorder #unrest #crime #riot #riots #podcast #blackpodcast #podcasts #socialissues #whitelivesmatter #bluelivesmatter #maga #makeamericagreatagain</td>\n",
       "    </tr>\n",
       "  </tbody>\n",
       "</table>\n",
       "</div>"
      ],
      "text/plain": [
       "                                                                                                                                                                                                                                                                                                                                                             tweet\n",
       "6                                                                                                                                                                                                         George Floyd death: Police officers appearing to shove elderly man during protests charged with assault\\nhttps://t.co/KhkcrNrJ2a https://t.co/JhlPCe6DU2\n",
       "8    @a_soupa @AlexBon87556703 @RobertWayneWil3 @rsearsavon @acnewsitics @glennbeck @RealCandaceO \"You justify violence and riots\"\\n\\n(facepalm)\\n\\nyou're just trolling right? no one is this obtuse by mistake\\n\\n1. george floyd was murdered\\n2. people PROTEST police brutality\\n\\nwelcome to reality. try living it someday. and lose your lame weak obtu...\n",
       "9                                                                                                                                Dallas Mayor Eric Johnson joins ministers today in reaction to the death of George Floyd in Minneapolis police custody. The ministers begin with 8 minutes, 46 seconds of prayer each. Watch live here: \\nhttps://t.co/kcxIsAKaxB\n",
       "11                                                                                                                                                     Two Buffalo police officers accused of shoving a 75-year-old man to the ground during a protest over the death of George Floyd were charged with second-degree assault Saturday.\\n\\nhttps://t.co/EVkd1pmOlJ\n",
       "29                                                                                @mirandashaeKY @justanactor They had the entire country wrapping their arms around George Floyd white hispanic police in every state then riots started that’s when people got disgusted black owners lost entire life savings! Did you get upset at ppl called Nazi for a vote?\n",
       "32                                                                                                                                                                                                                           AOC supports Defund the Police demands in wake of George Floyd's death - NewsVerses @ https://t.co/XFPw9qoo0u https://t.co/SsFh9ZSA7q\n",
       "35                                                @IlhanMN @MplsWard3 Put facts on the table to prove they “are beyond reform”. Yes, George Floyd was killed by a police officer.  Do you throw everybody out for that? You’re a shitty Rep, so we throw ALL Reps out?  You have tortured &amp; stupid logic. You hold out one case. BTW, the Mayor is YOUR Party.\n",
       "50                                                                                                                                                                                  'The most painful experience': Man who trains San Jose police about bias severely injured by riot gun during George Floyd protest - ABC7 San Francisco https://t.co/EnKPpG4lbi\n",
       "54                                                                                                                                                                                                                                                     George Floyd's death a painful reminder of Chicago's history of police brutality\\n\\nhttps://t.co/HRhr0JKGBz\n",
       "61                                                                                                                                                                                   Alice says, “It was like being stabbed in the heart” to see George Floyd be killed by the Minneapolis Police Officer on Memorial Day. @abc3340 @spann https://t.co/k0klAU8xQC\n",
       "67                                                                                                                                                                                                                                 New Legislature to Stop Police Brutality: The George Floyd Act of 2020 - Sign the Petition! https://t.co/RVWj2tvy6v via @Change\n",
       "69                                                                                                                                                                                                                                                         Protests about police brutality are met with wave of police brutality across US https://t.co/m8dba5Z9Mh\n",
       "70                                                                                                  If the police engage someone in the act of a violent crime that is one thing, the problem being discussed are people being killed when there is no violent crime. \\n\\nGeorge Floyd was not wielding a gun or committing a violent act. https://t.co/EWhRUn2h4c\n",
       "94                                                                                                                                                                                                                       @LeslieKrupp @VJ76046664 @Bart4u2 I don't feel ashamed of anything except the one policeman that murdered George Floyd. #blacklivesmatter\n",
       "101                                                                                      Episode 91: George Floyd Protests and Riots\\n\\n#georgefloyd #protest #blacklivesmatter #racism #policebrutality #newworldorder #unrest #crime #riot #riots #podcast #blackpodcast #podcasts #socialissues #whitelivesmatter #bluelivesmatter #maga #makeamericagreatagain"
      ]
     },
     "execution_count": 14,
     "metadata": {},
     "output_type": "execute_result"
    }
   ],
   "source": [
    "# create a filter series matching \"coppola\"\n",
    "mask = tweet_df['tweet'].str.lower().str.contains(\"police\")\n",
    "\n",
    "# look at text only from matching rows\n",
    "tweet_df[mask][['tweet']].head(15)"
   ]
  },
  {
   "cell_type": "markdown",
   "metadata": {},
   "source": [
    "By and large, the police are being condemned on twitter. There is one outlier in our visualization [35] that seems to oppose abolishing the police in response. There are also news headlines about the police reaction to the protests that have been going on ('Protests about police brutality are met with wave of police brutality across US')."
   ]
  },
  {
   "cell_type": "markdown",
   "metadata": {},
   "source": [
    "## Feature Engineering & Preprocessing"
   ]
  },
  {
   "cell_type": "markdown",
   "metadata": {},
   "source": [
    "In order to reduce noise as much as possible, we will remove words that are not directly contributing to the meaning of a tweet, as well as tokenize and stem the remaining corpus."
   ]
  },
  {
   "cell_type": "code",
   "execution_count": 15,
   "metadata": {},
   "outputs": [],
   "source": [
    "# Removing @ names\n",
    "\n",
    "def remove_pattern(text, pattern_regex):\n",
    "    r = re.findall(pattern_regex, text)\n",
    "    for i in r:\n",
    "        text = re.sub(i, '', text)\n",
    "    \n",
    "    return text\n",
    "\n",
    "# We are keeping cleaned tweets in a new column called 'tidy_tweets'\n",
    "tweet_df['tidy_tweets'] = np.vectorize(remove_pattern)(tweet_df['tweet'], \"@[\\w]*: | *RT*\")"
   ]
  },
  {
   "cell_type": "code",
   "execution_count": 16,
   "metadata": {},
   "outputs": [],
   "source": [
    "# Removing links\n",
    "\n",
    "cleaned_tweets = []\n",
    "\n",
    "for index, row in tweet_df.iterrows():\n",
    "    # Here we are filtering out all the words that contains link\n",
    "    words_without_links = [word for word in row.tidy_tweets.split() if 'http' not in word]\n",
    "    cleaned_tweets.append(' '.join(words_without_links))\n",
    "\n",
    "tweet_df['tidy_tweets'] = cleaned_tweets"
   ]
  },
  {
   "cell_type": "code",
   "execution_count": 17,
   "metadata": {},
   "outputs": [],
   "source": [
    "# Removing punctuation, special characters and numbers\n",
    "\n",
    "tweet_df['tidy_tweets'] = tweet_df['tidy_tweets'].str.replace(\"[^a-zA-Z# ]\", \"\")"
   ]
  },
  {
   "cell_type": "code",
   "execution_count": 18,
   "metadata": {},
   "outputs": [],
   "source": [
    "# Removing stopwords\n",
    "\n",
    "stopwords_set = set(stopwords.words(\"english\"))\n",
    "cleaned_tweets = []\n",
    "\n",
    "for index, row in tweet_df.iterrows():\n",
    "    \n",
    "    # filerting out all the stopwords \n",
    "    words_without_stopwords = [word for word in row.tidy_tweets.split() if not word in stopwords_set]\n",
    "    \n",
    "    # finally creating tweets list of tuples containing stopwords(list) and sentimentType \n",
    "    cleaned_tweets.append(' '.join(words_without_stopwords))\n",
    "\n",
    "tweet_df['tidy_tweets'] = cleaned_tweets"
   ]
  },
  {
   "cell_type": "code",
   "execution_count": 19,
   "metadata": {},
   "outputs": [],
   "source": [
    "# Tokenizing corpus\n",
    "\n",
    "tokens = TweetTokenizer(preserve_case=False,\n",
    "                            reduce_len=True,\n",
    "                            strip_handles=False)\n",
    "\n",
    "tweet_df['tidy_tokenized_tweets'] = tweet_df.apply(lambda row: tokens.tokenize(row['tidy_tweets']), axis=1)\n",
    "\n",
    "tweet_df['tweet_length'] = tweet_df.apply(lambda row: len(row['tidy_tokenized_tweets']), axis=1)"
   ]
  },
  {
   "cell_type": "code",
   "execution_count": 20,
   "metadata": {},
   "outputs": [],
   "source": [
    "# Stemming corpus\n",
    "\n",
    "from nltk.stem.porter import PorterStemmer\n",
    "\n",
    "porter = PorterStemmer()\n",
    "\n",
    "tweet_df['clean_tweets'] = tweet_df['tidy_tokenized_tweets'].apply(lambda row: [porter.stem(word) for word in row])\n",
    "\n",
    "# df = df.drop(columns=['unstemmed']) # Get rid of the unstemmed column."
   ]
  },
  {
   "cell_type": "code",
   "execution_count": 21,
   "metadata": {
    "scrolled": false
   },
   "outputs": [
    {
     "data": {
      "text/html": [
       "<div>\n",
       "<style scoped>\n",
       "    .dataframe tbody tr th:only-of-type {\n",
       "        vertical-align: middle;\n",
       "    }\n",
       "\n",
       "    .dataframe tbody tr th {\n",
       "        vertical-align: top;\n",
       "    }\n",
       "\n",
       "    .dataframe thead th {\n",
       "        text-align: right;\n",
       "    }\n",
       "</style>\n",
       "<table border=\"1\" class=\"dataframe\">\n",
       "  <thead>\n",
       "    <tr style=\"text-align: right;\">\n",
       "      <th></th>\n",
       "      <th>timestamp</th>\n",
       "      <th>tweet</th>\n",
       "      <th>user_id</th>\n",
       "      <th>handle</th>\n",
       "      <th>bio</th>\n",
       "      <th>location</th>\n",
       "      <th>tidy_tweets</th>\n",
       "      <th>tidy_tokenized_tweets</th>\n",
       "      <th>tweet_length</th>\n",
       "      <th>clean_tweets</th>\n",
       "    </tr>\n",
       "  </thead>\n",
       "  <tbody>\n",
       "    <tr>\n",
       "      <th>0</th>\n",
       "      <td>2020-06-06 16:20:08</td>\n",
       "      <td>@IrishTimes Absolutely tragic and appalling with the loss our fellow brother George Floyd (RIP) an innocent man who done wrong was taken from this world and all because he had a different skin colour.</td>\n",
       "      <td>1269303065829613572</td>\n",
       "      <td>Martin85575817</td>\n",
       "      <td>Trade Unionist and long time defender of workers rights for many years.A firm believer in solidarity, equality, equity and democracy.</td>\n",
       "      <td>Cork, Ireland</td>\n",
       "      <td>IrishTimes Absolutely tragic appalling loss fellow brother George Floyd IP innocent man done wrong taken world different skin colour</td>\n",
       "      <td>[irishtimes, absolutely, tragic, appalling, loss, fellow, brother, george, floyd, ip, innocent, man, done, wrong, taken, world, different, skin, colour]</td>\n",
       "      <td>19</td>\n",
       "      <td>[irishtim, absolut, tragic, appal, loss, fellow, brother, georg, floyd, ip, innoc, man, done, wrong, taken, world, differ, skin, colour]</td>\n",
       "    </tr>\n",
       "    <tr>\n",
       "      <th>1</th>\n",
       "      <td>2020-06-06 16:20:05</td>\n",
       "      <td>@MSNBC This was George Floyd day, yesterday.. https://t.co/OxS0Zo0GdS</td>\n",
       "      <td>1269303054278393856</td>\n",
       "      <td>RonKeating5</td>\n",
       "      <td>NaN</td>\n",
       "      <td>NaN</td>\n",
       "      <td>MSNBC This George Floyd day yesterday</td>\n",
       "      <td>[msnbc, this, george, floyd, day, yesterday]</td>\n",
       "      <td>6</td>\n",
       "      <td>[msnbc, thi, georg, floyd, day, yesterday]</td>\n",
       "    </tr>\n",
       "    <tr>\n",
       "      <th>2</th>\n",
       "      <td>2020-06-06 16:20:05</td>\n",
       "      <td>‘As the Floyd family &amp;amp; the world send George home, may we stay strong in the long struggle for justice so that we can all finally, fully breathe.’.......says the fabulous musician Mariah Carey https://t.co/XVa6TR3yUO</td>\n",
       "      <td>1269303053724848128</td>\n",
       "      <td>cherylroberts00</td>\n",
       "      <td>journeying life thru my woman's lens: interrogating and challenging sport and gender; writing the words, raising the voices, raging for social justice</td>\n",
       "      <td>Cape Town, South Africa</td>\n",
       "      <td>As Floyd family amp world send George home may stay strong long struggle justice finally fully breathesays fabulous musician Mariah Carey</td>\n",
       "      <td>[as, floyd, family, amp, world, send, george, home, may, stay, strong, long, struggle, justice, finally, fully, breathesays, fabulous, musician, mariah, carey]</td>\n",
       "      <td>21</td>\n",
       "      <td>[as, floyd, famili, amp, world, send, georg, home, may, stay, strong, long, struggl, justic, final, fulli, breathesay, fabul, musician, mariah, carey]</td>\n",
       "    </tr>\n",
       "    <tr>\n",
       "      <th>3</th>\n",
       "      <td>2020-06-06 16:20:03</td>\n",
       "      <td>I’m pretty sure COVID-19 doesn’t discriminate who it infects, so why the contradiction by medical professionals? American people are being played. Blasts Health Care Professionals Signing Letter Exempting George Floyd Protests From COVID-19 Restrictions https://t.co/c0VIZUiWgl</td>\n",
       "      <td>1269303048305868801</td>\n",
       "      <td>gb_richardson</td>\n",
       "      <td>Conservative #KAG2020 Husband-50yrs-Father Gfather, USAF CrewChief Vietnam RF-4C Phantom II 🇺🇸)</td>\n",
       "      <td>Ferndale, MI USA</td>\n",
       "      <td>Im pretty sure COVID doesnt discriminate infects contradiction medical professionals American people played Blasts Health Care Professionals Signing Letter Exempting George Floyd Protests From COVIDestrictions</td>\n",
       "      <td>[im, pretty, sure, covid, doesnt, discriminate, infects, contradiction, medical, professionals, american, people, played, blasts, health, care, professionals, signing, letter, exempting, george, floyd, protests, from, covidestrictions]</td>\n",
       "      <td>25</td>\n",
       "      <td>[im, pretti, sure, covid, doesnt, discrimin, infect, contradict, medic, profession, american, peopl, play, blast, health, care, profession, sign, letter, exempt, georg, floyd, protest, from, covidestrict]</td>\n",
       "    </tr>\n",
       "    <tr>\n",
       "      <th>4</th>\n",
       "      <td>2020-06-06 16:20:03</td>\n",
       "      <td>#Repost rvamag\\n• • • • • •\\nThe Fan\\n\\nRenamed in Richmond, Va • This photo was taken in The Fan this past Wednesday on the corner of George and Floyd by Richmond photogrpaher rileycgoodman… https://t.co/4CS6vkKbIt</td>\n",
       "      <td>1269303047928320000</td>\n",
       "      <td>paragon24</td>\n",
       "      <td>Love my Creator, Kids, Family, and my Lady..... In Pursuit Of The Truth....</td>\n",
       "      <td>Beyond This Universe!</td>\n",
       "      <td>#epost rvamag The Fan enamed ichmond Va This photo taken The Fan past Wednesday corner George Floyd ichmond photogrpaher rileycgoodman</td>\n",
       "      <td>[#epost, rvamag, the, fan, enamed, ichmond, va, this, photo, taken, the, fan, past, wednesday, corner, george, floyd, ichmond, photogrpaher, rileycgoodman]</td>\n",
       "      <td>20</td>\n",
       "      <td>[#epost, rvamag, the, fan, enam, ichmond, va, thi, photo, taken, the, fan, past, wednesday, corner, georg, floyd, ichmond, photogrpah, rileycgoodman]</td>\n",
       "    </tr>\n",
       "    <tr>\n",
       "      <th>...</th>\n",
       "      <td>...</td>\n",
       "      <td>...</td>\n",
       "      <td>...</td>\n",
       "      <td>...</td>\n",
       "      <td>...</td>\n",
       "      <td>...</td>\n",
       "      <td>...</td>\n",
       "      <td>...</td>\n",
       "      <td>...</td>\n",
       "      <td>...</td>\n",
       "    </tr>\n",
       "    <tr>\n",
       "      <th>9997</th>\n",
       "      <td>2020-06-06 18:44:37</td>\n",
       "      <td>@PhilipRucker @agearan @jdawsey1 George Floyd left Houston after creating quite a record of criminal behavior. 10 years in prison for felony robbery of a pregnant woman stuck a gun to her stomach brought five other men in her house to rob her. How many encounters with police until he ran into himself a criminal</td>\n",
       "      <td>1269339428264177664</td>\n",
       "      <td>mitsy47002140</td>\n",
       "      <td>Amazing Parenting Design &amp; Architecture Space News Cute History Science News Gov Officials &amp; Agencies Weird General News Travel Tech News Trending Weather Haha</td>\n",
       "      <td>Maricopa, AZ</td>\n",
       "      <td>Philipucker agearan jdawsey George Floyd left Houston creating quite record criminal behavior years prison felony robbery pregnant woman stuck gun stomach brought five men house rob How many encounters police ran criminal</td>\n",
       "      <td>[philipucker, agearan, jdawsey, george, floyd, left, houston, creating, quite, record, criminal, behavior, years, prison, felony, robbery, pregnant, woman, stuck, gun, stomach, brought, five, men, house, rob, how, many, encounters, police, ran, criminal]</td>\n",
       "      <td>32</td>\n",
       "      <td>[philipuck, agearan, jdawsey, georg, floyd, left, houston, creat, quit, record, crimin, behavior, year, prison, feloni, robberi, pregnant, woman, stuck, gun, stomach, brought, five, men, hous, rob, how, mani, encount, polic, ran, crimin]</td>\n",
       "    </tr>\n",
       "    <tr>\n",
       "      <th>9998</th>\n",
       "      <td>2020-06-06 18:44:36</td>\n",
       "      <td>Tucker Carlson: Cultural Revolution has come to America – brainwashing underway\\n\\nhttps://t.co/egE9DkdyCY</td>\n",
       "      <td>1269339425764331520</td>\n",
       "      <td>GeraldineKestn2</td>\n",
       "      <td>From #MAGA to #KAG President Trump 100%.\\nWidow of a retired U.S. Army EOD Veteran.\\nAll liberals blocked! 🚫</td>\n",
       "      <td>Washington State from Kentucky</td>\n",
       "      <td>Tucker Carlson Culturalevolution come America brainwashing underway</td>\n",
       "      <td>[tucker, carlson, culturalevolution, come, america, brainwashing, underway]</td>\n",
       "      <td>7</td>\n",
       "      <td>[tucker, carlson, culturalevolut, come, america, brainwash, underway]</td>\n",
       "    </tr>\n",
       "    <tr>\n",
       "      <th>9999</th>\n",
       "      <td>2020-06-06 18:44:36</td>\n",
       "      <td>What are the #WhiteLiberalsAntifa terrorists are doing for Saint George Floyd. His holiness, George Floyd  has gotten three funerals so far. Anyone wonders why?</td>\n",
       "      <td>1269339425357660162</td>\n",
       "      <td>MrMikeLad</td>\n",
       "      <td>IT professional, Civil Servant, father, grandfather, Deplorable, super predator and free thinker</td>\n",
       "      <td>Florida, USA</td>\n",
       "      <td>What #WhiteLiberalsAntifa terrorists Saint George Floyd His holiness George Floyd gotten three funerals far Anyone wonders</td>\n",
       "      <td>[what, #whiteliberalsantifa, terrorists, saint, george, floyd, his, holiness, george, floyd, gotten, three, funerals, far, anyone, wonders]</td>\n",
       "      <td>16</td>\n",
       "      <td>[what, #whiteliberalsantifa, terrorist, saint, georg, floyd, hi, holi, georg, floyd, gotten, three, funer, far, anyon, wonder]</td>\n",
       "    </tr>\n",
       "    <tr>\n",
       "      <th>10000</th>\n",
       "      <td>2020-06-06 18:44:36</td>\n",
       "      <td>It marks the 9th day of protests in western Washington over the death of George Floyd, a black man killed while in Minneapolis police custody. https://t.co/cSg9sc229Y</td>\n",
       "      <td>1269339424745115649</td>\n",
       "      <td>dlwdillon</td>\n",
       "      <td>PROUD grandma of Anthony !retired surgical tech-married 46 years to Denny hometown Denver livin in PacNW #progressive ,classic R&amp;R fan. avid concert goer!!</td>\n",
       "      <td>ÜT: 47.1505821,-122.3012411</td>\n",
       "      <td>It marks th day protests western Washington death George Floyd black man killed Minneapolis police custody</td>\n",
       "      <td>[it, marks, th, day, protests, western, washington, death, george, floyd, black, man, killed, minneapolis, police, custody]</td>\n",
       "      <td>16</td>\n",
       "      <td>[it, mark, th, day, protest, western, washington, death, georg, floyd, black, man, kill, minneapoli, polic, custodi]</td>\n",
       "    </tr>\n",
       "    <tr>\n",
       "      <th>10001</th>\n",
       "      <td>2020-06-06 18:44:36</td>\n",
       "      <td>Call for voter registration at George Floyd event in Montgomery. https://t.co/fENzqT173Z</td>\n",
       "      <td>1269339424497819651</td>\n",
       "      <td>MikeCasonAL</td>\n",
       "      <td>Reporter for Alabama Media Group, which includes  @aldotcom, http://t.co/8EcaqIKksL and The Birmingham News, The Huntsville Times and the Press-Register</td>\n",
       "      <td>Alabama</td>\n",
       "      <td>Call voter registration George Floyd event Montgomery</td>\n",
       "      <td>[call, voter, registration, george, floyd, event, montgomery]</td>\n",
       "      <td>7</td>\n",
       "      <td>[call, voter, registr, georg, floyd, event, montgomeri]</td>\n",
       "    </tr>\n",
       "  </tbody>\n",
       "</table>\n",
       "<p>10002 rows × 10 columns</p>\n",
       "</div>"
      ],
      "text/plain": [
       "                timestamp  \\\n",
       "0     2020-06-06 16:20:08   \n",
       "1     2020-06-06 16:20:05   \n",
       "2     2020-06-06 16:20:05   \n",
       "3     2020-06-06 16:20:03   \n",
       "4     2020-06-06 16:20:03   \n",
       "...                   ...   \n",
       "9997  2020-06-06 18:44:37   \n",
       "9998  2020-06-06 18:44:36   \n",
       "9999  2020-06-06 18:44:36   \n",
       "10000 2020-06-06 18:44:36   \n",
       "10001 2020-06-06 18:44:36   \n",
       "\n",
       "                                                                                                                                                                                                                                                                                                                          tweet  \\\n",
       "0                                                                                                                      @IrishTimes Absolutely tragic and appalling with the loss our fellow brother George Floyd (RIP) an innocent man who done wrong was taken from this world and all because he had a different skin colour.   \n",
       "1                                                                                                                                                                                                                                                         @MSNBC This was George Floyd day, yesterday.. https://t.co/OxS0Zo0GdS   \n",
       "2                                                                                                  ‘As the Floyd family &amp; the world send George home, may we stay strong in the long struggle for justice so that we can all finally, fully breathe.’.......says the fabulous musician Mariah Carey https://t.co/XVa6TR3yUO   \n",
       "3                                         I’m pretty sure COVID-19 doesn’t discriminate who it infects, so why the contradiction by medical professionals? American people are being played. Blasts Health Care Professionals Signing Letter Exempting George Floyd Protests From COVID-19 Restrictions https://t.co/c0VIZUiWgl   \n",
       "4                                                                                                       #Repost rvamag\\n• • • • • •\\nThe Fan\\n\\nRenamed in Richmond, Va • This photo was taken in The Fan this past Wednesday on the corner of George and Floyd by Richmond photogrpaher rileycgoodman… https://t.co/4CS6vkKbIt   \n",
       "...                                                                                                                                                                                                                                                                                                                         ...   \n",
       "9997   @PhilipRucker @agearan @jdawsey1 George Floyd left Houston after creating quite a record of criminal behavior. 10 years in prison for felony robbery of a pregnant woman stuck a gun to her stomach brought five other men in her house to rob her. How many encounters with police until he ran into himself a criminal   \n",
       "9998                                                                                                                                                                                                                 Tucker Carlson: Cultural Revolution has come to America – brainwashing underway\\n\\nhttps://t.co/egE9DkdyCY   \n",
       "9999                                                                                                                                                           What are the #WhiteLiberalsAntifa terrorists are doing for Saint George Floyd. His holiness, George Floyd  has gotten three funerals so far. Anyone wonders why?   \n",
       "10000                                                                                                                                                    It marks the 9th day of protests in western Washington over the death of George Floyd, a black man killed while in Minneapolis police custody. https://t.co/cSg9sc229Y   \n",
       "10001                                                                                                                                                                                                                                  Call for voter registration at George Floyd event in Montgomery. https://t.co/fENzqT173Z   \n",
       "\n",
       "                   user_id           handle  \\\n",
       "0      1269303065829613572   Martin85575817   \n",
       "1      1269303054278393856      RonKeating5   \n",
       "2      1269303053724848128  cherylroberts00   \n",
       "3      1269303048305868801    gb_richardson   \n",
       "4      1269303047928320000        paragon24   \n",
       "...                    ...              ...   \n",
       "9997   1269339428264177664    mitsy47002140   \n",
       "9998   1269339425764331520  GeraldineKestn2   \n",
       "9999   1269339425357660162        MrMikeLad   \n",
       "10000  1269339424745115649        dlwdillon   \n",
       "10001  1269339424497819651      MikeCasonAL   \n",
       "\n",
       "                                                                                                                                                                   bio  \\\n",
       "0                                Trade Unionist and long time defender of workers rights for many years.A firm believer in solidarity, equality, equity and democracy.   \n",
       "1                                                                                                                                                                  NaN   \n",
       "2               journeying life thru my woman's lens: interrogating and challenging sport and gender; writing the words, raising the voices, raging for social justice   \n",
       "3                                                                      Conservative #KAG2020 Husband-50yrs-Father Gfather, USAF CrewChief Vietnam RF-4C Phantom II 🇺🇸)   \n",
       "4                                                                                          Love my Creator, Kids, Family, and my Lady..... In Pursuit Of The Truth....   \n",
       "...                                                                                                                                                                ...   \n",
       "9997   Amazing Parenting Design & Architecture Space News Cute History Science News Gov Officials & Agencies Weird General News Travel Tech News Trending Weather Haha   \n",
       "9998                                                      From #MAGA to #KAG President Trump 100%.\\nWidow of a retired U.S. Army EOD Veteran.\\nAll liberals blocked! 🚫   \n",
       "9999                                                                  IT professional, Civil Servant, father, grandfather, Deplorable, super predator and free thinker   \n",
       "10000      PROUD grandma of Anthony !retired surgical tech-married 46 years to Denny hometown Denver livin in PacNW #progressive ,classic R&R fan. avid concert goer!!   \n",
       "10001         Reporter for Alabama Media Group, which includes  @aldotcom, http://t.co/8EcaqIKksL and The Birmingham News, The Huntsville Times and the Press-Register   \n",
       "\n",
       "                             location  \\\n",
       "0                       Cork, Ireland   \n",
       "1                                 NaN   \n",
       "2             Cape Town, South Africa   \n",
       "3                    Ferndale, MI USA   \n",
       "4               Beyond This Universe!   \n",
       "...                               ...   \n",
       "9997                     Maricopa, AZ   \n",
       "9998   Washington State from Kentucky   \n",
       "9999                     Florida, USA   \n",
       "10000     ÜT: 47.1505821,-122.3012411   \n",
       "10001                         Alabama   \n",
       "\n",
       "                                                                                                                                                                                                                         tidy_tweets  \\\n",
       "0                                                                                               IrishTimes Absolutely tragic appalling loss fellow brother George Floyd IP innocent man done wrong taken world different skin colour   \n",
       "1                                                                                                                                                                                              MSNBC This George Floyd day yesterday   \n",
       "2                                                                                          As Floyd family amp world send George home may stay strong long struggle justice finally fully breathesays fabulous musician Mariah Carey   \n",
       "3                  Im pretty sure COVID doesnt discriminate infects contradiction medical professionals American people played Blasts Health Care Professionals Signing Letter Exempting George Floyd Protests From COVIDestrictions   \n",
       "4                                                                                             #epost rvamag The Fan enamed ichmond Va This photo taken The Fan past Wednesday corner George Floyd ichmond photogrpaher rileycgoodman   \n",
       "...                                                                                                                                                                                                                              ...   \n",
       "9997   Philipucker agearan jdawsey George Floyd left Houston creating quite record criminal behavior years prison felony robbery pregnant woman stuck gun stomach brought five men house rob How many encounters police ran criminal   \n",
       "9998                                                                                                                                                             Tucker Carlson Culturalevolution come America brainwashing underway   \n",
       "9999                                                                                                      What #WhiteLiberalsAntifa terrorists Saint George Floyd His holiness George Floyd gotten three funerals far Anyone wonders   \n",
       "10000                                                                                                                     It marks th day protests western Washington death George Floyd black man killed Minneapolis police custody   \n",
       "10001                                                                                                                                                                          Call voter registration George Floyd event Montgomery   \n",
       "\n",
       "                                                                                                                                                                                                                                                tidy_tokenized_tweets  \\\n",
       "0                                                                                                            [irishtimes, absolutely, tragic, appalling, loss, fellow, brother, george, floyd, ip, innocent, man, done, wrong, taken, world, different, skin, colour]   \n",
       "1                                                                                                                                                                                                                        [msnbc, this, george, floyd, day, yesterday]   \n",
       "2                                                                                                     [as, floyd, family, amp, world, send, george, home, may, stay, strong, long, struggle, justice, finally, fully, breathesays, fabulous, musician, mariah, carey]   \n",
       "3                         [im, pretty, sure, covid, doesnt, discriminate, infects, contradiction, medical, professionals, american, people, played, blasts, health, care, professionals, signing, letter, exempting, george, floyd, protests, from, covidestrictions]   \n",
       "4                                                                                                         [#epost, rvamag, the, fan, enamed, ichmond, va, this, photo, taken, the, fan, past, wednesday, corner, george, floyd, ichmond, photogrpaher, rileycgoodman]   \n",
       "...                                                                                                                                                                                                                                                               ...   \n",
       "9997   [philipucker, agearan, jdawsey, george, floyd, left, houston, creating, quite, record, criminal, behavior, years, prison, felony, robbery, pregnant, woman, stuck, gun, stomach, brought, five, men, house, rob, how, many, encounters, police, ran, criminal]   \n",
       "9998                                                                                                                                                                                      [tucker, carlson, culturalevolution, come, america, brainwashing, underway]   \n",
       "9999                                                                                                                      [what, #whiteliberalsantifa, terrorists, saint, george, floyd, his, holiness, george, floyd, gotten, three, funerals, far, anyone, wonders]   \n",
       "10000                                                                                                                                     [it, marks, th, day, protests, western, washington, death, george, floyd, black, man, killed, minneapolis, police, custody]   \n",
       "10001                                                                                                                                                                                                   [call, voter, registration, george, floyd, event, montgomery]   \n",
       "\n",
       "       tweet_length  \\\n",
       "0                19   \n",
       "1                 6   \n",
       "2                21   \n",
       "3                25   \n",
       "4                20   \n",
       "...             ...   \n",
       "9997             32   \n",
       "9998              7   \n",
       "9999             16   \n",
       "10000            16   \n",
       "10001             7   \n",
       "\n",
       "                                                                                                                                                                                                                                        clean_tweets  \n",
       "0                                                                                                           [irishtim, absolut, tragic, appal, loss, fellow, brother, georg, floyd, ip, innoc, man, done, wrong, taken, world, differ, skin, colour]  \n",
       "1                                                                                                                                                                                                         [msnbc, thi, georg, floyd, day, yesterday]  \n",
       "2                                                                                             [as, floyd, famili, amp, world, send, georg, home, may, stay, strong, long, struggl, justic, final, fulli, breathesay, fabul, musician, mariah, carey]  \n",
       "3                                       [im, pretti, sure, covid, doesnt, discrimin, infect, contradict, medic, profession, american, peopl, play, blast, health, care, profession, sign, letter, exempt, georg, floyd, protest, from, covidestrict]  \n",
       "4                                                                                              [#epost, rvamag, the, fan, enam, ichmond, va, thi, photo, taken, the, fan, past, wednesday, corner, georg, floyd, ichmond, photogrpah, rileycgoodman]  \n",
       "...                                                                                                                                                                                                                                              ...  \n",
       "9997   [philipuck, agearan, jdawsey, georg, floyd, left, houston, creat, quit, record, crimin, behavior, year, prison, feloni, robberi, pregnant, woman, stuck, gun, stomach, brought, five, men, hous, rob, how, mani, encount, polic, ran, crimin]  \n",
       "9998                                                                                                                                                                           [tucker, carlson, culturalevolut, come, america, brainwash, underway]  \n",
       "9999                                                                                                                  [what, #whiteliberalsantifa, terrorist, saint, georg, floyd, hi, holi, georg, floyd, gotten, three, funer, far, anyon, wonder]  \n",
       "10000                                                                                                                           [it, mark, th, day, protest, western, washington, death, georg, floyd, black, man, kill, minneapoli, polic, custodi]  \n",
       "10001                                                                                                                                                                                        [call, voter, registr, georg, floyd, event, montgomeri]  \n",
       "\n",
       "[10002 rows x 10 columns]"
      ]
     },
     "execution_count": 21,
     "metadata": {},
     "output_type": "execute_result"
    }
   ],
   "source": [
    "tweet_df"
   ]
  },
  {
   "cell_type": "code",
   "execution_count": 22,
   "metadata": {},
   "outputs": [],
   "source": [
    "# Dropping intermediate tweet products\n",
    "\n",
    "tweet_df.drop(columns=['tidy_tweets', 'tidy_tokenized_tweets'], inplace=True)"
   ]
  },
  {
   "cell_type": "code",
   "execution_count": 23,
   "metadata": {
    "scrolled": false
   },
   "outputs": [
    {
     "data": {
      "text/html": [
       "<div>\n",
       "<style scoped>\n",
       "    .dataframe tbody tr th:only-of-type {\n",
       "        vertical-align: middle;\n",
       "    }\n",
       "\n",
       "    .dataframe tbody tr th {\n",
       "        vertical-align: top;\n",
       "    }\n",
       "\n",
       "    .dataframe thead th {\n",
       "        text-align: right;\n",
       "    }\n",
       "</style>\n",
       "<table border=\"1\" class=\"dataframe\">\n",
       "  <thead>\n",
       "    <tr style=\"text-align: right;\">\n",
       "      <th></th>\n",
       "      <th>timestamp</th>\n",
       "      <th>tweet</th>\n",
       "      <th>user_id</th>\n",
       "      <th>handle</th>\n",
       "      <th>bio</th>\n",
       "      <th>location</th>\n",
       "      <th>tweet_length</th>\n",
       "      <th>clean_tweets</th>\n",
       "    </tr>\n",
       "  </thead>\n",
       "  <tbody>\n",
       "    <tr>\n",
       "      <th>0</th>\n",
       "      <td>2020-06-06 16:20:08</td>\n",
       "      <td>@IrishTimes Absolutely tragic and appalling with the loss our fellow brother George Floyd (RIP) an innocent man who done wrong was taken from this world and all because he had a different skin colour.</td>\n",
       "      <td>1269303065829613572</td>\n",
       "      <td>Martin85575817</td>\n",
       "      <td>Trade Unionist and long time defender of workers rights for many years.A firm believer in solidarity, equality, equity and democracy.</td>\n",
       "      <td>Cork, Ireland</td>\n",
       "      <td>19</td>\n",
       "      <td>[irishtim, absolut, tragic, appal, loss, fellow, brother, georg, floyd, ip, innoc, man, done, wrong, taken, world, differ, skin, colour]</td>\n",
       "    </tr>\n",
       "    <tr>\n",
       "      <th>1</th>\n",
       "      <td>2020-06-06 16:20:05</td>\n",
       "      <td>@MSNBC This was George Floyd day, yesterday.. https://t.co/OxS0Zo0GdS</td>\n",
       "      <td>1269303054278393856</td>\n",
       "      <td>RonKeating5</td>\n",
       "      <td>NaN</td>\n",
       "      <td>NaN</td>\n",
       "      <td>6</td>\n",
       "      <td>[msnbc, thi, georg, floyd, day, yesterday]</td>\n",
       "    </tr>\n",
       "    <tr>\n",
       "      <th>2</th>\n",
       "      <td>2020-06-06 16:20:05</td>\n",
       "      <td>‘As the Floyd family &amp;amp; the world send George home, may we stay strong in the long struggle for justice so that we can all finally, fully breathe.’.......says the fabulous musician Mariah Carey https://t.co/XVa6TR3yUO</td>\n",
       "      <td>1269303053724848128</td>\n",
       "      <td>cherylroberts00</td>\n",
       "      <td>journeying life thru my woman's lens: interrogating and challenging sport and gender; writing the words, raising the voices, raging for social justice</td>\n",
       "      <td>Cape Town, South Africa</td>\n",
       "      <td>21</td>\n",
       "      <td>[as, floyd, famili, amp, world, send, georg, home, may, stay, strong, long, struggl, justic, final, fulli, breathesay, fabul, musician, mariah, carey]</td>\n",
       "    </tr>\n",
       "    <tr>\n",
       "      <th>3</th>\n",
       "      <td>2020-06-06 16:20:03</td>\n",
       "      <td>I’m pretty sure COVID-19 doesn’t discriminate who it infects, so why the contradiction by medical professionals? American people are being played. Blasts Health Care Professionals Signing Letter Exempting George Floyd Protests From COVID-19 Restrictions https://t.co/c0VIZUiWgl</td>\n",
       "      <td>1269303048305868801</td>\n",
       "      <td>gb_richardson</td>\n",
       "      <td>Conservative #KAG2020 Husband-50yrs-Father Gfather, USAF CrewChief Vietnam RF-4C Phantom II 🇺🇸)</td>\n",
       "      <td>Ferndale, MI USA</td>\n",
       "      <td>25</td>\n",
       "      <td>[im, pretti, sure, covid, doesnt, discrimin, infect, contradict, medic, profession, american, peopl, play, blast, health, care, profession, sign, letter, exempt, georg, floyd, protest, from, covidestrict]</td>\n",
       "    </tr>\n",
       "    <tr>\n",
       "      <th>4</th>\n",
       "      <td>2020-06-06 16:20:03</td>\n",
       "      <td>#Repost rvamag\\n• • • • • •\\nThe Fan\\n\\nRenamed in Richmond, Va • This photo was taken in The Fan this past Wednesday on the corner of George and Floyd by Richmond photogrpaher rileycgoodman… https://t.co/4CS6vkKbIt</td>\n",
       "      <td>1269303047928320000</td>\n",
       "      <td>paragon24</td>\n",
       "      <td>Love my Creator, Kids, Family, and my Lady..... In Pursuit Of The Truth....</td>\n",
       "      <td>Beyond This Universe!</td>\n",
       "      <td>20</td>\n",
       "      <td>[#epost, rvamag, the, fan, enam, ichmond, va, thi, photo, taken, the, fan, past, wednesday, corner, georg, floyd, ichmond, photogrpah, rileycgoodman]</td>\n",
       "    </tr>\n",
       "  </tbody>\n",
       "</table>\n",
       "</div>"
      ],
      "text/plain": [
       "            timestamp  \\\n",
       "0 2020-06-06 16:20:08   \n",
       "1 2020-06-06 16:20:05   \n",
       "2 2020-06-06 16:20:05   \n",
       "3 2020-06-06 16:20:03   \n",
       "4 2020-06-06 16:20:03   \n",
       "\n",
       "                                                                                                                                                                                                                                                                                   tweet  \\\n",
       "0                                                                               @IrishTimes Absolutely tragic and appalling with the loss our fellow brother George Floyd (RIP) an innocent man who done wrong was taken from this world and all because he had a different skin colour.   \n",
       "1                                                                                                                                                                                                                  @MSNBC This was George Floyd day, yesterday.. https://t.co/OxS0Zo0GdS   \n",
       "2                                                           ‘As the Floyd family &amp; the world send George home, may we stay strong in the long struggle for justice so that we can all finally, fully breathe.’.......says the fabulous musician Mariah Carey https://t.co/XVa6TR3yUO   \n",
       "3  I’m pretty sure COVID-19 doesn’t discriminate who it infects, so why the contradiction by medical professionals? American people are being played. Blasts Health Care Professionals Signing Letter Exempting George Floyd Protests From COVID-19 Restrictions https://t.co/c0VIZUiWgl   \n",
       "4                                                                #Repost rvamag\\n• • • • • •\\nThe Fan\\n\\nRenamed in Richmond, Va • This photo was taken in The Fan this past Wednesday on the corner of George and Floyd by Richmond photogrpaher rileycgoodman… https://t.co/4CS6vkKbIt   \n",
       "\n",
       "               user_id           handle  \\\n",
       "0  1269303065829613572   Martin85575817   \n",
       "1  1269303054278393856      RonKeating5   \n",
       "2  1269303053724848128  cherylroberts00   \n",
       "3  1269303048305868801    gb_richardson   \n",
       "4  1269303047928320000        paragon24   \n",
       "\n",
       "                                                                                                                                                      bio  \\\n",
       "0                   Trade Unionist and long time defender of workers rights for many years.A firm believer in solidarity, equality, equity and democracy.   \n",
       "1                                                                                                                                                     NaN   \n",
       "2  journeying life thru my woman's lens: interrogating and challenging sport and gender; writing the words, raising the voices, raging for social justice   \n",
       "3                                                         Conservative #KAG2020 Husband-50yrs-Father Gfather, USAF CrewChief Vietnam RF-4C Phantom II 🇺🇸)   \n",
       "4                                                                             Love my Creator, Kids, Family, and my Lady..... In Pursuit Of The Truth....   \n",
       "\n",
       "                  location  tweet_length  \\\n",
       "0            Cork, Ireland            19   \n",
       "1                      NaN             6   \n",
       "2  Cape Town, South Africa            21   \n",
       "3         Ferndale, MI USA            25   \n",
       "4    Beyond This Universe!            20   \n",
       "\n",
       "                                                                                                                                                                                                   clean_tweets  \n",
       "0                                                                      [irishtim, absolut, tragic, appal, loss, fellow, brother, georg, floyd, ip, innoc, man, done, wrong, taken, world, differ, skin, colour]  \n",
       "1                                                                                                                                                                    [msnbc, thi, georg, floyd, day, yesterday]  \n",
       "2                                                        [as, floyd, famili, amp, world, send, georg, home, may, stay, strong, long, struggl, justic, final, fulli, breathesay, fabul, musician, mariah, carey]  \n",
       "3  [im, pretti, sure, covid, doesnt, discrimin, infect, contradict, medic, profession, american, peopl, play, blast, health, care, profession, sign, letter, exempt, georg, floyd, protest, from, covidestrict]  \n",
       "4                                                         [#epost, rvamag, the, fan, enam, ichmond, va, thi, photo, taken, the, fan, past, wednesday, corner, georg, floyd, ichmond, photogrpah, rileycgoodman]  "
      ]
     },
     "execution_count": 23,
     "metadata": {},
     "output_type": "execute_result"
    }
   ],
   "source": [
    "tweet_df.head()"
   ]
  },
  {
   "cell_type": "markdown",
   "metadata": {},
   "source": [
    "## Vectorization"
   ]
  },
  {
   "cell_type": "code",
   "execution_count": 24,
   "metadata": {},
   "outputs": [],
   "source": [
    "tweet_df['clean_tweets']=[\" \".join(row) for row in tweet_df['clean_tweets'].values]\n",
    "\n",
    "df_x = tweet_df[\"clean_tweets\"]\n",
    "\n",
    "df_y = tweet_df[\"user_id\"]  \n",
    "\n",
    "vectorizer = TfidfVectorizer()\n",
    "\n",
    "# calculate the data matrix\n",
    "tokenized_matrix = vectorizer.fit_transform(df_x)"
   ]
  },
  {
   "cell_type": "code",
   "execution_count": 25,
   "metadata": {},
   "outputs": [
    {
     "data": {
      "text/plain": [
       "<10002x15972 sparse matrix of type '<class 'numpy.float64'>'\n",
       "\twith 156704 stored elements in Compressed Sparse Row format>"
      ]
     },
     "execution_count": 25,
     "metadata": {},
     "output_type": "execute_result"
    }
   ],
   "source": [
    "tokenized_matrix"
   ]
  },
  {
   "cell_type": "code",
   "execution_count": 26,
   "metadata": {},
   "outputs": [],
   "source": [
    "a = tokenized_matrix.toarray()  "
   ]
  },
  {
   "cell_type": "code",
   "execution_count": 27,
   "metadata": {},
   "outputs": [
    {
     "name": "stdout",
     "output_type": "stream",
     "text": [
      "* original bio text *\n",
      "\n",
      "0 :  irishtim absolut tragic appal loss fellow brother georg floyd ip innoc man done wrong taken world differ skin colour\n",
      "1 :  msnbc thi georg floyd day yesterday\n",
      "2 :  as floyd famili amp world send georg home may stay strong long struggl justic final fulli breathesay fabul musician mariah carey\n",
      "3 :  im pretti sure covid doesnt discrimin infect contradict medic profession american peopl play blast health care profession sign letter exempt georg floyd protest from covidestrict\n",
      "4 :  #epost rvamag the fan enam ichmond va thi photo taken the fan past wednesday corner georg floyd ichmond photogrpah rileycgoodman\n",
      "5 :  chuckschierbeck i think collect build includ ahmad arberi breona taylor ami cooper in everi instanc though peopl want blind found excus murder but georg floyd one long calcul tortur absolut possibl justif\n",
      "6 :  georg floyd death polic offic appear shove elderli man protest charg assault\n",
      "7 :  so funer georg floyd move capit\n",
      "8 :  asoupa alexbon obertwaynewil rsearsavon acnewsit glennbeck ealcandaceo you justifi violenc riot facepalm your troll right one obtus mistak georg floyd murder peopl potest polic brutal welcom realiti tri live someday lose lame weak obtus avoid moral\n",
      "9 :  dalla mayor eric johnson join minist today reaction death georg floyd minneapoli polic custodi the minist begin minut second prayer watch live\n"
     ]
    }
   ],
   "source": [
    "print('* original bio text *\\n')\n",
    "\n",
    "for i, tweet in enumerate(df_x[:10]):\n",
    "    print(i,': ', tweet.replace('\\n',' '))"
   ]
  },
  {
   "cell_type": "code",
   "execution_count": 28,
   "metadata": {},
   "outputs": [
    {
     "data": {
      "text/html": [
       "<div>\n",
       "<style scoped>\n",
       "    .dataframe tbody tr th:only-of-type {\n",
       "        vertical-align: middle;\n",
       "    }\n",
       "\n",
       "    .dataframe tbody tr th {\n",
       "        vertical-align: top;\n",
       "    }\n",
       "\n",
       "    .dataframe thead th {\n",
       "        text-align: right;\n",
       "    }\n",
       "</style>\n",
       "<table border=\"1\" class=\"dataframe\">\n",
       "  <thead>\n",
       "    <tr style=\"text-align: right;\">\n",
       "      <th></th>\n",
       "      <th>abus</th>\n",
       "      <th>ac</th>\n",
       "      <th>acab</th>\n",
       "      <th>academ</th>\n",
       "      <th>academi</th>\n",
       "      <th>acceler</th>\n",
       "      <th>accept</th>\n",
       "      <th>access</th>\n",
       "      <th>accessori</th>\n",
       "      <th>accid</th>\n",
       "      <th>accident</th>\n",
       "      <th>accommod</th>\n",
       "      <th>accompani</th>\n",
       "      <th>accomplic</th>\n",
       "      <th>accomplish</th>\n",
       "      <th>accord</th>\n",
       "      <th>accordingli</th>\n",
       "      <th>accost</th>\n",
       "      <th>account</th>\n",
       "      <th>accountabilitybut</th>\n",
       "    </tr>\n",
       "  </thead>\n",
       "  <tbody>\n",
       "    <tr>\n",
       "      <th>0</th>\n",
       "      <td>0.0</td>\n",
       "      <td>0.0</td>\n",
       "      <td>0.0</td>\n",
       "      <td>0.0</td>\n",
       "      <td>0.0</td>\n",
       "      <td>0.0</td>\n",
       "      <td>0.0</td>\n",
       "      <td>0.0</td>\n",
       "      <td>0.0</td>\n",
       "      <td>0.0</td>\n",
       "      <td>0.0</td>\n",
       "      <td>0.0</td>\n",
       "      <td>0.0</td>\n",
       "      <td>0.0</td>\n",
       "      <td>0.0</td>\n",
       "      <td>0.0</td>\n",
       "      <td>0.0</td>\n",
       "      <td>0.0</td>\n",
       "      <td>0.0</td>\n",
       "      <td>0.0</td>\n",
       "    </tr>\n",
       "    <tr>\n",
       "      <th>1</th>\n",
       "      <td>0.0</td>\n",
       "      <td>0.0</td>\n",
       "      <td>0.0</td>\n",
       "      <td>0.0</td>\n",
       "      <td>0.0</td>\n",
       "      <td>0.0</td>\n",
       "      <td>0.0</td>\n",
       "      <td>0.0</td>\n",
       "      <td>0.0</td>\n",
       "      <td>0.0</td>\n",
       "      <td>0.0</td>\n",
       "      <td>0.0</td>\n",
       "      <td>0.0</td>\n",
       "      <td>0.0</td>\n",
       "      <td>0.0</td>\n",
       "      <td>0.0</td>\n",
       "      <td>0.0</td>\n",
       "      <td>0.0</td>\n",
       "      <td>0.0</td>\n",
       "      <td>0.0</td>\n",
       "    </tr>\n",
       "    <tr>\n",
       "      <th>2</th>\n",
       "      <td>0.0</td>\n",
       "      <td>0.0</td>\n",
       "      <td>0.0</td>\n",
       "      <td>0.0</td>\n",
       "      <td>0.0</td>\n",
       "      <td>0.0</td>\n",
       "      <td>0.0</td>\n",
       "      <td>0.0</td>\n",
       "      <td>0.0</td>\n",
       "      <td>0.0</td>\n",
       "      <td>0.0</td>\n",
       "      <td>0.0</td>\n",
       "      <td>0.0</td>\n",
       "      <td>0.0</td>\n",
       "      <td>0.0</td>\n",
       "      <td>0.0</td>\n",
       "      <td>0.0</td>\n",
       "      <td>0.0</td>\n",
       "      <td>0.0</td>\n",
       "      <td>0.0</td>\n",
       "    </tr>\n",
       "    <tr>\n",
       "      <th>3</th>\n",
       "      <td>0.0</td>\n",
       "      <td>0.0</td>\n",
       "      <td>0.0</td>\n",
       "      <td>0.0</td>\n",
       "      <td>0.0</td>\n",
       "      <td>0.0</td>\n",
       "      <td>0.0</td>\n",
       "      <td>0.0</td>\n",
       "      <td>0.0</td>\n",
       "      <td>0.0</td>\n",
       "      <td>0.0</td>\n",
       "      <td>0.0</td>\n",
       "      <td>0.0</td>\n",
       "      <td>0.0</td>\n",
       "      <td>0.0</td>\n",
       "      <td>0.0</td>\n",
       "      <td>0.0</td>\n",
       "      <td>0.0</td>\n",
       "      <td>0.0</td>\n",
       "      <td>0.0</td>\n",
       "    </tr>\n",
       "    <tr>\n",
       "      <th>4</th>\n",
       "      <td>0.0</td>\n",
       "      <td>0.0</td>\n",
       "      <td>0.0</td>\n",
       "      <td>0.0</td>\n",
       "      <td>0.0</td>\n",
       "      <td>0.0</td>\n",
       "      <td>0.0</td>\n",
       "      <td>0.0</td>\n",
       "      <td>0.0</td>\n",
       "      <td>0.0</td>\n",
       "      <td>0.0</td>\n",
       "      <td>0.0</td>\n",
       "      <td>0.0</td>\n",
       "      <td>0.0</td>\n",
       "      <td>0.0</td>\n",
       "      <td>0.0</td>\n",
       "      <td>0.0</td>\n",
       "      <td>0.0</td>\n",
       "      <td>0.0</td>\n",
       "      <td>0.0</td>\n",
       "    </tr>\n",
       "    <tr>\n",
       "      <th>5</th>\n",
       "      <td>0.0</td>\n",
       "      <td>0.0</td>\n",
       "      <td>0.0</td>\n",
       "      <td>0.0</td>\n",
       "      <td>0.0</td>\n",
       "      <td>0.0</td>\n",
       "      <td>0.0</td>\n",
       "      <td>0.0</td>\n",
       "      <td>0.0</td>\n",
       "      <td>0.0</td>\n",
       "      <td>0.0</td>\n",
       "      <td>0.0</td>\n",
       "      <td>0.0</td>\n",
       "      <td>0.0</td>\n",
       "      <td>0.0</td>\n",
       "      <td>0.0</td>\n",
       "      <td>0.0</td>\n",
       "      <td>0.0</td>\n",
       "      <td>0.0</td>\n",
       "      <td>0.0</td>\n",
       "    </tr>\n",
       "    <tr>\n",
       "      <th>6</th>\n",
       "      <td>0.0</td>\n",
       "      <td>0.0</td>\n",
       "      <td>0.0</td>\n",
       "      <td>0.0</td>\n",
       "      <td>0.0</td>\n",
       "      <td>0.0</td>\n",
       "      <td>0.0</td>\n",
       "      <td>0.0</td>\n",
       "      <td>0.0</td>\n",
       "      <td>0.0</td>\n",
       "      <td>0.0</td>\n",
       "      <td>0.0</td>\n",
       "      <td>0.0</td>\n",
       "      <td>0.0</td>\n",
       "      <td>0.0</td>\n",
       "      <td>0.0</td>\n",
       "      <td>0.0</td>\n",
       "      <td>0.0</td>\n",
       "      <td>0.0</td>\n",
       "      <td>0.0</td>\n",
       "    </tr>\n",
       "    <tr>\n",
       "      <th>7</th>\n",
       "      <td>0.0</td>\n",
       "      <td>0.0</td>\n",
       "      <td>0.0</td>\n",
       "      <td>0.0</td>\n",
       "      <td>0.0</td>\n",
       "      <td>0.0</td>\n",
       "      <td>0.0</td>\n",
       "      <td>0.0</td>\n",
       "      <td>0.0</td>\n",
       "      <td>0.0</td>\n",
       "      <td>0.0</td>\n",
       "      <td>0.0</td>\n",
       "      <td>0.0</td>\n",
       "      <td>0.0</td>\n",
       "      <td>0.0</td>\n",
       "      <td>0.0</td>\n",
       "      <td>0.0</td>\n",
       "      <td>0.0</td>\n",
       "      <td>0.0</td>\n",
       "      <td>0.0</td>\n",
       "    </tr>\n",
       "    <tr>\n",
       "      <th>8</th>\n",
       "      <td>0.0</td>\n",
       "      <td>0.0</td>\n",
       "      <td>0.0</td>\n",
       "      <td>0.0</td>\n",
       "      <td>0.0</td>\n",
       "      <td>0.0</td>\n",
       "      <td>0.0</td>\n",
       "      <td>0.0</td>\n",
       "      <td>0.0</td>\n",
       "      <td>0.0</td>\n",
       "      <td>0.0</td>\n",
       "      <td>0.0</td>\n",
       "      <td>0.0</td>\n",
       "      <td>0.0</td>\n",
       "      <td>0.0</td>\n",
       "      <td>0.0</td>\n",
       "      <td>0.0</td>\n",
       "      <td>0.0</td>\n",
       "      <td>0.0</td>\n",
       "      <td>0.0</td>\n",
       "    </tr>\n",
       "    <tr>\n",
       "      <th>9</th>\n",
       "      <td>0.0</td>\n",
       "      <td>0.0</td>\n",
       "      <td>0.0</td>\n",
       "      <td>0.0</td>\n",
       "      <td>0.0</td>\n",
       "      <td>0.0</td>\n",
       "      <td>0.0</td>\n",
       "      <td>0.0</td>\n",
       "      <td>0.0</td>\n",
       "      <td>0.0</td>\n",
       "      <td>0.0</td>\n",
       "      <td>0.0</td>\n",
       "      <td>0.0</td>\n",
       "      <td>0.0</td>\n",
       "      <td>0.0</td>\n",
       "      <td>0.0</td>\n",
       "      <td>0.0</td>\n",
       "      <td>0.0</td>\n",
       "      <td>0.0</td>\n",
       "      <td>0.0</td>\n",
       "    </tr>\n",
       "  </tbody>\n",
       "</table>\n",
       "</div>"
      ],
      "text/plain": [
       "   abus   ac  acab  academ  academi  acceler  accept  access  accessori  \\\n",
       "0   0.0  0.0   0.0     0.0      0.0      0.0     0.0     0.0        0.0   \n",
       "1   0.0  0.0   0.0     0.0      0.0      0.0     0.0     0.0        0.0   \n",
       "2   0.0  0.0   0.0     0.0      0.0      0.0     0.0     0.0        0.0   \n",
       "3   0.0  0.0   0.0     0.0      0.0      0.0     0.0     0.0        0.0   \n",
       "4   0.0  0.0   0.0     0.0      0.0      0.0     0.0     0.0        0.0   \n",
       "5   0.0  0.0   0.0     0.0      0.0      0.0     0.0     0.0        0.0   \n",
       "6   0.0  0.0   0.0     0.0      0.0      0.0     0.0     0.0        0.0   \n",
       "7   0.0  0.0   0.0     0.0      0.0      0.0     0.0     0.0        0.0   \n",
       "8   0.0  0.0   0.0     0.0      0.0      0.0     0.0     0.0        0.0   \n",
       "9   0.0  0.0   0.0     0.0      0.0      0.0     0.0     0.0        0.0   \n",
       "\n",
       "   accid  accident  accommod  accompani  accomplic  accomplish  accord  \\\n",
       "0    0.0       0.0       0.0        0.0        0.0         0.0     0.0   \n",
       "1    0.0       0.0       0.0        0.0        0.0         0.0     0.0   \n",
       "2    0.0       0.0       0.0        0.0        0.0         0.0     0.0   \n",
       "3    0.0       0.0       0.0        0.0        0.0         0.0     0.0   \n",
       "4    0.0       0.0       0.0        0.0        0.0         0.0     0.0   \n",
       "5    0.0       0.0       0.0        0.0        0.0         0.0     0.0   \n",
       "6    0.0       0.0       0.0        0.0        0.0         0.0     0.0   \n",
       "7    0.0       0.0       0.0        0.0        0.0         0.0     0.0   \n",
       "8    0.0       0.0       0.0        0.0        0.0         0.0     0.0   \n",
       "9    0.0       0.0       0.0        0.0        0.0         0.0     0.0   \n",
       "\n",
       "   accordingli  accost  account  accountabilitybut  \n",
       "0          0.0     0.0      0.0                0.0  \n",
       "1          0.0     0.0      0.0                0.0  \n",
       "2          0.0     0.0      0.0                0.0  \n",
       "3          0.0     0.0      0.0                0.0  \n",
       "4          0.0     0.0      0.0                0.0  \n",
       "5          0.0     0.0      0.0                0.0  \n",
       "6          0.0     0.0      0.0                0.0  \n",
       "7          0.0     0.0      0.0                0.0  \n",
       "8          0.0     0.0      0.0                0.0  \n",
       "9          0.0     0.0      0.0                0.0  "
      ]
     },
     "execution_count": 28,
     "metadata": {},
     "output_type": "execute_result"
    }
   ],
   "source": [
    "(pd.DataFrame(tokenized_matrix[:10].todense(),\n",
    "              columns=[x for x in vectorizer.get_feature_names()])\n",
    " \n",
    " # experiment by choosing any range of feature indices (alphabetical order)\n",
    " .iloc[:,90:110])"
   ]
  },
  {
   "cell_type": "markdown",
   "metadata": {},
   "source": [
    "# Modelling Phase"
   ]
  },
  {
   "cell_type": "code",
   "execution_count": 29,
   "metadata": {},
   "outputs": [],
   "source": [
    "token_df = pd.DataFrame(tokenized_matrix.todense(),\n",
    "              columns=[x for x in vectorizer.get_feature_names()])"
   ]
  },
  {
   "cell_type": "code",
   "execution_count": 30,
   "metadata": {
    "scrolled": false
   },
   "outputs": [
    {
     "data": {
      "text/html": [
       "<div>\n",
       "<style scoped>\n",
       "    .dataframe tbody tr th:only-of-type {\n",
       "        vertical-align: middle;\n",
       "    }\n",
       "\n",
       "    .dataframe tbody tr th {\n",
       "        vertical-align: top;\n",
       "    }\n",
       "\n",
       "    .dataframe thead th {\n",
       "        text-align: right;\n",
       "    }\n",
       "</style>\n",
       "<table border=\"1\" class=\"dataframe\">\n",
       "  <thead>\n",
       "    <tr style=\"text-align: right;\">\n",
       "      <th></th>\n",
       "      <th>aa</th>\n",
       "      <th>aac</th>\n",
       "      <th>aacist</th>\n",
       "      <th>aakar</th>\n",
       "      <th>aameranwar</th>\n",
       "      <th>aampa</th>\n",
       "      <th>aampesellout</th>\n",
       "      <th>aanthanurdc</th>\n",
       "      <th>aap</th>\n",
       "      <th>aaron</th>\n",
       "      <th>...</th>\n",
       "      <th>zombiepiano</th>\n",
       "      <th>zone</th>\n",
       "      <th>zoo</th>\n",
       "      <th>zoobear</th>\n",
       "      <th>zoom</th>\n",
       "      <th>zoomchurchaintchurch</th>\n",
       "      <th>zubymus</th>\n",
       "      <th>zuckerberg</th>\n",
       "      <th>zugli</th>\n",
       "      <th>zygli</th>\n",
       "    </tr>\n",
       "  </thead>\n",
       "  <tbody>\n",
       "    <tr>\n",
       "      <th>0</th>\n",
       "      <td>0.0</td>\n",
       "      <td>0.0</td>\n",
       "      <td>0.0</td>\n",
       "      <td>0.0</td>\n",
       "      <td>0.0</td>\n",
       "      <td>0.0</td>\n",
       "      <td>0.0</td>\n",
       "      <td>0.0</td>\n",
       "      <td>0.0</td>\n",
       "      <td>0.0</td>\n",
       "      <td>...</td>\n",
       "      <td>0.0</td>\n",
       "      <td>0.0</td>\n",
       "      <td>0.0</td>\n",
       "      <td>0.0</td>\n",
       "      <td>0.0</td>\n",
       "      <td>0.0</td>\n",
       "      <td>0.0</td>\n",
       "      <td>0.0</td>\n",
       "      <td>0.0</td>\n",
       "      <td>0.0</td>\n",
       "    </tr>\n",
       "    <tr>\n",
       "      <th>1</th>\n",
       "      <td>0.0</td>\n",
       "      <td>0.0</td>\n",
       "      <td>0.0</td>\n",
       "      <td>0.0</td>\n",
       "      <td>0.0</td>\n",
       "      <td>0.0</td>\n",
       "      <td>0.0</td>\n",
       "      <td>0.0</td>\n",
       "      <td>0.0</td>\n",
       "      <td>0.0</td>\n",
       "      <td>...</td>\n",
       "      <td>0.0</td>\n",
       "      <td>0.0</td>\n",
       "      <td>0.0</td>\n",
       "      <td>0.0</td>\n",
       "      <td>0.0</td>\n",
       "      <td>0.0</td>\n",
       "      <td>0.0</td>\n",
       "      <td>0.0</td>\n",
       "      <td>0.0</td>\n",
       "      <td>0.0</td>\n",
       "    </tr>\n",
       "    <tr>\n",
       "      <th>2</th>\n",
       "      <td>0.0</td>\n",
       "      <td>0.0</td>\n",
       "      <td>0.0</td>\n",
       "      <td>0.0</td>\n",
       "      <td>0.0</td>\n",
       "      <td>0.0</td>\n",
       "      <td>0.0</td>\n",
       "      <td>0.0</td>\n",
       "      <td>0.0</td>\n",
       "      <td>0.0</td>\n",
       "      <td>...</td>\n",
       "      <td>0.0</td>\n",
       "      <td>0.0</td>\n",
       "      <td>0.0</td>\n",
       "      <td>0.0</td>\n",
       "      <td>0.0</td>\n",
       "      <td>0.0</td>\n",
       "      <td>0.0</td>\n",
       "      <td>0.0</td>\n",
       "      <td>0.0</td>\n",
       "      <td>0.0</td>\n",
       "    </tr>\n",
       "    <tr>\n",
       "      <th>3</th>\n",
       "      <td>0.0</td>\n",
       "      <td>0.0</td>\n",
       "      <td>0.0</td>\n",
       "      <td>0.0</td>\n",
       "      <td>0.0</td>\n",
       "      <td>0.0</td>\n",
       "      <td>0.0</td>\n",
       "      <td>0.0</td>\n",
       "      <td>0.0</td>\n",
       "      <td>0.0</td>\n",
       "      <td>...</td>\n",
       "      <td>0.0</td>\n",
       "      <td>0.0</td>\n",
       "      <td>0.0</td>\n",
       "      <td>0.0</td>\n",
       "      <td>0.0</td>\n",
       "      <td>0.0</td>\n",
       "      <td>0.0</td>\n",
       "      <td>0.0</td>\n",
       "      <td>0.0</td>\n",
       "      <td>0.0</td>\n",
       "    </tr>\n",
       "    <tr>\n",
       "      <th>4</th>\n",
       "      <td>0.0</td>\n",
       "      <td>0.0</td>\n",
       "      <td>0.0</td>\n",
       "      <td>0.0</td>\n",
       "      <td>0.0</td>\n",
       "      <td>0.0</td>\n",
       "      <td>0.0</td>\n",
       "      <td>0.0</td>\n",
       "      <td>0.0</td>\n",
       "      <td>0.0</td>\n",
       "      <td>...</td>\n",
       "      <td>0.0</td>\n",
       "      <td>0.0</td>\n",
       "      <td>0.0</td>\n",
       "      <td>0.0</td>\n",
       "      <td>0.0</td>\n",
       "      <td>0.0</td>\n",
       "      <td>0.0</td>\n",
       "      <td>0.0</td>\n",
       "      <td>0.0</td>\n",
       "      <td>0.0</td>\n",
       "    </tr>\n",
       "    <tr>\n",
       "      <th>...</th>\n",
       "      <td>...</td>\n",
       "      <td>...</td>\n",
       "      <td>...</td>\n",
       "      <td>...</td>\n",
       "      <td>...</td>\n",
       "      <td>...</td>\n",
       "      <td>...</td>\n",
       "      <td>...</td>\n",
       "      <td>...</td>\n",
       "      <td>...</td>\n",
       "      <td>...</td>\n",
       "      <td>...</td>\n",
       "      <td>...</td>\n",
       "      <td>...</td>\n",
       "      <td>...</td>\n",
       "      <td>...</td>\n",
       "      <td>...</td>\n",
       "      <td>...</td>\n",
       "      <td>...</td>\n",
       "      <td>...</td>\n",
       "      <td>...</td>\n",
       "    </tr>\n",
       "    <tr>\n",
       "      <th>9997</th>\n",
       "      <td>0.0</td>\n",
       "      <td>0.0</td>\n",
       "      <td>0.0</td>\n",
       "      <td>0.0</td>\n",
       "      <td>0.0</td>\n",
       "      <td>0.0</td>\n",
       "      <td>0.0</td>\n",
       "      <td>0.0</td>\n",
       "      <td>0.0</td>\n",
       "      <td>0.0</td>\n",
       "      <td>...</td>\n",
       "      <td>0.0</td>\n",
       "      <td>0.0</td>\n",
       "      <td>0.0</td>\n",
       "      <td>0.0</td>\n",
       "      <td>0.0</td>\n",
       "      <td>0.0</td>\n",
       "      <td>0.0</td>\n",
       "      <td>0.0</td>\n",
       "      <td>0.0</td>\n",
       "      <td>0.0</td>\n",
       "    </tr>\n",
       "    <tr>\n",
       "      <th>9998</th>\n",
       "      <td>0.0</td>\n",
       "      <td>0.0</td>\n",
       "      <td>0.0</td>\n",
       "      <td>0.0</td>\n",
       "      <td>0.0</td>\n",
       "      <td>0.0</td>\n",
       "      <td>0.0</td>\n",
       "      <td>0.0</td>\n",
       "      <td>0.0</td>\n",
       "      <td>0.0</td>\n",
       "      <td>...</td>\n",
       "      <td>0.0</td>\n",
       "      <td>0.0</td>\n",
       "      <td>0.0</td>\n",
       "      <td>0.0</td>\n",
       "      <td>0.0</td>\n",
       "      <td>0.0</td>\n",
       "      <td>0.0</td>\n",
       "      <td>0.0</td>\n",
       "      <td>0.0</td>\n",
       "      <td>0.0</td>\n",
       "    </tr>\n",
       "    <tr>\n",
       "      <th>9999</th>\n",
       "      <td>0.0</td>\n",
       "      <td>0.0</td>\n",
       "      <td>0.0</td>\n",
       "      <td>0.0</td>\n",
       "      <td>0.0</td>\n",
       "      <td>0.0</td>\n",
       "      <td>0.0</td>\n",
       "      <td>0.0</td>\n",
       "      <td>0.0</td>\n",
       "      <td>0.0</td>\n",
       "      <td>...</td>\n",
       "      <td>0.0</td>\n",
       "      <td>0.0</td>\n",
       "      <td>0.0</td>\n",
       "      <td>0.0</td>\n",
       "      <td>0.0</td>\n",
       "      <td>0.0</td>\n",
       "      <td>0.0</td>\n",
       "      <td>0.0</td>\n",
       "      <td>0.0</td>\n",
       "      <td>0.0</td>\n",
       "    </tr>\n",
       "    <tr>\n",
       "      <th>10000</th>\n",
       "      <td>0.0</td>\n",
       "      <td>0.0</td>\n",
       "      <td>0.0</td>\n",
       "      <td>0.0</td>\n",
       "      <td>0.0</td>\n",
       "      <td>0.0</td>\n",
       "      <td>0.0</td>\n",
       "      <td>0.0</td>\n",
       "      <td>0.0</td>\n",
       "      <td>0.0</td>\n",
       "      <td>...</td>\n",
       "      <td>0.0</td>\n",
       "      <td>0.0</td>\n",
       "      <td>0.0</td>\n",
       "      <td>0.0</td>\n",
       "      <td>0.0</td>\n",
       "      <td>0.0</td>\n",
       "      <td>0.0</td>\n",
       "      <td>0.0</td>\n",
       "      <td>0.0</td>\n",
       "      <td>0.0</td>\n",
       "    </tr>\n",
       "    <tr>\n",
       "      <th>10001</th>\n",
       "      <td>0.0</td>\n",
       "      <td>0.0</td>\n",
       "      <td>0.0</td>\n",
       "      <td>0.0</td>\n",
       "      <td>0.0</td>\n",
       "      <td>0.0</td>\n",
       "      <td>0.0</td>\n",
       "      <td>0.0</td>\n",
       "      <td>0.0</td>\n",
       "      <td>0.0</td>\n",
       "      <td>...</td>\n",
       "      <td>0.0</td>\n",
       "      <td>0.0</td>\n",
       "      <td>0.0</td>\n",
       "      <td>0.0</td>\n",
       "      <td>0.0</td>\n",
       "      <td>0.0</td>\n",
       "      <td>0.0</td>\n",
       "      <td>0.0</td>\n",
       "      <td>0.0</td>\n",
       "      <td>0.0</td>\n",
       "    </tr>\n",
       "  </tbody>\n",
       "</table>\n",
       "<p>10002 rows × 15972 columns</p>\n",
       "</div>"
      ],
      "text/plain": [
       "        aa  aac  aacist  aakar  aameranwar  aampa  aampesellout  aanthanurdc  \\\n",
       "0      0.0  0.0     0.0    0.0         0.0    0.0           0.0          0.0   \n",
       "1      0.0  0.0     0.0    0.0         0.0    0.0           0.0          0.0   \n",
       "2      0.0  0.0     0.0    0.0         0.0    0.0           0.0          0.0   \n",
       "3      0.0  0.0     0.0    0.0         0.0    0.0           0.0          0.0   \n",
       "4      0.0  0.0     0.0    0.0         0.0    0.0           0.0          0.0   \n",
       "...    ...  ...     ...    ...         ...    ...           ...          ...   \n",
       "9997   0.0  0.0     0.0    0.0         0.0    0.0           0.0          0.0   \n",
       "9998   0.0  0.0     0.0    0.0         0.0    0.0           0.0          0.0   \n",
       "9999   0.0  0.0     0.0    0.0         0.0    0.0           0.0          0.0   \n",
       "10000  0.0  0.0     0.0    0.0         0.0    0.0           0.0          0.0   \n",
       "10001  0.0  0.0     0.0    0.0         0.0    0.0           0.0          0.0   \n",
       "\n",
       "       aap  aaron  ...  zombiepiano  zone  zoo  zoobear  zoom  \\\n",
       "0      0.0    0.0  ...          0.0   0.0  0.0      0.0   0.0   \n",
       "1      0.0    0.0  ...          0.0   0.0  0.0      0.0   0.0   \n",
       "2      0.0    0.0  ...          0.0   0.0  0.0      0.0   0.0   \n",
       "3      0.0    0.0  ...          0.0   0.0  0.0      0.0   0.0   \n",
       "4      0.0    0.0  ...          0.0   0.0  0.0      0.0   0.0   \n",
       "...    ...    ...  ...          ...   ...  ...      ...   ...   \n",
       "9997   0.0    0.0  ...          0.0   0.0  0.0      0.0   0.0   \n",
       "9998   0.0    0.0  ...          0.0   0.0  0.0      0.0   0.0   \n",
       "9999   0.0    0.0  ...          0.0   0.0  0.0      0.0   0.0   \n",
       "10000  0.0    0.0  ...          0.0   0.0  0.0      0.0   0.0   \n",
       "10001  0.0    0.0  ...          0.0   0.0  0.0      0.0   0.0   \n",
       "\n",
       "       zoomchurchaintchurch  zubymus  zuckerberg  zugli  zygli  \n",
       "0                       0.0      0.0         0.0    0.0    0.0  \n",
       "1                       0.0      0.0         0.0    0.0    0.0  \n",
       "2                       0.0      0.0         0.0    0.0    0.0  \n",
       "3                       0.0      0.0         0.0    0.0    0.0  \n",
       "4                       0.0      0.0         0.0    0.0    0.0  \n",
       "...                     ...      ...         ...    ...    ...  \n",
       "9997                    0.0      0.0         0.0    0.0    0.0  \n",
       "9998                    0.0      0.0         0.0    0.0    0.0  \n",
       "9999                    0.0      0.0         0.0    0.0    0.0  \n",
       "10000                   0.0      0.0         0.0    0.0    0.0  \n",
       "10001                   0.0      0.0         0.0    0.0    0.0  \n",
       "\n",
       "[10002 rows x 15972 columns]"
      ]
     },
     "execution_count": 30,
     "metadata": {},
     "output_type": "execute_result"
    }
   ],
   "source": [
    "token_df"
   ]
  },
  {
   "cell_type": "code",
   "execution_count": 27,
   "metadata": {},
   "outputs": [
    {
     "name": "stderr",
     "output_type": "stream",
     "text": [
      "WARNING:root:fitting model for 2 clusters\n",
      "WARNING:root:fitting model for 3 clusters\n",
      "WARNING:root:fitting model for 4 clusters\n",
      "WARNING:root:fitting model for 5 clusters\n",
      "WARNING:root:fitting model for 10 clusters\n"
     ]
    },
    {
     "name": "stdout",
     "output_type": "stream",
     "text": [
      "Wall time: 27min 56s\n"
     ]
    },
    {
     "data": {
      "text/plain": [
       "Text(0.5, 0, 'k')"
      ]
     },
     "execution_count": 27,
     "metadata": {},
     "output_type": "execute_result"
    },
    {
     "data": {
      "image/png": "[encoded data removed]",
      "text/plain": [
       "<Figure size 432x288 with 2 Axes>"
      ]
     },
     "metadata": {
      "needs_background": "light"
     },
     "output_type": "display_data"
    }
   ],
   "source": [
    "%%time\n",
    "# compare a broad range of ks to start\n",
    "ks = [2, 3, 4, 5, 10]\n",
    "\n",
    "# track a couple of metrics\n",
    "sil_scores = []\n",
    "inertias = []\n",
    "\n",
    "# fit the models, save the evaluation metrics from each run\n",
    "for k in ks:\n",
    "    logging.warning('fitting model for {} clusters'.format(k))\n",
    "    model = KMeans(n_clusters=k, n_jobs=-1, random_state=seed)\n",
    "    model.fit(token_df)\n",
    "    labels = model.labels_\n",
    "    sil_scores.append(silhouette_score(token_df, labels))\n",
    "    inertias.append(model.inertia_)\n",
    "\n",
    "# plot the quality metrics for inspection\n",
    "fig, ax = plt.subplots(2, 1, sharex=True)\n",
    "\n",
    "plt.subplot(211)\n",
    "plt.plot(ks, inertias, 'o--')\n",
    "plt.ylabel('inertia')\n",
    "plt.title('kmeans parameter search')\n",
    "\n",
    "plt.subplot(212)\n",
    "plt.plot(ks, sil_scores, 'o--')\n",
    "plt.ylabel('silhouette score')\n",
    "plt.xlabel('k');"
   ]
  },
  {
   "cell_type": "markdown",
   "metadata": {},
   "source": [
    "Silhouette scores are generally low, but it seems like more clusters are better. We could increase the number of clusters with more compute power and probably increase the models performance, but will stick to this for now. Let's use PCA to reduce dimensionality on our dataframe and visualize the clusterings."
   ]
  },
  {
   "cell_type": "code",
   "execution_count": 50,
   "metadata": {},
   "outputs": [],
   "source": [
    "pca = PCA(n_components=2).fit_transform(token_df)"
   ]
  },
  {
   "cell_type": "code",
   "execution_count": 41,
   "metadata": {},
   "outputs": [
    {
     "name": "stdout",
     "output_type": "stream",
     "text": [
      "59.2 ms ± 7.04 ms per loop (mean ± std. dev. of 7 runs, 10 loops each)\n"
     ]
    },
    {
     "data": {
      "image/png": "[encoded data removed]",
      "text/plain": [
       "<Figure size 432x288 with 1 Axes>"
      ]
     },
     "metadata": {
      "needs_background": "light"
     },
     "output_type": "display_data"
    }
   ],
   "source": [
    "k_means = KMeans(n_clusters=2, random_state=123)\n",
    "%timeit k_means.fit(pca)\n",
    "y_pred = k_means.predict(pca)\n",
    "\n",
    "# Plot the solution.\n",
    "plt.scatter(pca[:,0], pca[:,1], c=y_pred)\n",
    "plt.show()"
   ]
  },
  {
   "cell_type": "code",
   "execution_count": 42,
   "metadata": {},
   "outputs": [
    {
     "name": "stdout",
     "output_type": "stream",
     "text": [
      "98 ms ± 14.9 ms per loop (mean ± std. dev. of 7 runs, 10 loops each)\n"
     ]
    },
    {
     "data": {
      "image/png": "[encoded data removed]",
      "text/plain": [
       "<Figure size 432x288 with 1 Axes>"
      ]
     },
     "metadata": {
      "needs_background": "light"
     },
     "output_type": "display_data"
    }
   ],
   "source": [
    "k_means = KMeans(n_clusters=3, random_state=123)\n",
    "%timeit k_means.fit(pca)\n",
    "y_pred = k_means.predict(pca)\n",
    "\n",
    "# Plot the solution.\n",
    "plt.scatter(pca[:,0], pca[:,1], c=y_pred)\n",
    "plt.show()"
   ]
  },
  {
   "cell_type": "code",
   "execution_count": 43,
   "metadata": {},
   "outputs": [
    {
     "name": "stdout",
     "output_type": "stream",
     "text": [
      "120 ms ± 5.97 ms per loop (mean ± std. dev. of 7 runs, 10 loops each)\n"
     ]
    },
    {
     "data": {
      "image/png": "[encoded data removed]",
      "text/plain": [
       "<Figure size 432x288 with 1 Axes>"
      ]
     },
     "metadata": {
      "needs_background": "light"
     },
     "output_type": "display_data"
    }
   ],
   "source": [
    "k_means = KMeans(n_clusters=4, random_state=123)\n",
    "%timeit k_means.fit(pca)\n",
    "y_pred = k_means.predict(pca)\n",
    "\n",
    "# Plot the solution.\n",
    "plt.scatter(pca[:,0], pca[:,1], c=y_pred)\n",
    "plt.show()"
   ]
  },
  {
   "cell_type": "code",
   "execution_count": 44,
   "metadata": {},
   "outputs": [
    {
     "name": "stdout",
     "output_type": "stream",
     "text": [
      "131 ms ± 2.12 ms per loop (mean ± std. dev. of 7 runs, 10 loops each)\n"
     ]
    },
    {
     "data": {
      "image/png": "[encoded data removed]",
      "text/plain": [
       "<Figure size 432x288 with 1 Axes>"
      ]
     },
     "metadata": {
      "needs_background": "light"
     },
     "output_type": "display_data"
    }
   ],
   "source": [
    "k_means = KMeans(n_clusters=5, random_state=123)\n",
    "%timeit k_means.fit(pca)\n",
    "y_pred = k_means.predict(pca)\n",
    "\n",
    "# Plot the solution.\n",
    "plt.scatter(pca[:,0], pca[:,1], c=y_pred)\n",
    "plt.show()"
   ]
  },
  {
   "cell_type": "code",
   "execution_count": 45,
   "metadata": {},
   "outputs": [
    {
     "name": "stdout",
     "output_type": "stream",
     "text": [
      "267 ms ± 6.04 ms per loop (mean ± std. dev. of 7 runs, 1 loop each)\n"
     ]
    },
    {
     "data": {
      "image/png": "[encoded data removed]",
      "text/plain": [
       "<Figure size 432x288 with 1 Axes>"
      ]
     },
     "metadata": {
      "needs_background": "light"
     },
     "output_type": "display_data"
    }
   ],
   "source": [
    "k_means = KMeans(n_clusters=10, random_state=123)\n",
    "%timeit k_means.fit(pca)\n",
    "y_pred = k_means.predict(pca)\n",
    "\n",
    "# Plot the solution.\n",
    "plt.scatter(pca[:,0], pca[:,1], c=y_pred)\n",
    "plt.show()"
   ]
  },
  {
   "cell_type": "markdown",
   "metadata": {},
   "source": [
    "Clusters here are difficult to naturally distinguish, while the delineations made by our model seem somewhat arbitrary. Our best silhouette score, at 0.016, is extremely low. We would be able to improve it greatly with more compute power or more time. I am confident we could approach at least 0.40 doing so.\n",
    "\n",
    "Let's examine what we've discovered by checking the population numbers for each cluster."
   ]
  },
  {
   "cell_type": "code",
   "execution_count": 47,
   "metadata": {},
   "outputs": [
    {
     "data": {
      "image/png": "[encoded data removed]",
      "text/plain": [
       "<Figure size 432x288 with 1 Axes>"
      ]
     },
     "metadata": {
      "needs_background": "light"
     },
     "output_type": "display_data"
    }
   ],
   "source": [
    "plt.bar(range(len(set(model.labels_))), np.bincount(model.labels_))\n",
    "\n",
    "plt.ylabel('population')\n",
    "plt.xlabel('cluster label')\n",
    "plt.title('population sizes with {} clusters'.format(10));\n",
    "\n",
    "# truncate y axis to see the rest better\n",
    "# (comment out to see the peak value for the largest cluster)\n",
    "plt.ylim(0,1000);"
   ]
  },
  {
   "cell_type": "markdown",
   "metadata": {},
   "source": [
    "We appear to have heavily varying cluster populations. We don't have any reason to think that the clusters should be similarly sized. In fact, having small numbers of particularly large clusters are a common result. Although it could mean that there are large numbers of users tweeting similar things, it may also suggest we are not doing a very good job of differentiating our tweets, perhaps because our original dataset is not large or rich enough.\n",
    "\n",
    "We can't reach a strong conclusion at the moment, so let's take a look at some cluster-text associations.\n",
    "\n",
    "Our observations (tweets) were clustered in a parameter space using the words in their tweet. In the KMeans algorithm, the the clusters are represented as coordinates relative to each cluster’s centroid. Due to this, we can inspect our results by asking which token vectors have the largest projection onto their respective cluster centroids. In other words, which tokens are most strongly associated with each cluster?"
   ]
  },
  {
   "cell_type": "code",
   "execution_count": 97,
   "metadata": {},
   "outputs": [],
   "source": [
    "def strongest_features(model, vectorizer, topk=10):\n",
    "    \"\"\"\n",
    "    Helper function to display a simple text representation of the top-k most\n",
    "    important features in our fit model and vectorizer.\n",
    "\n",
    "    model: sklearn model\n",
    "    vectorizer: sklearn vectorizer\n",
    "    topk: k numbers of words to get per cluster\n",
    "\n",
    "    \"\"\"\n",
    "    # these parts are model-independent\n",
    "    m_name = model.__class__.__name__\n",
    "    features = vectorizer.get_feature_names()\n",
    "    # different calculations per model type\n",
    "    if m_name is 'KMeans':\n",
    "        relevant_labels = list(set(model.labels_))\n",
    "        centroids = model.cluster_centers_.argsort()[:,::-1]\n",
    "        for this_label in relevant_labels:\n",
    "            print('Cluster {}:'.format(this_label), end='')\n",
    "            for ind in centroids[this_label, :topk]:\n",
    "                print(' {}'.format(features[ind]), end='')\n",
    "            print()\n",
    "    else:\n",
    "        raise NotImplementedError('This helper method currently only supports KMeans models')"
   ]
  },
  {
   "cell_type": "code",
   "execution_count": 52,
   "metadata": {},
   "outputs": [
    {
     "name": "stdout",
     "output_type": "stream",
     "text": [
      "Cluster 0: floyd georg peopl polic murder death black like thi kill it say cop he one\n",
      "Cluster 1: memori north carolina servic mourner georg floyd hundr nc gather inaeford today underway expect line\n",
      "Cluster 2: fortress wall defin bang flash furi behind week countri trump insid cnnpolit cnn bunker bunkerboy\n",
      "Cluster 3: the floyd georg protest death peopl polic they who is in kill die murder come\n",
      "Cluster 4: live matter black protest updat georg floyd death gather thousand dc white london demonstr hous\n",
      "Cluster 5: protest floyd georg death via thousand news youtub antirac polic uk us demonstr bbc kill\n",
      "Cluster 6: trump floyd georg great day say donald job via name presid media tribut video said\n",
      "Cluster 7: brutal polic met wave across us protest shove buffalo charg offic yearold assault action two\n",
      "Cluster 8: petit sign justic jacob frey mayor chang via omaha scurlock floyd jame georg demand racist\n",
      "Cluster 9: wake support demand aoc defund death polic candac owen white do georg durtti floyd propos\n"
     ]
    }
   ],
   "source": [
    "strongest_features(model, vectorizer, topk=15)"
   ]
  },
  {
   "cell_type": "markdown",
   "metadata": {},
   "source": [
    "Here, we can see some distinctions in the first (strongest) terms. Cluster 0 seems to be comprised of tweets about George Floyd's death under Derek Chauvin. Cluster 1 revolves around a memorial service for Floyd being held in North Carolina. Cluster 2 seems to be about the Trump White House fortifying security in response to the protests taking place. In this fashion, the clusters alternatively cover police brutality in buffalo, Minneapolis Mayor Jacob Frey's response to the events, and more."
   ]
  },
  {
   "cell_type": "markdown",
   "metadata": {},
   "source": [
    "## DBSCAN"
   ]
  },
  {
   "cell_type": "markdown",
   "metadata": {},
   "source": [
    "I ran into several issues attempting to use DBSCAN. At first, using the unmodified token_df dataframe meant that the models took too much time to run. I decided to reduce the dimensionality of the dataframe down to .9, .85 and .75 variance, trying the models at each turn. Although the models seemed to run faster, it was now the case that regardless of how much the parameters differed at each run, DBSCAN was unable to generate more than a single cluster. This proved to be a impasse, since more than one cluster is definitionally required to be able to calculate silhouette scores, the only formal metric we're using to compare model performance. I have left my attempts, error messages included, in this notebook for my submission to Thinkful, so they can be appreciated. Before I upload to GitHub however, I will remove the cells and only leave this explanatory markdown cell in place."
   ]
  },
  {
   "cell_type": "code",
   "execution_count": 35,
   "metadata": {},
   "outputs": [],
   "source": [
    "pca_df_2 = PCA(n_components=0.75, svd_solver='full').fit_transform(token_df)"
   ]
  },
  {
   "cell_type": "code",
   "execution_count": 36,
   "metadata": {},
   "outputs": [],
   "source": [
    "pca_to_df = pd.DataFrame(pca_df_2)"
   ]
  },
  {
   "cell_type": "code",
   "execution_count": 37,
   "metadata": {},
   "outputs": [
    {
     "data": {
      "text/plain": [
       "(10002, 1546)"
      ]
     },
     "execution_count": 37,
     "metadata": {},
     "output_type": "execute_result"
    }
   ],
   "source": [
    "pca_to_df.shape"
   ]
  },
  {
   "cell_type": "markdown",
   "metadata": {},
   "source": [
    "## Gaussian Mixture Models (GMM)"
   ]
  },
  {
   "cell_type": "markdown",
   "metadata": {},
   "source": [
    "In Gaussian Mixture clustering, each observation is assigned to several clusters with associated probabilities. Among other things, it can tackle non-linear geometries."
   ]
  },
  {
   "cell_type": "code",
   "execution_count": 98,
   "metadata": {},
   "outputs": [
    {
     "name": "stdout",
     "output_type": "stream",
     "text": [
      "Silhouette score with covariance_type=full: 0.05907532078603385\n"
     ]
    }
   ],
   "source": [
    "# Defining the agglomerative clustering\n",
    "gmm_cluster = GaussianMixture(n_components=2, random_state=seed)\n",
    "# Fit model\n",
    "clusters = gmm_cluster.fit_predict(pca_df_2)\n",
    "\n",
    "print(\"Silhouette score with covariance_type=full: {}\".format(silhouette_score(pca_df_2, clusters, metric='euclidean')))"
   ]
  },
  {
   "cell_type": "markdown",
   "metadata": {},
   "source": [
    "This is our best score so far. Let's take a look at the PCA visualization."
   ]
  },
  {
   "cell_type": "code",
   "execution_count": 51,
   "metadata": {},
   "outputs": [
    {
     "data": {
      "image/png": "[encoded data removed]",
      "text/plain": [
       "<Figure size 432x288 with 1 Axes>"
      ]
     },
     "metadata": {
      "needs_background": "light"
     },
     "output_type": "display_data"
    }
   ],
   "source": [
    "# Plot the solution.\n",
    "plt.scatter(pca[:,0], pca[:,1], c=clusters)\n",
    "plt.show()"
   ]
  },
  {
   "cell_type": "markdown",
   "metadata": {},
   "source": [
    "Still seems arbitrary, and the number of clusters intuitively seems much too low considering the thematic breadth of the conversation that is probably captured in our dataframe."
   ]
  },
  {
   "cell_type": "code",
   "execution_count": 54,
   "metadata": {},
   "outputs": [
    {
     "name": "stdout",
     "output_type": "stream",
     "text": [
      "Silhouette score with covariance_type=full: 0.0373760282997954\n"
     ]
    },
    {
     "data": {
      "image/png": "[encoded data removed]",
      "text/plain": [
       "<Figure size 432x288 with 1 Axes>"
      ]
     },
     "metadata": {
      "needs_background": "light"
     },
     "output_type": "display_data"
    }
   ],
   "source": [
    "# Defining the agglomerative clustering\n",
    "gmm_cluster = GaussianMixture(n_components=4, random_state=seed, covariance_type=\"full\")\n",
    "# Fit model\n",
    "clusters = gmm_cluster.fit_predict(pca_df_2)\n",
    "\n",
    "print(\"Silhouette score with covariance_type=full: {}\".format(silhouette_score(pca_df_2, clusters, metric='euclidean')))\n",
    "\n",
    "# Plot the solution.\n",
    "plt.scatter(pca[:,0], pca[:,1], c=clusters)\n",
    "plt.show()"
   ]
  },
  {
   "cell_type": "code",
   "execution_count": 55,
   "metadata": {},
   "outputs": [
    {
     "name": "stdout",
     "output_type": "stream",
     "text": [
      "Silhouette score with covariance_type=full: 0.03376668349704644\n"
     ]
    },
    {
     "data": {
      "image/png": "[encoded data removed]",
      "text/plain": [
       "<Figure size 432x288 with 1 Axes>"
      ]
     },
     "metadata": {
      "needs_background": "light"
     },
     "output_type": "display_data"
    }
   ],
   "source": [
    "# Defining the agglomerative clustering\n",
    "gmm_cluster = GaussianMixture(n_components=3, random_state=seed, covariance_type=\"tied\")\n",
    "# Fit model\n",
    "clusters = gmm_cluster.fit_predict(pca_df_2)\n",
    "\n",
    "print(\"Silhouette score with covariance_type=full: {}\".format(silhouette_score(pca_df_2, clusters, metric='euclidean')))\n",
    "\n",
    "# Plot the solution.\n",
    "plt.scatter(pca[:,0], pca[:,1], c=clusters)\n",
    "plt.show()"
   ]
  },
  {
   "cell_type": "code",
   "execution_count": 56,
   "metadata": {},
   "outputs": [
    {
     "name": "stdout",
     "output_type": "stream",
     "text": [
      "Silhouette score with covariance_type=full: -0.010183761990329497\n"
     ]
    },
    {
     "data": {
      "image/png": "[encoded data removed]",
      "text/plain": [
       "<Figure size 432x288 with 1 Axes>"
      ]
     },
     "metadata": {
      "needs_background": "light"
     },
     "output_type": "display_data"
    }
   ],
   "source": [
    "# Defining the agglomerative clustering\n",
    "gmm_cluster = GaussianMixture(n_components=8, random_state=seed, covariance_type=\"diag\")\n",
    "# Fit model\n",
    "clusters = gmm_cluster.fit_predict(pca_df_2)\n",
    "\n",
    "print(\"Silhouette score with covariance_type=full: {}\".format(silhouette_score(pca_df_2, clusters, metric='euclidean')))\n",
    "\n",
    "# Plot the solution.\n",
    "plt.scatter(pca[:,0], pca[:,1], c=clusters)\n",
    "plt.show()"
   ]
  },
  {
   "cell_type": "code",
   "execution_count": 58,
   "metadata": {},
   "outputs": [
    {
     "name": "stdout",
     "output_type": "stream",
     "text": [
      "Silhouette score with covariance_type=full: -0.009762970428695145\n"
     ]
    },
    {
     "data": {
      "image/png": "[encoded data removed]",
      "text/plain": [
       "<Figure size 432x288 with 1 Axes>"
      ]
     },
     "metadata": {
      "needs_background": "light"
     },
     "output_type": "display_data"
    }
   ],
   "source": [
    "# Defining the agglomerative clustering\n",
    "gmm_cluster = GaussianMixture(n_components=10, random_state=seed, covariance_type=\"spherical\")\n",
    "# Fit model\n",
    "clusters = gmm_cluster.fit_predict(pca_df_2)\n",
    "\n",
    "print(\"Silhouette score with covariance_type=full: {}\".format(silhouette_score(pca_df_2, clusters, metric='euclidean')))\n",
    "\n",
    "# Plot the solution.\n",
    "plt.scatter(pca[:,0], pca[:,1], c=clusters)\n",
    "plt.show()"
   ]
  },
  {
   "cell_type": "markdown",
   "metadata": {},
   "source": [
    "We obtained on relatively good score, but overall GMM did not give us the best performance, and some scores are negative. Since running the whole dataframe was too computationally taxing, we used a PCAd dataframe. Because of that we cannot visualize cluster-text associations"
   ]
  },
  {
   "cell_type": "markdown",
   "metadata": {},
   "source": [
    "## Agglomerative Clustering"
   ]
  },
  {
   "cell_type": "code",
   "execution_count": 61,
   "metadata": {},
   "outputs": [
    {
     "name": "stdout",
     "output_type": "stream",
     "text": [
      "Silhouette score of linkage method average: -0.07488923015263703\n"
     ]
    }
   ],
   "source": [
    "# Defining the agglomerative clustering\n",
    "agg_cluster = AgglomerativeClustering(linkage=\"complete\", affinity='cosine', n_clusters=10)\n",
    "\n",
    "# Fit model\n",
    "clusters = agg_cluster.fit_predict(pca_df_2)\n",
    "\n",
    "print(\"Silhouette score of linkage method average: {}\".format(silhouette_score(pca_df_2, clusters, metric='euclidean')))"
   ]
  },
  {
   "cell_type": "code",
   "execution_count": 62,
   "metadata": {},
   "outputs": [
    {
     "name": "stdout",
     "output_type": "stream",
     "text": [
      "Silhouette score of linkage method average: 0.008552069981882954\n"
     ]
    }
   ],
   "source": [
    "# Defining the agglomerative clustering\n",
    "agg_cluster = AgglomerativeClustering(linkage=\"average\", affinity='cosine', n_clusters=10)\n",
    "\n",
    "# Fit model\n",
    "clusters = agg_cluster.fit_predict(pca_df_2)\n",
    "\n",
    "print(\"Silhouette score of linkage method average: {}\".format(silhouette_score(pca_df_2, clusters, metric='euclidean')))"
   ]
  },
  {
   "cell_type": "code",
   "execution_count": 63,
   "metadata": {},
   "outputs": [
    {
     "name": "stdout",
     "output_type": "stream",
     "text": [
      "Silhouette score of linkage method average: 0.05295042668216449\n"
     ]
    }
   ],
   "source": [
    "# Defining the agglomerative clustering\n",
    "agg_cluster = AgglomerativeClustering(linkage=\"ward\", affinity='euclidean', n_clusters=10)\n",
    "\n",
    "# Fit model\n",
    "clusters = agg_cluster.fit_predict(pca_df_2)\n",
    "\n",
    "print(\"Silhouette score of linkage method average: {}\".format(silhouette_score(pca_df_2, clusters, metric='euclidean')))"
   ]
  },
  {
   "cell_type": "code",
   "execution_count": 67,
   "metadata": {},
   "outputs": [
    {
     "data": {
      "image/png": "[encoded data removed]",
      "text/plain": [
       "<Figure size 1152x576 with 1 Axes>"
      ]
     },
     "metadata": {
      "needs_background": "light"
     },
     "output_type": "display_data"
    }
   ],
   "source": [
    "plt.figure(figsize=(16,8))\n",
    "plt.title(\"Dendrogram with linkage method: complete\")\n",
    "dendrogram(linkage(pca_df_2, method='complete'))\n",
    "plt.show()"
   ]
  },
  {
   "cell_type": "code",
   "execution_count": 68,
   "metadata": {},
   "outputs": [
    {
     "data": {
      "image/png": "[encoded data removed]",
      "text/plain": [
       "<Figure size 1440x720 with 1 Axes>"
      ]
     },
     "metadata": {
      "needs_background": "light"
     },
     "output_type": "display_data"
    }
   ],
   "source": [
    "plt.figure(figsize=(20,10))\n",
    "plt.title(\"Dendrogram with linkage method: average\")\n",
    "dendrogram(linkage(pca_df_2, method='average'))\n",
    "plt.show()"
   ]
  },
  {
   "cell_type": "code",
   "execution_count": 69,
   "metadata": {},
   "outputs": [
    {
     "data": {
      "image/png": "[encoded data removed]",
      "text/plain": [
       "<Figure size 1440x720 with 1 Axes>"
      ]
     },
     "metadata": {
      "needs_background": "light"
     },
     "output_type": "display_data"
    }
   ],
   "source": [
    "plt.figure(figsize=(20,10))\n",
    "plt.title(\"Dendrogram with linkage method: Ward\")\n",
    "dendrogram(linkage(pca_df_2, method='ward'))\n",
    "plt.show()"
   ]
  },
  {
   "cell_type": "markdown",
   "metadata": {},
   "source": [
    "The ward dendrogram seems like the most resonable one, but considering our other candidates, that is not saying much. The clusters are very imbalanced."
   ]
  },
  {
   "cell_type": "markdown",
   "metadata": {},
   "source": [
    "## Dimensionality Reduction with UMAP"
   ]
  },
  {
   "cell_type": "code",
   "execution_count": 72,
   "metadata": {},
   "outputs": [
    {
     "name": "stderr",
     "output_type": "stream",
     "text": [
      "C:\\Users\\sebar\\Anaconda3\\lib\\site-packages\\numba\\np\\ufunc\\parallel.py:355: NumbaWarning: \u001b[1mThe TBB threading layer requires TBB version 2019.5 or later i.e., TBB_INTERFACE_VERSION >= 11005. Found TBB_INTERFACE_VERSION = 11000. The TBB threading layer is disabled.\u001b[0m\n",
      "  warnings.warn(problem)\n",
      "C:\\Users\\sebar\\Anaconda3\\lib\\importlib\\__init__.py:127: NumbaDeprecationWarning: \u001b[1mAn import was requested from a module that has moved location.\n",
      "Import requested from: 'numba.targets.registry', please update to use 'numba.core.registry' or pin to Numba version 0.48.0. This alias will not be present in Numba version 0.50.0.\u001b[0m\n",
      "  return _bootstrap._gcd_import(name[level:], package, level)\n",
      "C:\\Users\\sebar\\Anaconda3\\lib\\site-packages\\umap\\spectral.py:106: NumbaDeprecationWarning: \u001b[1mAn import was requested from a module that has moved location.\n",
      "Import of 'CPUDispatcher' requested from: 'numba.targets.registry', please update to use 'numba.core.registry' or pin to Numba version 0.48.0. This alias will not be present in Numba version 0.50.0.\u001b[0m\n",
      "  ) == numba.targets.registry.CPUDispatcher and scipy.sparse.isspmatrix(data):\n"
     ]
    }
   ],
   "source": [
    "umap_results = umap.UMAP(n_neighbors=3, min_dist=0.3, metric='correlation').fit_transform(token_df)"
   ]
  },
  {
   "cell_type": "code",
   "execution_count": 73,
   "metadata": {},
   "outputs": [
    {
     "data": {
      "image/png": "[encoded data removed]",
      "text/plain": [
       "<Figure size 720x360 with 1 Axes>"
      ]
     },
     "metadata": {},
     "output_type": "display_data"
    }
   ],
   "source": [
    "plt.figure(figsize=(10,5))\n",
    "plt.title(\"Umap with n_neighbors=3 and min_dist=0.3\")\n",
    "plt.scatter(umap_results[:, 0], umap_results[:, 1])\n",
    "plt.xticks([])\n",
    "plt.yticks([])\n",
    "plt.axis('off')\n",
    "plt.show()"
   ]
  },
  {
   "cell_type": "code",
   "execution_count": 74,
   "metadata": {},
   "outputs": [
    {
     "name": "stderr",
     "output_type": "stream",
     "text": [
      "C:\\Users\\sebar\\Anaconda3\\lib\\site-packages\\umap\\spectral.py:106: NumbaDeprecationWarning: \u001b[1mAn import was requested from a module that has moved location.\n",
      "Import of 'CPUDispatcher' requested from: 'numba.targets.registry', please update to use 'numba.core.registry' or pin to Numba version 0.48.0. This alias will not be present in Numba version 0.50.0.\u001b[0m\n",
      "  ) == numba.targets.registry.CPUDispatcher and scipy.sparse.isspmatrix(data):\n"
     ]
    }
   ],
   "source": [
    "umap_results = umap.UMAP(n_neighbors=5,\n",
    "                      min_dist=0.3,\n",
    "                      metric='correlation').fit_transform(token_df)"
   ]
  },
  {
   "cell_type": "code",
   "execution_count": 75,
   "metadata": {},
   "outputs": [
    {
     "data": {
      "image/png": "[encoded data removed]",
      "text/plain": [
       "<Figure size 720x360 with 1 Axes>"
      ]
     },
     "metadata": {},
     "output_type": "display_data"
    }
   ],
   "source": [
    "plt.figure(figsize=(10,5))\n",
    "plt.title(\"Umap with n_neighbors=7 and min_dist=1\")\n",
    "plt.scatter(umap_results[:, 0], umap_results[:, 1])\n",
    "plt.xticks([])\n",
    "plt.yticks([])\n",
    "plt.axis('off')\n",
    "plt.show()"
   ]
  },
  {
   "cell_type": "code",
   "execution_count": 76,
   "metadata": {},
   "outputs": [
    {
     "name": "stderr",
     "output_type": "stream",
     "text": [
      "C:\\Users\\sebar\\Anaconda3\\lib\\site-packages\\umap\\spectral.py:106: NumbaDeprecationWarning: \u001b[1mAn import was requested from a module that has moved location.\n",
      "Import of 'CPUDispatcher' requested from: 'numba.targets.registry', please update to use 'numba.core.registry' or pin to Numba version 0.48.0. This alias will not be present in Numba version 0.50.0.\u001b[0m\n",
      "  ) == numba.targets.registry.CPUDispatcher and scipy.sparse.isspmatrix(data):\n"
     ]
    }
   ],
   "source": [
    "umap_results = umap.UMAP(n_neighbors=3,\n",
    "                      min_dist=1,\n",
    "                      metric='correlation').fit_transform(token_df)"
   ]
  },
  {
   "cell_type": "code",
   "execution_count": 77,
   "metadata": {},
   "outputs": [
    {
     "data": {
      "image/png": "[encoded data removed]",
      "text/plain": [
       "<Figure size 720x360 with 1 Axes>"
      ]
     },
     "metadata": {},
     "output_type": "display_data"
    }
   ],
   "source": [
    "plt.figure(figsize=(10,5))\n",
    "plt.title(\"Umap with n_neighbors=3 and min_dist=1\")\n",
    "plt.scatter(umap_results[:, 0], umap_results[:, 1])\n",
    "plt.xticks([])\n",
    "plt.yticks([])\n",
    "plt.axis('off')\n",
    "plt.show()"
   ]
  },
  {
   "cell_type": "code",
   "execution_count": 78,
   "metadata": {},
   "outputs": [
    {
     "name": "stderr",
     "output_type": "stream",
     "text": [
      "C:\\Users\\sebar\\Anaconda3\\lib\\site-packages\\umap\\spectral.py:106: NumbaDeprecationWarning: \u001b[1mAn import was requested from a module that has moved location.\n",
      "Import of 'CPUDispatcher' requested from: 'numba.targets.registry', please update to use 'numba.core.registry' or pin to Numba version 0.48.0. This alias will not be present in Numba version 0.50.0.\u001b[0m\n",
      "  ) == numba.targets.registry.CPUDispatcher and scipy.sparse.isspmatrix(data):\n"
     ]
    }
   ],
   "source": [
    "umap_results = umap.UMAP(n_neighbors=7,\n",
    "                      min_dist=0.3,\n",
    "                      metric='correlation').fit_transform(token_df)"
   ]
  },
  {
   "cell_type": "code",
   "execution_count": 79,
   "metadata": {},
   "outputs": [
    {
     "data": {
      "image/png": "[encoded data removed]",
      "text/plain": [
       "<Figure size 720x360 with 1 Axes>"
      ]
     },
     "metadata": {},
     "output_type": "display_data"
    }
   ],
   "source": [
    "plt.figure(figsize=(10,5))\n",
    "plt.title(\"Umap with n_neighbors=7 and min_dist=0.3\")\n",
    "plt.scatter(umap_results[:, 0], umap_results[:, 1])\n",
    "plt.xticks([])\n",
    "plt.yticks([])\n",
    "plt.axis('off')\n",
    "plt.show()"
   ]
  },
  {
   "cell_type": "code",
   "execution_count": 80,
   "metadata": {},
   "outputs": [
    {
     "name": "stderr",
     "output_type": "stream",
     "text": [
      "C:\\Users\\sebar\\Anaconda3\\lib\\site-packages\\umap\\spectral.py:106: NumbaDeprecationWarning: \u001b[1mAn import was requested from a module that has moved location.\n",
      "Import of 'CPUDispatcher' requested from: 'numba.targets.registry', please update to use 'numba.core.registry' or pin to Numba version 0.48.0. This alias will not be present in Numba version 0.50.0.\u001b[0m\n",
      "  ) == numba.targets.registry.CPUDispatcher and scipy.sparse.isspmatrix(data):\n",
      "C:\\Users\\sebar\\Anaconda3\\lib\\site-packages\\umap\\spectral.py:252: UserWarning: WARNING: spectral initialisation failed! The eigenvector solver\n",
      "failed. This is likely due to too small an eigengap. Consider\n",
      "adding some noise or jitter to your data.\n",
      "\n",
      "Falling back to random initialisation!\n",
      "  \"WARNING: spectral initialisation failed! The eigenvector solver\\n\"\n"
     ]
    }
   ],
   "source": [
    "umap_results = umap.UMAP(n_neighbors=7,\n",
    "                      min_dist=1,\n",
    "                      metric='correlation').fit_transform(token_df)"
   ]
  },
  {
   "cell_type": "code",
   "execution_count": 81,
   "metadata": {},
   "outputs": [
    {
     "data": {
      "image/png": "[encoded data removed]",
      "text/plain": [
       "<Figure size 720x360 with 1 Axes>"
      ]
     },
     "metadata": {},
     "output_type": "display_data"
    }
   ],
   "source": [
    "plt.figure(figsize=(10,5))\n",
    "plt.title(\"Umap with n_neighbors=7 and min_dist=1\")\n",
    "plt.scatter(umap_results[:, 0], umap_results[:, 1])\n",
    "plt.xticks([])\n",
    "plt.yticks([])\n",
    "plt.axis('off')\n",
    "plt.show()"
   ]
  },
  {
   "cell_type": "markdown",
   "metadata": {},
   "source": [
    "I ran UMAP to evaluate the performance of this technique against PCA. We obtain a single cluster that is visually difficult to distinguish."
   ]
  },
  {
   "cell_type": "markdown",
   "metadata": {},
   "source": [
    "## Dimensionality Reduction with T-SNE"
   ]
  },
  {
   "cell_type": "code",
   "execution_count": 84,
   "metadata": {},
   "outputs": [
    {
     "name": "stdout",
     "output_type": "stream",
     "text": [
      "[t-SNE] Computing 121 nearest neighbors...\n",
      "[t-SNE] Indexed 10002 samples in 56.460s...\n",
      "[t-SNE] Computed neighbors for 10002 samples in 2814.700s...\n",
      "[t-SNE] Computed conditional probabilities for sample 1000 / 10002\n",
      "[t-SNE] Computed conditional probabilities for sample 2000 / 10002\n",
      "[t-SNE] Computed conditional probabilities for sample 3000 / 10002\n",
      "[t-SNE] Computed conditional probabilities for sample 4000 / 10002\n",
      "[t-SNE] Computed conditional probabilities for sample 5000 / 10002\n",
      "[t-SNE] Computed conditional probabilities for sample 6000 / 10002\n",
      "[t-SNE] Computed conditional probabilities for sample 7000 / 10002\n",
      "[t-SNE] Computed conditional probabilities for sample 8000 / 10002\n",
      "[t-SNE] Computed conditional probabilities for sample 9000 / 10002\n",
      "[t-SNE] Computed conditional probabilities for sample 10000 / 10002\n",
      "[t-SNE] Computed conditional probabilities for sample 10002 / 10002\n",
      "[t-SNE] Mean sigma: 0.000000\n",
      "[t-SNE] KL divergence after 250 iterations with early exaggeration: 131.344086\n",
      "[t-SNE] KL divergence after 300 iterations: 6.481775\n"
     ]
    },
    {
     "data": {
      "image/png": "[encoded data removed]",
      "text/plain": [
       "<Figure size 720x360 with 1 Axes>"
      ]
     },
     "metadata": {},
     "output_type": "display_data"
    }
   ],
   "source": [
    "tsne = TSNE(n_components=2, verbose=1, perplexity=40, n_iter=300)\n",
    "\n",
    "tsne_results = tsne.fit_transform(token_df)\n",
    "\n",
    "plt.figure(figsize=(10,5))\n",
    "plt.scatter(tsne_results[:, 0], tsne_results[:, 1])\n",
    "plt.xticks([])\n",
    "plt.yticks([])\n",
    "plt.axis('off')\n",
    "plt.show()"
   ]
  },
  {
   "cell_type": "markdown",
   "metadata": {},
   "source": [
    "T-SNE yields a visualization that would do better as contemporary art than a set of data clusters. Because of its computational inefficiency and its artful results, I decided to leave it here."
   ]
  },
  {
   "cell_type": "markdown",
   "metadata": {},
   "source": [
    "## Conclusion"
   ]
  },
  {
   "cell_type": "markdown",
   "metadata": {},
   "source": [
    "I chose to scrape my own dataset from Twitter as a learning experience and to cover an important contemporary topic. I scraped 10,002 unique tweets dated June 1st of this year and obtained data on uder IDs, publishing locations, handles and biographies. I processed the data by removing stopwords, unnecessary mentions and punctuation, as well as stemming, tokenizing and vectorizing the entire corpus.\n",
    "\n",
    "I attempted to use four different models to divide the tweets into meaningful clusters, succeeding on three counts. My best performing non-blackbox model was the 10-cluster KMeans, though it displayed a poor silhouette score of 0.016 in general terms. DBSCAN did not mesh well with our unlabelled data, as it kept identifying only a single cluster where more than one was necessary for calculating silhouette scores. One of our Gaussian Mixture models performed relatively well with a 0.05 score, though clustering at such low parameter values seemed arbitrary. Hierarchical clustering also offered generally poor results. In terms of dimensionality reduction, neither PCA, T-SNE or UMAP were able to produce clearly distinguishable clusters.\n",
    "\n",
    "Our best KMeans cluster, though poorly performing, yielded cluster groups that were fairly distinguishable by topic. As mentioned above, the conversations captured ranged from coverage of the crime committed against George Floyd, to discussion about memorial services, the White House's reaction to protests and actions taken by politicians like Mayor Jacob Frey. The kind of study I have carried out can be useful for non-profit organizations, think tanks or academics to understand what the world is saying about a particular cultural topic. It goes one layer deeper than Twitter's trending section, by stratifying primary trends into their component parts.\n",
    "\n",
    "This was my deep dive into Natural Language Processing. I have learned that scraped datasets in this domain can turn out to be incredibly sparse, for which larger datasets almost always tend to be better. Increasing cluster parameter numbers can also yield much better results and thus offer us clearer windows through which to understand what is being discussed on Twitter, and leverage this for business, academic study or simply for personal motivation."
   ]
  }
 ],
 "metadata": {
  "kernelspec": {
   "display_name": "Python 3",
   "language": "python",
   "name": "python3"
  },
  "language_info": {
   "codemirror_mode": {
    "name": "ipython",
    "version": 3
   },
   "file_extension": ".py",
   "mimetype": "text/x-python",
   "name": "python",
   "nbconvert_exporter": "python",
   "pygments_lexer": "ipython3",
   "version": "3.7.3"
  }
 },
 "nbformat": 4,
 "nbformat_minor": 4
}
